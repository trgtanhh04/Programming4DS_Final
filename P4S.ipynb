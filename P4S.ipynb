{
 "cells": [
  {
   "cell_type": "markdown",
   "metadata": {},
   "source": [
    "# Final Project: Global Football Data Analysis"
   ]
  },
  {
   "cell_type": "markdown",
   "metadata": {},
   "source": [
    "This is the final project for the course **\"Programming for Data Science\"** at the **Faculty of Information Technology**, **University of Science, Vietnam National University, Ho Chi Minh City**."
   ]
  },
  {
   "cell_type": "markdown",
   "metadata": {},
   "source": [
    "### Project Overview"
   ]
  },
  {
   "cell_type": "markdown",
   "metadata": {},
   "source": [
    "The project focuses on analyzing global football data to extract insights and patterns related to team performances, player statistics, and match outcomes.\n"
   ]
  },
  {
   "cell_type": "markdown",
   "metadata": {},
   "source": [
    "### GitHub Repository"
   ]
  },
  {
   "cell_type": "markdown",
   "metadata": {},
   "source": [
    "You can access the full project on GitHub:  \n",
    "[Global Football Data Analysis Repository](https://github.com/trgtanhh04/Programming4DS_Final)"
   ]
  },
  {
   "cell_type": "markdown",
   "metadata": {},
   "source": [
    "---"
   ]
  },
  {
   "cell_type": "markdown",
   "metadata": {},
   "source": [
    "Instructor: Phạm Trọng Nghĩa  \n",
    "\n",
    "Course: Programming for Data Science  \n",
    "\n",
    "Date: 12/2024"
   ]
  },
  {
   "cell_type": "markdown",
   "metadata": {},
   "source": [
    "---"
   ]
  },
  {
   "cell_type": "markdown",
   "metadata": {},
   "source": [
    "## Import"
   ]
  },
  {
   "cell_type": "code",
   "execution_count": 49,
   "metadata": {},
   "outputs": [],
   "source": [
    "import requests\n",
    "import numpy as np\n",
    "import pandas as pd\n",
    "from typing import List\n",
    "import os\n",
    "import seaborn as sns\n",
    "import matplotlib.pyplot as plt\n",
    "import urllib.robotparser"
   ]
  },
  {
   "cell_type": "markdown",
   "metadata": {},
   "source": [
    "---"
   ]
  },
  {
   "cell_type": "markdown",
   "metadata": {},
   "source": [
    "## Data collecting"
   ]
  },
  {
   "cell_type": "markdown",
   "metadata": {},
   "source": [
    "### What is the subject of your data?"
   ]
  },
  {
   "cell_type": "markdown",
   "metadata": {},
   "source": [
    "The data in this project is about **international football results**, covering match outcomes, teams, goals, and match dates."
   ]
  },
  {
   "cell_type": "markdown",
   "metadata": {},
   "source": [
    "### What is the source of your data?"
   ]
  },
  {
   "cell_type": "markdown",
   "metadata": {},
   "source": [
    "The data is sourced from Kaggle, available at:\n",
    "[International Football Results Dataset](https://www.kaggle.com/datasets/martj42/international-football-results-from-1872-to-2017?select=shootouts.csv)\n"
   ]
  },
  {
   "cell_type": "markdown",
   "metadata": {},
   "source": [
    "### Do the authors of this data allow you to use it like this?"
   ]
  },
  {
   "cell_type": "markdown",
   "metadata": {},
   "source": [
    "The authors of this data allow its use under the **Open Data License** (or other specific licenses depending on the data source). You can check the data license at the following link:\n",
    "- [Data License from Kaggle](https://creativecommons.org/publicdomain/zero/1.0/)"
   ]
  },
  {
   "cell_type": "markdown",
   "metadata": {},
   "source": [
    "### How did the authors collect the data?"
   ]
  },
  {
   "cell_type": "markdown",
   "metadata": {},
   "source": [
    "The data was collected using the following methods:\n",
    "- **Web scraping**: Collecting data from reputable sports websites.\n",
    "- **API**: Using public APIs from sports platforms to retrieve data.\n",
    "- **Surveys**: Gathering information from surveys and research reports on football."
   ]
  },
  {
   "cell_type": "markdown",
   "metadata": {},
   "source": [
    "---"
   ]
  },
  {
   "cell_type": "markdown",
   "metadata": {},
   "source": [
    "## Exploring data"
   ]
  },
  {
   "cell_type": "markdown",
   "metadata": {},
   "source": [
    "### Read raw data from file"
   ]
  },
  {
   "cell_type": "code",
   "execution_count": 50,
   "metadata": {},
   "outputs": [],
   "source": [
    "# YOUR CODE HERE\n",
    "raw_goal_scorers = pd.read_csv(\"Data/goalscorers.csv\")\n",
    "raw_results = pd.read_csv(\"Data/results.csv\")\n",
    "raw_shootouts = pd.read_csv(\"Data/shootouts.csv\")"
   ]
  },
  {
   "cell_type": "code",
   "execution_count": 51,
   "metadata": {},
   "outputs": [
    {
     "data": {
      "text/html": [
       "<div>\n",
       "<style scoped>\n",
       "    .dataframe tbody tr th:only-of-type {\n",
       "        vertical-align: middle;\n",
       "    }\n",
       "\n",
       "    .dataframe tbody tr th {\n",
       "        vertical-align: top;\n",
       "    }\n",
       "\n",
       "    .dataframe thead th {\n",
       "        text-align: right;\n",
       "    }\n",
       "</style>\n",
       "<table border=\"1\" class=\"dataframe\">\n",
       "  <thead>\n",
       "    <tr style=\"text-align: right;\">\n",
       "      <th></th>\n",
       "      <th>date</th>\n",
       "      <th>home_team</th>\n",
       "      <th>away_team</th>\n",
       "      <th>team</th>\n",
       "      <th>scorer</th>\n",
       "      <th>minute</th>\n",
       "      <th>own_goal</th>\n",
       "      <th>penalty</th>\n",
       "    </tr>\n",
       "  </thead>\n",
       "  <tbody>\n",
       "    <tr>\n",
       "      <th>0</th>\n",
       "      <td>1916-07-02</td>\n",
       "      <td>Chile</td>\n",
       "      <td>Uruguay</td>\n",
       "      <td>Uruguay</td>\n",
       "      <td>José Piendibene</td>\n",
       "      <td>44.0</td>\n",
       "      <td>False</td>\n",
       "      <td>False</td>\n",
       "    </tr>\n",
       "    <tr>\n",
       "      <th>1</th>\n",
       "      <td>1916-07-02</td>\n",
       "      <td>Chile</td>\n",
       "      <td>Uruguay</td>\n",
       "      <td>Uruguay</td>\n",
       "      <td>Isabelino Gradín</td>\n",
       "      <td>55.0</td>\n",
       "      <td>False</td>\n",
       "      <td>False</td>\n",
       "    </tr>\n",
       "    <tr>\n",
       "      <th>2</th>\n",
       "      <td>1916-07-02</td>\n",
       "      <td>Chile</td>\n",
       "      <td>Uruguay</td>\n",
       "      <td>Uruguay</td>\n",
       "      <td>Isabelino Gradín</td>\n",
       "      <td>70.0</td>\n",
       "      <td>False</td>\n",
       "      <td>False</td>\n",
       "    </tr>\n",
       "    <tr>\n",
       "      <th>3</th>\n",
       "      <td>1916-07-02</td>\n",
       "      <td>Chile</td>\n",
       "      <td>Uruguay</td>\n",
       "      <td>Uruguay</td>\n",
       "      <td>José Piendibene</td>\n",
       "      <td>75.0</td>\n",
       "      <td>False</td>\n",
       "      <td>False</td>\n",
       "    </tr>\n",
       "    <tr>\n",
       "      <th>4</th>\n",
       "      <td>1916-07-06</td>\n",
       "      <td>Argentina</td>\n",
       "      <td>Chile</td>\n",
       "      <td>Argentina</td>\n",
       "      <td>Alberto Ohaco</td>\n",
       "      <td>2.0</td>\n",
       "      <td>False</td>\n",
       "      <td>False</td>\n",
       "    </tr>\n",
       "  </tbody>\n",
       "</table>\n",
       "</div>"
      ],
      "text/plain": [
       "         date  home_team away_team       team            scorer  minute  \\\n",
       "0  1916-07-02      Chile   Uruguay    Uruguay   José Piendibene    44.0   \n",
       "1  1916-07-02      Chile   Uruguay    Uruguay  Isabelino Gradín    55.0   \n",
       "2  1916-07-02      Chile   Uruguay    Uruguay  Isabelino Gradín    70.0   \n",
       "3  1916-07-02      Chile   Uruguay    Uruguay   José Piendibene    75.0   \n",
       "4  1916-07-06  Argentina     Chile  Argentina     Alberto Ohaco     2.0   \n",
       "\n",
       "   own_goal  penalty  \n",
       "0     False    False  \n",
       "1     False    False  \n",
       "2     False    False  \n",
       "3     False    False  \n",
       "4     False    False  "
      ]
     },
     "execution_count": 51,
     "metadata": {},
     "output_type": "execute_result"
    }
   ],
   "source": [
    "raw_goal_scorers.head()"
   ]
  },
  {
   "cell_type": "code",
   "execution_count": 52,
   "metadata": {},
   "outputs": [
    {
     "data": {
      "text/html": [
       "<div>\n",
       "<style scoped>\n",
       "    .dataframe tbody tr th:only-of-type {\n",
       "        vertical-align: middle;\n",
       "    }\n",
       "\n",
       "    .dataframe tbody tr th {\n",
       "        vertical-align: top;\n",
       "    }\n",
       "\n",
       "    .dataframe thead th {\n",
       "        text-align: right;\n",
       "    }\n",
       "</style>\n",
       "<table border=\"1\" class=\"dataframe\">\n",
       "  <thead>\n",
       "    <tr style=\"text-align: right;\">\n",
       "      <th></th>\n",
       "      <th>date</th>\n",
       "      <th>home_team</th>\n",
       "      <th>away_team</th>\n",
       "      <th>home_score</th>\n",
       "      <th>away_score</th>\n",
       "      <th>tournament</th>\n",
       "      <th>city</th>\n",
       "      <th>country</th>\n",
       "      <th>neutral</th>\n",
       "    </tr>\n",
       "  </thead>\n",
       "  <tbody>\n",
       "    <tr>\n",
       "      <th>0</th>\n",
       "      <td>1872-11-30</td>\n",
       "      <td>Scotland</td>\n",
       "      <td>England</td>\n",
       "      <td>0</td>\n",
       "      <td>0</td>\n",
       "      <td>Friendly</td>\n",
       "      <td>Glasgow</td>\n",
       "      <td>Scotland</td>\n",
       "      <td>False</td>\n",
       "    </tr>\n",
       "    <tr>\n",
       "      <th>1</th>\n",
       "      <td>1873-03-08</td>\n",
       "      <td>England</td>\n",
       "      <td>Scotland</td>\n",
       "      <td>4</td>\n",
       "      <td>2</td>\n",
       "      <td>Friendly</td>\n",
       "      <td>London</td>\n",
       "      <td>England</td>\n",
       "      <td>False</td>\n",
       "    </tr>\n",
       "    <tr>\n",
       "      <th>2</th>\n",
       "      <td>1874-03-07</td>\n",
       "      <td>Scotland</td>\n",
       "      <td>England</td>\n",
       "      <td>2</td>\n",
       "      <td>1</td>\n",
       "      <td>Friendly</td>\n",
       "      <td>Glasgow</td>\n",
       "      <td>Scotland</td>\n",
       "      <td>False</td>\n",
       "    </tr>\n",
       "    <tr>\n",
       "      <th>3</th>\n",
       "      <td>1875-03-06</td>\n",
       "      <td>England</td>\n",
       "      <td>Scotland</td>\n",
       "      <td>2</td>\n",
       "      <td>2</td>\n",
       "      <td>Friendly</td>\n",
       "      <td>London</td>\n",
       "      <td>England</td>\n",
       "      <td>False</td>\n",
       "    </tr>\n",
       "    <tr>\n",
       "      <th>4</th>\n",
       "      <td>1876-03-04</td>\n",
       "      <td>Scotland</td>\n",
       "      <td>England</td>\n",
       "      <td>3</td>\n",
       "      <td>0</td>\n",
       "      <td>Friendly</td>\n",
       "      <td>Glasgow</td>\n",
       "      <td>Scotland</td>\n",
       "      <td>False</td>\n",
       "    </tr>\n",
       "  </tbody>\n",
       "</table>\n",
       "</div>"
      ],
      "text/plain": [
       "         date home_team away_team  home_score  away_score tournament     city  \\\n",
       "0  1872-11-30  Scotland   England           0           0   Friendly  Glasgow   \n",
       "1  1873-03-08   England  Scotland           4           2   Friendly   London   \n",
       "2  1874-03-07  Scotland   England           2           1   Friendly  Glasgow   \n",
       "3  1875-03-06   England  Scotland           2           2   Friendly   London   \n",
       "4  1876-03-04  Scotland   England           3           0   Friendly  Glasgow   \n",
       "\n",
       "    country  neutral  \n",
       "0  Scotland    False  \n",
       "1   England    False  \n",
       "2  Scotland    False  \n",
       "3   England    False  \n",
       "4  Scotland    False  "
      ]
     },
     "execution_count": 52,
     "metadata": {},
     "output_type": "execute_result"
    }
   ],
   "source": [
    "raw_results.head()"
   ]
  },
  {
   "cell_type": "code",
   "execution_count": 53,
   "metadata": {},
   "outputs": [
    {
     "data": {
      "text/html": [
       "<div>\n",
       "<style scoped>\n",
       "    .dataframe tbody tr th:only-of-type {\n",
       "        vertical-align: middle;\n",
       "    }\n",
       "\n",
       "    .dataframe tbody tr th {\n",
       "        vertical-align: top;\n",
       "    }\n",
       "\n",
       "    .dataframe thead th {\n",
       "        text-align: right;\n",
       "    }\n",
       "</style>\n",
       "<table border=\"1\" class=\"dataframe\">\n",
       "  <thead>\n",
       "    <tr style=\"text-align: right;\">\n",
       "      <th></th>\n",
       "      <th>date</th>\n",
       "      <th>home_team</th>\n",
       "      <th>away_team</th>\n",
       "      <th>winner</th>\n",
       "      <th>first_shooter</th>\n",
       "    </tr>\n",
       "  </thead>\n",
       "  <tbody>\n",
       "    <tr>\n",
       "      <th>0</th>\n",
       "      <td>1967-08-22</td>\n",
       "      <td>India</td>\n",
       "      <td>Taiwan</td>\n",
       "      <td>Taiwan</td>\n",
       "      <td>NaN</td>\n",
       "    </tr>\n",
       "    <tr>\n",
       "      <th>1</th>\n",
       "      <td>1971-11-14</td>\n",
       "      <td>South Korea</td>\n",
       "      <td>Vietnam Republic</td>\n",
       "      <td>South Korea</td>\n",
       "      <td>NaN</td>\n",
       "    </tr>\n",
       "    <tr>\n",
       "      <th>2</th>\n",
       "      <td>1972-05-07</td>\n",
       "      <td>South Korea</td>\n",
       "      <td>Iraq</td>\n",
       "      <td>Iraq</td>\n",
       "      <td>NaN</td>\n",
       "    </tr>\n",
       "    <tr>\n",
       "      <th>3</th>\n",
       "      <td>1972-05-17</td>\n",
       "      <td>Thailand</td>\n",
       "      <td>South Korea</td>\n",
       "      <td>South Korea</td>\n",
       "      <td>NaN</td>\n",
       "    </tr>\n",
       "    <tr>\n",
       "      <th>4</th>\n",
       "      <td>1972-05-19</td>\n",
       "      <td>Thailand</td>\n",
       "      <td>Cambodia</td>\n",
       "      <td>Thailand</td>\n",
       "      <td>NaN</td>\n",
       "    </tr>\n",
       "  </tbody>\n",
       "</table>\n",
       "</div>"
      ],
      "text/plain": [
       "         date    home_team         away_team       winner first_shooter\n",
       "0  1967-08-22        India            Taiwan       Taiwan           NaN\n",
       "1  1971-11-14  South Korea  Vietnam Republic  South Korea           NaN\n",
       "2  1972-05-07  South Korea              Iraq         Iraq           NaN\n",
       "3  1972-05-17     Thailand       South Korea  South Korea           NaN\n",
       "4  1972-05-19     Thailand          Cambodia     Thailand           NaN"
      ]
     },
     "execution_count": 53,
     "metadata": {},
     "output_type": "execute_result"
    }
   ],
   "source": [
    "raw_shootouts.head()"
   ]
  },
  {
   "cell_type": "markdown",
   "metadata": {},
   "source": [
    "### How many rows and how many columns?"
   ]
  },
  {
   "cell_type": "markdown",
   "metadata": {},
   "source": [
    "We will alculate the number of rows and columns of three DataFrames `raw_goal_scorers`, `raw_results` and `raw_shootouts`. Then, store it in the variable `shape_goal_scorers`, `shape_results` and `shape_shootouts`"
   ]
  },
  {
   "cell_type": "code",
   "execution_count": 54,
   "metadata": {},
   "outputs": [],
   "source": [
    "# YOUR CODE HERE\n",
    "shape_goal_scorers = raw_goal_scorers.shape\n",
    "shape_results = raw_results.shape\n",
    "shape_shootouts = raw_shootouts.shape"
   ]
  },
  {
   "cell_type": "code",
   "execution_count": 55,
   "metadata": {},
   "outputs": [
    {
     "name": "stdout",
     "output_type": "stream",
     "text": [
      "Goal scorers shape: (44362, 8)\n",
      "Results shape: (47917, 9)\n",
      "Shootouts shape: (645, 5)\n"
     ]
    }
   ],
   "source": [
    "print(f\"Goal scorers shape: {shape_goal_scorers}\")\n",
    "print(f\"Results shape: {shape_results}\")\n",
    "print(f\"Shootouts shape: {shape_shootouts}\")"
   ]
  },
  {
   "cell_type": "markdown",
   "metadata": {},
   "source": [
    "### What does each line mean? Does it matter if the lines have different meanings?"
   ]
  },
  {
   "cell_type": "markdown",
   "metadata": {},
   "source": [
    "- Tất cả các dòng trong các file CSV này đều mô tả các trận đấu bóng đá từ các khía cạnh khác nhau: bàn thắng ghi được, kết quả trận đấu và các trận đấu có loạt sút penalty. Mỗi dòng cung cấp các thông tin chi tiết giúp ta phân tích và theo dõi các trận đấu, cầu thủ ghi bàn, tỉ số, và những chi tiết đặc biệt như sút penalty.\n",
    "- Việc các dòng trong mỗi file phải có ý nghĩa và cấu trúc nhất quán theo từng cột là rất quan trọng. Điều này đảm bảo tính toàn vẹn của dữ liệu, tránh các lỗi phân tích và cho phép xử lý dữ liệu một cách suôn sẻ. Nếu dữ liệu trong một file bị trộn lẫn giữa các loại thông tin khác nhau, nó sẽ làm mất đi mục đích của dữ liệu và dẫn đến các kết luận sai lệch hoặc phân tích không chính xác."
   ]
  },
  {
   "cell_type": "markdown",
   "metadata": {},
   "source": [
    "### Does the raw data have duplicate rows?"
   ]
  },
  {
   "cell_type": "markdown",
   "metadata": {},
   "source": [
    "We will calculate the number of rows with duplicate indexes and store it in the variable `goal_scorers_duplicated` and `results_duplicated` and `shootouts_duplicated`."
   ]
  },
  {
   "cell_type": "code",
   "execution_count": 56,
   "metadata": {},
   "outputs": [],
   "source": [
    "goal_scorers_duplicated = len(raw_goal_scorers[raw_goal_scorers.duplicated()])\n",
    "results_duplicated = len(raw_results[raw_results.duplicated()])\n",
    "shootouts_duplicated = len(raw_shootouts[raw_shootouts.duplicated()])"
   ]
  },
  {
   "cell_type": "code",
   "execution_count": 57,
   "metadata": {},
   "outputs": [
    {
     "name": "stdout",
     "output_type": "stream",
     "text": [
      "Goal scorers data have 82 duplicated lines!\n",
      "Results data have no duplicated line.!\n",
      "Shootouts data have no duplicated line.!\n"
     ]
    }
   ],
   "source": [
    "def check_duplicates(file_name, duplicated_count):\n",
    "    if duplicated_count == 0:\n",
    "        print(f\"{file_name} data have no duplicated line.!\")\n",
    "    else:\n",
    "        ext = \"lines\" if duplicated_count > 1 else \"line\"\n",
    "        print(f\"{file_name} data have {duplicated_count} duplicated {ext}!\")\n",
    "\n",
    "# Kiểm tra từng file\n",
    "check_duplicates(\"Goal scorers\", goal_scorers_duplicated)\n",
    "check_duplicates(\"Results\", results_duplicated)\n",
    "check_duplicates(\"Shootouts\", shootouts_duplicated)"
   ]
  },
  {
   "cell_type": "code",
   "execution_count": 58,
   "metadata": {},
   "outputs": [],
   "source": [
    "#de-deduplicate Goal scorers data.\n",
    "raw_goal_scorers.drop_duplicates(keep=False, inplace=True)"
   ]
  },
  {
   "cell_type": "markdown",
   "metadata": {},
   "source": [
    "### What does each column mean?"
   ]
  },
  {
   "cell_type": "markdown",
   "metadata": {},
   "source": [
    "#### Báo cáo dữ liệu bóng đá\n",
    "\n",
    "Dưới đây là các bảng mô tả dữ liệu từ ba tệp CSV: **Goal Scorers**, **Results** và **Shootouts**.\n",
    "\n",
    "<table style=\"width:48%; float:left; padding-right:10px; border: 1px solid black; border-collapse: collapse;\">\n",
    "  <caption><strong>Goal Scorers</strong></caption>\n",
    "  <tr>\n",
    "    <th style=\"border: 1px solid black;\">Column</th>\n",
    "    <th style=\"border: 1px solid black;\">Description</th>\n",
    "  </tr>\n",
    "  <tr>\n",
    "    <td style=\"border: 1px solid black;\">date</td>\n",
    "    <td style=\"border: 1px solid black;\">Ngày diễn ra trận đấu.</td>\n",
    "  </tr>\n",
    "  <tr>\n",
    "    <td style=\"border: 1px solid black;\">home_team</td>\n",
    "    <td style=\"border: 1px solid black;\">Tên đội chủ nhà.</td>\n",
    "  </tr>\n",
    "  <tr>\n",
    "    <td style=\"border: 1px solid black;\">away_team</td>\n",
    "    <td style=\"border: 1px solid black;\">Tên đội khách.</td>\n",
    "  </tr>\n",
    "  <tr>\n",
    "    <td style=\"border: 1px solid black;\">team</td>\n",
    "    <td style=\"border: 1px solid black;\">Tên đội ghi bàn thắng.</td>\n",
    "  </tr>\n",
    "  <tr>\n",
    "    <td style=\"border: 1px solid black;\">scorer</td>\n",
    "    <td style=\"border: 1px solid black;\">Tên của cầu thủ ghi bàn.</td>\n",
    "  </tr>\n",
    "  <tr>\n",
    "    <td style=\"border: 1px solid black;\">minute</td>\n",
    "    <td style=\"border: 1px solid black;\">Phút ghi bàn.</td>\n",
    "  </tr>\n",
    "  <tr>\n",
    "    <td style=\"border: 1px solid black;\">own_goal</td>\n",
    "    <td style=\"border: 1px solid black;\">Liệu bàn thắng có phải là phản lưới nhà không.</td>\n",
    "  </tr>\n",
    "  <tr>\n",
    "    <td style=\"border: 1px solid black;\">penalty</td>\n",
    "    <td style=\"border: 1px solid black;\">Liệu bàn thắng có phải là quả phạt đền không.</td>\n",
    "  </tr>\n",
    "</table>\n",
    "\n",
    "<table style=\"width:48%; float:left; border: 1px solid black; border-collapse: collapse;\">\n",
    "  <caption><strong>Results</strong></caption>\n",
    "  <tr>\n",
    "    <th style=\"border: 1px solid black;\">Column</th>\n",
    "    <th style=\"border: 1px solid black;\">Description</th>\n",
    "  </tr>\n",
    "  <tr>\n",
    "    <td style=\"border: 1px solid black;\">date</td>\n",
    "    <td style=\"border: 1px solid black;\">Ngày diễn ra trận đấu.</td>\n",
    "  </tr>\n",
    "  <tr>\n",
    "    <td style=\"border: 1px solid black;\">home_team</td>\n",
    "    <td style=\"border: 1px solid black;\">Tên đội chủ nhà.</td>\n",
    "  </tr>\n",
    "  <tr>\n",
    "    <td style=\"border: 1px solid black;\">away_team</td>\n",
    "    <td style=\"border: 1px solid black;\">Tên đội khách.</td>\n",
    "  </tr>\n",
    "  <tr>\n",
    "    <td style=\"border: 1px solid black;\">home_score</td>\n",
    "    <td style=\"border: 1px solid black;\">Tỷ số toàn trận của đội chủ nhà bao gồm cả hiệp phụ, không bao gồm loạt sút penalty.</td>\n",
    "  </tr>\n",
    "  <tr>\n",
    "    <td style=\"border: 1px solid black;\">away_score</td>\n",
    "    <td style=\"border: 1px solid black;\">Tỷ số toàn trận của đội khách bao gồm cả hiệp phụ, không bao gồm loạt sút penalty.</td>\n",
    "  </tr>\n",
    "  <tr>\n",
    "    <td style=\"border: 1px solid black;\">tournament</td>\n",
    "    <td style=\"border: 1px solid black;\">Tên giải đấu.</td>\n",
    "  </tr>\n",
    "  <tr>\n",
    "    <td style=\"border: 1px solid black;\">city</td>\n",
    "    <td style=\"border: 1px solid black;\">Thành phố nơi diễn ra trận đấu.</td>\n",
    "  </tr>\n",
    "  <tr>\n",
    "    <td style=\"border: 1px solid black;\">country</td>\n",
    "    <td style=\"border: 1px solid black;\">Quốc gia nơi diễn ra trận đấu.</td>\n",
    "  </tr>\n",
    "  <tr>\n",
    "    <td style=\"border: 1px solid black;\">neutral</td>\n",
    "    <td style=\"border: 1px solid black;\">Cột True/False cho biết trận đấu có diễn ra tại sân trung lập (không phải sân nhà của đội nào) hay không.</td>\n",
    "  </tr>\n",
    "</table>\n",
    "\n",
    "<br style=\"clear: both;\">\n",
    "\n",
    "<table style=\"width:48%; float:left; padding-right:10px; border: 1px solid black; border-collapse: collapse;\">\n",
    "  <caption><strong>Shootouts</strong></caption>\n",
    "  <tr>\n",
    "    <th style=\"border: 1px solid black;\">Column</th>\n",
    "    <th style=\"border: 1px solid black;\">Description</th>\n",
    "  </tr>\n",
    "  <tr>\n",
    "    <td style=\"border: 1px solid black;\">date</td>\n",
    "    <td style=\"border: 1px solid black;\">Ngày diễn ra trận đấu.</td>\n",
    "  </tr>\n",
    "  <tr>\n",
    "    <td style=\"border: 1px solid black;\">home_team</td>\n",
    "    <td style=\"border: 1px solid black;\">Tên đội chủ nhà.</td>\n",
    "  </tr>\n",
    "  <tr>\n",
    "    <td style=\"border: 1px solid black;\">away_team</td>\n",
    "    <td style=\"border: 1px solid black;\">Tên đội khách.</td>\n",
    "  </tr>\n",
    "  <tr>\n",
    "    <td style=\"border: 1px solid black;\">winner</td>\n",
    "    <td style=\"border: 1px solid black;\">Tên đội thắng cuộc trong loạt sút penalty.</td>\n",
    "  </tr>\n",
    "  <tr>\n",
    "    <td style=\"border: 1px solid black;\">first_shooter</td>\n",
    "    <td style=\"border: 1px solid black;\">Tên đội thực hiện cú sút penalty đầu tiên.</td>\n",
    "  </tr>\n",
    "</table>\n"
   ]
  },
  {
   "cell_type": "markdown",
   "metadata": {},
   "source": [
    "### What data type does each column currently have? Are there any columns whose data types are not suitable for further processing?"
   ]
  },
  {
   "cell_type": "markdown",
   "metadata": {},
   "source": [
    "We will calculate the data type (dtype) of each column in DataFrame `raw_goal_scorers`, `raw_results`, `raw_shootouts` and save the result into Series `dtypes_goal_scorers`, `dtypes_results`, `dtypes_shootouts` (This Series has the index as the column name)."
   ]
  },
  {
   "cell_type": "code",
   "execution_count": 59,
   "metadata": {},
   "outputs": [],
   "source": [
    "dtypes_dicts = {}\n",
    "\n",
    "def get_dtype(raw_df):\n",
    "    dtypes_dict = {}\n",
    "    for column in raw_df.columns:\n",
    "        dtypes_dict[column] = raw_df[column].dtype\n",
    "    return dtypes_dict\n",
    "\n",
    "# Tạo các dataframe và lưu lại dtypes vào dictionary\n",
    "dtypes_dicts['goal_scorers'] = get_dtype(raw_goal_scorers)\n",
    "dtypes_dicts['results'] = get_dtype(raw_results)\n",
    "dtypes_dicts['shootouts'] = get_dtype(raw_shootouts)\n",
    "\n",
    "# Chuyển các dictionary thành DataFrame\n",
    "dtypes_goal_scorers = pd.DataFrame(dtypes_dicts['goal_scorers'].items(), columns=['Column Name', 'Data Type']).set_index('Column Name')\n",
    "dtypes_results = pd.DataFrame(dtypes_dicts['results'].items(), columns=['Column Name', 'Data Type']).set_index('Column Name')\n",
    "dtypes_shootouts = pd.DataFrame(dtypes_dicts['shootouts'].items(), columns=['Column Name', 'Data Type']).set_index('Column Name')"
   ]
  },
  {
   "cell_type": "code",
   "execution_count": 60,
   "metadata": {},
   "outputs": [
    {
     "data": {
      "text/html": [
       "<div>\n",
       "<style scoped>\n",
       "    .dataframe tbody tr th:only-of-type {\n",
       "        vertical-align: middle;\n",
       "    }\n",
       "\n",
       "    .dataframe tbody tr th {\n",
       "        vertical-align: top;\n",
       "    }\n",
       "\n",
       "    .dataframe thead th {\n",
       "        text-align: right;\n",
       "    }\n",
       "</style>\n",
       "<table border=\"1\" class=\"dataframe\">\n",
       "  <thead>\n",
       "    <tr style=\"text-align: right;\">\n",
       "      <th></th>\n",
       "      <th>Data Type</th>\n",
       "    </tr>\n",
       "    <tr>\n",
       "      <th>Column Name</th>\n",
       "      <th></th>\n",
       "    </tr>\n",
       "  </thead>\n",
       "  <tbody>\n",
       "    <tr>\n",
       "      <th>date</th>\n",
       "      <td>object</td>\n",
       "    </tr>\n",
       "    <tr>\n",
       "      <th>home_team</th>\n",
       "      <td>object</td>\n",
       "    </tr>\n",
       "    <tr>\n",
       "      <th>away_team</th>\n",
       "      <td>object</td>\n",
       "    </tr>\n",
       "    <tr>\n",
       "      <th>team</th>\n",
       "      <td>object</td>\n",
       "    </tr>\n",
       "    <tr>\n",
       "      <th>scorer</th>\n",
       "      <td>object</td>\n",
       "    </tr>\n",
       "    <tr>\n",
       "      <th>minute</th>\n",
       "      <td>float64</td>\n",
       "    </tr>\n",
       "    <tr>\n",
       "      <th>own_goal</th>\n",
       "      <td>bool</td>\n",
       "    </tr>\n",
       "    <tr>\n",
       "      <th>penalty</th>\n",
       "      <td>bool</td>\n",
       "    </tr>\n",
       "  </tbody>\n",
       "</table>\n",
       "</div>"
      ],
      "text/plain": [
       "            Data Type\n",
       "Column Name          \n",
       "date           object\n",
       "home_team      object\n",
       "away_team      object\n",
       "team           object\n",
       "scorer         object\n",
       "minute        float64\n",
       "own_goal         bool\n",
       "penalty          bool"
      ]
     },
     "execution_count": 60,
     "metadata": {},
     "output_type": "execute_result"
    }
   ],
   "source": [
    "dtypes_goal_scorers"
   ]
  },
  {
   "cell_type": "code",
   "execution_count": 61,
   "metadata": {},
   "outputs": [
    {
     "data": {
      "text/html": [
       "<div>\n",
       "<style scoped>\n",
       "    .dataframe tbody tr th:only-of-type {\n",
       "        vertical-align: middle;\n",
       "    }\n",
       "\n",
       "    .dataframe tbody tr th {\n",
       "        vertical-align: top;\n",
       "    }\n",
       "\n",
       "    .dataframe thead th {\n",
       "        text-align: right;\n",
       "    }\n",
       "</style>\n",
       "<table border=\"1\" class=\"dataframe\">\n",
       "  <thead>\n",
       "    <tr style=\"text-align: right;\">\n",
       "      <th></th>\n",
       "      <th>Data Type</th>\n",
       "    </tr>\n",
       "    <tr>\n",
       "      <th>Column Name</th>\n",
       "      <th></th>\n",
       "    </tr>\n",
       "  </thead>\n",
       "  <tbody>\n",
       "    <tr>\n",
       "      <th>date</th>\n",
       "      <td>object</td>\n",
       "    </tr>\n",
       "    <tr>\n",
       "      <th>home_team</th>\n",
       "      <td>object</td>\n",
       "    </tr>\n",
       "    <tr>\n",
       "      <th>away_team</th>\n",
       "      <td>object</td>\n",
       "    </tr>\n",
       "    <tr>\n",
       "      <th>home_score</th>\n",
       "      <td>int64</td>\n",
       "    </tr>\n",
       "    <tr>\n",
       "      <th>away_score</th>\n",
       "      <td>int64</td>\n",
       "    </tr>\n",
       "    <tr>\n",
       "      <th>tournament</th>\n",
       "      <td>object</td>\n",
       "    </tr>\n",
       "    <tr>\n",
       "      <th>city</th>\n",
       "      <td>object</td>\n",
       "    </tr>\n",
       "    <tr>\n",
       "      <th>country</th>\n",
       "      <td>object</td>\n",
       "    </tr>\n",
       "    <tr>\n",
       "      <th>neutral</th>\n",
       "      <td>bool</td>\n",
       "    </tr>\n",
       "  </tbody>\n",
       "</table>\n",
       "</div>"
      ],
      "text/plain": [
       "            Data Type\n",
       "Column Name          \n",
       "date           object\n",
       "home_team      object\n",
       "away_team      object\n",
       "home_score      int64\n",
       "away_score      int64\n",
       "tournament     object\n",
       "city           object\n",
       "country        object\n",
       "neutral          bool"
      ]
     },
     "execution_count": 61,
     "metadata": {},
     "output_type": "execute_result"
    }
   ],
   "source": [
    "dtypes_results"
   ]
  },
  {
   "cell_type": "code",
   "execution_count": 62,
   "metadata": {},
   "outputs": [
    {
     "data": {
      "text/html": [
       "<div>\n",
       "<style scoped>\n",
       "    .dataframe tbody tr th:only-of-type {\n",
       "        vertical-align: middle;\n",
       "    }\n",
       "\n",
       "    .dataframe tbody tr th {\n",
       "        vertical-align: top;\n",
       "    }\n",
       "\n",
       "    .dataframe thead th {\n",
       "        text-align: right;\n",
       "    }\n",
       "</style>\n",
       "<table border=\"1\" class=\"dataframe\">\n",
       "  <thead>\n",
       "    <tr style=\"text-align: right;\">\n",
       "      <th></th>\n",
       "      <th>Data Type</th>\n",
       "    </tr>\n",
       "    <tr>\n",
       "      <th>Column Name</th>\n",
       "      <th></th>\n",
       "    </tr>\n",
       "  </thead>\n",
       "  <tbody>\n",
       "    <tr>\n",
       "      <th>date</th>\n",
       "      <td>object</td>\n",
       "    </tr>\n",
       "    <tr>\n",
       "      <th>home_team</th>\n",
       "      <td>object</td>\n",
       "    </tr>\n",
       "    <tr>\n",
       "      <th>away_team</th>\n",
       "      <td>object</td>\n",
       "    </tr>\n",
       "    <tr>\n",
       "      <th>winner</th>\n",
       "      <td>object</td>\n",
       "    </tr>\n",
       "    <tr>\n",
       "      <th>first_shooter</th>\n",
       "      <td>object</td>\n",
       "    </tr>\n",
       "  </tbody>\n",
       "</table>\n",
       "</div>"
      ],
      "text/plain": [
       "              Data Type\n",
       "Column Name            \n",
       "date             object\n",
       "home_team        object\n",
       "away_team        object\n",
       "winner           object\n",
       "first_shooter    object"
      ]
     },
     "execution_count": 62,
     "metadata": {},
     "output_type": "execute_result"
    }
   ],
   "source": [
    "dtypes_shootouts"
   ]
  },
  {
   "cell_type": "markdown",
   "metadata": {},
   "source": [
    "### For each column with numeric data type, how are the values distributed? "
   ]
  },
  {
   "cell_type": "markdown",
   "metadata": {},
   "source": [
    "For columns with numeric data types, you will calculate:\n",
    "- Percentage (from 0 to 100) of missing values\n",
    "- The min\n",
    "- The median\n",
    "- The max\n",
    "\n",
    "You will save the results to a DataFrame `num_col_info_df`, where:\n",
    "- The names of the columns are the names of the numeric columns in `raw_df`\n",
    "- Names of rows: \"min\", \"median\" , \"max\" , \"Percentage\"\n",
    "\n"
   ]
  },
  {
   "cell_type": "code",
   "execution_count": 66,
   "metadata": {},
   "outputs": [],
   "source": [
    "# YOUR CODE HERE"
   ]
  },
  {
   "cell_type": "markdown",
   "metadata": {},
   "source": [
    "### For each categorical column, how are the values distributed?"
   ]
  },
  {
   "cell_type": "markdown",
   "metadata": {},
   "source": [
    "For columns with non-numeric data types, you calculate:\n",
    "- Percentage (from 0 to 100) of missing values\n",
    "- Number of values (the values here are different values and we do not consider missing values): with columns whose type is categorical, it is a set with a finite number of categories. Directly counting the number of values in these columns doesn't make much sense, so it's better to count the number of elements of all types. (Số lượng các giá trị (các giá trị ở đây là các giá trị khác nhau và ta không xét giá trị thiếu): với cột mà có kiểu là categorical, nó là một tập hợp có số lượng hữu hạn các loại. Việc đếm trực tiếp số lượng các giá trị trong những cột này không có nhiều ý nghĩa, nên tốt hơn hết là mà sẽ đếm số lượng phần tử các loại.)\n",
    "- The percentage (from 0 to 100) of each value is sorted by decreasing percentage (we do not consider missing values, the ratio is the ratio compared to the number of non-missing values): you use a dictionary to store , key is the value, value is the percentage; With the column corresponding to each type, the method is similar to above.\n",
    "\n",
    "You will save the results to DataFrame `cat_col_info_df`, where:\n",
    "- The names of the columns are the names of the non-numeric columns in `raw_df`\n",
    "- The names of the lines are: \"missing_ratio\", \"num_values\", \"value_ratios\""
   ]
  },
  {
   "cell_type": "markdown",
   "metadata": {},
   "source": [
    "** Xét `raw_results`"
   ]
  },
  {
   "cell_type": "code",
   "execution_count": 67,
   "metadata": {},
   "outputs": [
    {
     "data": {
      "text/html": [
       "<div>\n",
       "<style scoped>\n",
       "    .dataframe tbody tr th:only-of-type {\n",
       "        vertical-align: middle;\n",
       "    }\n",
       "\n",
       "    .dataframe tbody tr th {\n",
       "        vertical-align: top;\n",
       "    }\n",
       "\n",
       "    .dataframe thead th {\n",
       "        text-align: right;\n",
       "    }\n",
       "</style>\n",
       "<table border=\"1\" class=\"dataframe\">\n",
       "  <thead>\n",
       "    <tr style=\"text-align: right;\">\n",
       "      <th></th>\n",
       "      <th>missing_ratio</th>\n",
       "      <th>num_value</th>\n",
       "      <th>value_ratio</th>\n",
       "    </tr>\n",
       "  </thead>\n",
       "  <tbody>\n",
       "    <tr>\n",
       "      <th>date</th>\n",
       "      <td>0.0</td>\n",
       "      <td>16228</td>\n",
       "      <td>2012-02-29    0.137738\n",
       "2016-03-29    0.133564\n",
       "...</td>\n",
       "    </tr>\n",
       "    <tr>\n",
       "      <th>home_team</th>\n",
       "      <td>0.0</td>\n",
       "      <td>327</td>\n",
       "      <td>Brazil         1.262600\n",
       "Argentina      1.24173...</td>\n",
       "    </tr>\n",
       "    <tr>\n",
       "      <th>away_team</th>\n",
       "      <td>0.0</td>\n",
       "      <td>321</td>\n",
       "      <td>Uruguay      1.199992\n",
       "Sweden       1.162427\n",
       "En...</td>\n",
       "    </tr>\n",
       "    <tr>\n",
       "      <th>tournament</th>\n",
       "      <td>0.0</td>\n",
       "      <td>176</td>\n",
       "      <td>Friendly                                37.648...</td>\n",
       "    </tr>\n",
       "    <tr>\n",
       "      <th>city</th>\n",
       "      <td>0.0</td>\n",
       "      <td>2080</td>\n",
       "      <td>Kuala Lumpur    1.523468\n",
       "Bangkok         1.197...</td>\n",
       "    </tr>\n",
       "    <tr>\n",
       "      <th>country</th>\n",
       "      <td>0.0</td>\n",
       "      <td>270</td>\n",
       "      <td>United States          2.936327\n",
       "France        ...</td>\n",
       "    </tr>\n",
       "    <tr>\n",
       "      <th>neutral</th>\n",
       "      <td>0.0</td>\n",
       "      <td>2</td>\n",
       "      <td>False    73.687835\n",
       "True     26.312165\n",
       "Name: ne...</td>\n",
       "    </tr>\n",
       "  </tbody>\n",
       "</table>\n",
       "</div>"
      ],
      "text/plain": [
       "            missing_ratio  num_value  \\\n",
       "date                  0.0      16228   \n",
       "home_team             0.0        327   \n",
       "away_team             0.0        321   \n",
       "tournament            0.0        176   \n",
       "city                  0.0       2080   \n",
       "country               0.0        270   \n",
       "neutral               0.0          2   \n",
       "\n",
       "                                                  value_ratio  \n",
       "date        2012-02-29    0.137738\n",
       "2016-03-29    0.133564\n",
       "...  \n",
       "home_team   Brazil         1.262600\n",
       "Argentina      1.24173...  \n",
       "away_team   Uruguay      1.199992\n",
       "Sweden       1.162427\n",
       "En...  \n",
       "tournament  Friendly                                37.648...  \n",
       "city        Kuala Lumpur    1.523468\n",
       "Bangkok         1.197...  \n",
       "country     United States          2.936327\n",
       "France        ...  \n",
       "neutral     False    73.687835\n",
       "True     26.312165\n",
       "Name: ne...  "
      ]
     },
     "execution_count": 67,
     "metadata": {},
     "output_type": "execute_result"
    }
   ],
   "source": [
    "# YOUR CODE HERE\n",
    "#chọn các cột kiểu categorical \n",
    "cate_cols = raw_results.select_dtypes(exclude=['number']).columns\n",
    "cate_col_info = {}\n",
    "\n",
    "for col in cate_cols:\n",
    "    # ti le bị NaN\n",
    "    missing_ratio = raw_results[col].isna().mean() * 100\n",
    "    # So luong gia tri\n",
    "    num_value = raw_results[col].nunique()\n",
    "    #phan tram moi gia tri\n",
    "    value_counts = raw_results[col].value_counts(dropna = True)\n",
    "    value_ratios = (value_counts / value_counts.sum()) * 100\n",
    "    cate_col_info[col] = {\n",
    "        'missing_ratio': missing_ratio,\n",
    "        'num_value': num_value,\n",
    "        'value_ratio': value_ratios\n",
    "    }\n",
    "# chuyển thành dataframe\n",
    "cate_col_info_df = pd.DataFrame.from_dict(cate_col_info, orient = 'index')\n",
    "cate_col_info_df"
   ]
  },
  {
   "cell_type": "markdown",
   "metadata": {},
   "source": [
    "***Nhận xét: Dữ liệu từ results.csv rất tốt vì không có dữ liệu nào bị mất. Phần bổ dữ liệu cũng rất hợp lý\n"
   ]
  },
  {
   "cell_type": "markdown",
   "metadata": {},
   "source": [
    "** Xét `raw_goalscores`"
   ]
  },
  {
   "cell_type": "code",
   "execution_count": 68,
   "metadata": {},
   "outputs": [
    {
     "data": {
      "text/html": [
       "<div>\n",
       "<style scoped>\n",
       "    .dataframe tbody tr th:only-of-type {\n",
       "        vertical-align: middle;\n",
       "    }\n",
       "\n",
       "    .dataframe tbody tr th {\n",
       "        vertical-align: top;\n",
       "    }\n",
       "\n",
       "    .dataframe thead th {\n",
       "        text-align: right;\n",
       "    }\n",
       "</style>\n",
       "<table border=\"1\" class=\"dataframe\">\n",
       "  <thead>\n",
       "    <tr style=\"text-align: right;\">\n",
       "      <th></th>\n",
       "      <th>missing_ratio</th>\n",
       "      <th>num_value</th>\n",
       "      <th>value_ratio</th>\n",
       "    </tr>\n",
       "  </thead>\n",
       "  <tbody>\n",
       "    <tr>\n",
       "      <th>date</th>\n",
       "      <td>0.000000</td>\n",
       "      <td>4630</td>\n",
       "      <td>2011-10-11    0.327802\n",
       "2008-10-11    0.307456\n",
       "...</td>\n",
       "    </tr>\n",
       "    <tr>\n",
       "      <th>home_team</th>\n",
       "      <td>0.000000</td>\n",
       "      <td>220</td>\n",
       "      <td>Brazil              2.312701\n",
       "Argentina        ...</td>\n",
       "    </tr>\n",
       "    <tr>\n",
       "      <th>away_team</th>\n",
       "      <td>0.000000</td>\n",
       "      <td>220</td>\n",
       "      <td>Uruguay          1.779174\n",
       "Paraguay         1.4...</td>\n",
       "    </tr>\n",
       "    <tr>\n",
       "      <th>team</th>\n",
       "      <td>0.000000</td>\n",
       "      <td>220</td>\n",
       "      <td>Brazil           2.376000\n",
       "Germany          2.2...</td>\n",
       "    </tr>\n",
       "    <tr>\n",
       "      <th>scorer</th>\n",
       "      <td>0.006782</td>\n",
       "      <td>14324</td>\n",
       "      <td>Cristiano Ronaldo       0.244173\n",
       "Robert Lewand...</td>\n",
       "    </tr>\n",
       "    <tr>\n",
       "      <th>own_goal</th>\n",
       "      <td>0.000000</td>\n",
       "      <td>2</td>\n",
       "      <td>False    98.143962\n",
       "True      1.856038\n",
       "Name: ow...</td>\n",
       "    </tr>\n",
       "    <tr>\n",
       "      <th>penalty</th>\n",
       "      <td>0.000000</td>\n",
       "      <td>2</td>\n",
       "      <td>False    93.303793\n",
       "True      6.696207\n",
       "Name: pe...</td>\n",
       "    </tr>\n",
       "  </tbody>\n",
       "</table>\n",
       "</div>"
      ],
      "text/plain": [
       "           missing_ratio  num_value  \\\n",
       "date            0.000000       4630   \n",
       "home_team       0.000000        220   \n",
       "away_team       0.000000        220   \n",
       "team            0.000000        220   \n",
       "scorer          0.006782      14324   \n",
       "own_goal        0.000000          2   \n",
       "penalty         0.000000          2   \n",
       "\n",
       "                                                 value_ratio  \n",
       "date       2011-10-11    0.327802\n",
       "2008-10-11    0.307456\n",
       "...  \n",
       "home_team  Brazil              2.312701\n",
       "Argentina        ...  \n",
       "away_team  Uruguay          1.779174\n",
       "Paraguay         1.4...  \n",
       "team       Brazil           2.376000\n",
       "Germany          2.2...  \n",
       "scorer     Cristiano Ronaldo       0.244173\n",
       "Robert Lewand...  \n",
       "own_goal   False    98.143962\n",
       "True      1.856038\n",
       "Name: ow...  \n",
       "penalty    False    93.303793\n",
       "True      6.696207\n",
       "Name: pe...  "
      ]
     },
     "execution_count": 68,
     "metadata": {},
     "output_type": "execute_result"
    }
   ],
   "source": [
    "#chọn các cột kiểu categorical \n",
    "cate_cols = raw_goal_scorers.select_dtypes(exclude=['number']).columns\n",
    "cate_col_info = {}\n",
    "\n",
    "for col in cate_cols:\n",
    "    # ti le bị NaN\n",
    "    missing_ratio = raw_goal_scorers[col].isna().mean() * 100\n",
    "    # So luong gia tri\n",
    "    num_value = raw_goal_scorers[col].nunique()\n",
    "    #phan tram moi gia tri\n",
    "    value_counts = raw_goal_scorers[col].value_counts(dropna = True)\n",
    "    value_ratios = (value_counts / value_counts.sum()) * 100\n",
    "    cate_col_info[col] = {\n",
    "        'missing_ratio': missing_ratio,\n",
    "        'num_value': num_value,\n",
    "        'value_ratio': value_ratios\n",
    "    }\n",
    "# chuyển thành dataframe\n",
    "cate_col_info_df = pd.DataFrame.from_dict(cate_col_info, orient = 'index')\n",
    "cate_col_info_df"
   ]
  },
  {
   "cell_type": "markdown",
   "metadata": {},
   "source": [
    "***Nhận xét: Dữ liệu từ `goalscorers.csv` rất tốt vì chỉ có ở cột người ghi bàn ở một trận có kết quả 0-0 là NaN, đó là điều bình thường, còn lại không có dữ liệu nào bị mất. Phần bổ dữ liệu cũng rất hợp lý\n"
   ]
  },
  {
   "cell_type": "markdown",
   "metadata": {},
   "source": [
    "** Xét `raw_shootouts`\n"
   ]
  },
  {
   "cell_type": "code",
   "execution_count": 69,
   "metadata": {},
   "outputs": [
    {
     "data": {
      "text/html": [
       "<div>\n",
       "<style scoped>\n",
       "    .dataframe tbody tr th:only-of-type {\n",
       "        vertical-align: middle;\n",
       "    }\n",
       "\n",
       "    .dataframe tbody tr th {\n",
       "        vertical-align: top;\n",
       "    }\n",
       "\n",
       "    .dataframe thead th {\n",
       "        text-align: right;\n",
       "    }\n",
       "</style>\n",
       "<table border=\"1\" class=\"dataframe\">\n",
       "  <thead>\n",
       "    <tr style=\"text-align: right;\">\n",
       "      <th></th>\n",
       "      <th>missing_ratio</th>\n",
       "      <th>num_value</th>\n",
       "      <th>value_ratio</th>\n",
       "    </tr>\n",
       "  </thead>\n",
       "  <tbody>\n",
       "    <tr>\n",
       "      <th>date</th>\n",
       "      <td>0.000000</td>\n",
       "      <td>568</td>\n",
       "      <td>2016-06-03    0.775194\n",
       "2024-03-26    0.775194\n",
       "...</td>\n",
       "    </tr>\n",
       "    <tr>\n",
       "      <th>home_team</th>\n",
       "      <td>0.000000</td>\n",
       "      <td>181</td>\n",
       "      <td>South Africa      2.790698\n",
       "Zambia            2...</td>\n",
       "    </tr>\n",
       "    <tr>\n",
       "      <th>away_team</th>\n",
       "      <td>0.000000</td>\n",
       "      <td>190</td>\n",
       "      <td>Egypt                  2.325581\n",
       "Uganda        ...</td>\n",
       "    </tr>\n",
       "    <tr>\n",
       "      <th>winner</th>\n",
       "      <td>0.000000</td>\n",
       "      <td>175</td>\n",
       "      <td>Argentina      2.325581\n",
       "South Korea    2.32558...</td>\n",
       "    </tr>\n",
       "    <tr>\n",
       "      <th>first_shooter</th>\n",
       "      <td>64.341085</td>\n",
       "      <td>87</td>\n",
       "      <td>Colombia                  4.782609\n",
       "Italy      ...</td>\n",
       "    </tr>\n",
       "  </tbody>\n",
       "</table>\n",
       "</div>"
      ],
      "text/plain": [
       "               missing_ratio  num_value  \\\n",
       "date                0.000000        568   \n",
       "home_team           0.000000        181   \n",
       "away_team           0.000000        190   \n",
       "winner              0.000000        175   \n",
       "first_shooter      64.341085         87   \n",
       "\n",
       "                                                     value_ratio  \n",
       "date           2016-06-03    0.775194\n",
       "2024-03-26    0.775194\n",
       "...  \n",
       "home_team      South Africa      2.790698\n",
       "Zambia            2...  \n",
       "away_team      Egypt                  2.325581\n",
       "Uganda        ...  \n",
       "winner         Argentina      2.325581\n",
       "South Korea    2.32558...  \n",
       "first_shooter  Colombia                  4.782609\n",
       "Italy      ...  "
      ]
     },
     "execution_count": 69,
     "metadata": {},
     "output_type": "execute_result"
    }
   ],
   "source": [
    "#chọn các cột kiểu categorical \n",
    "cate_cols = raw_shootouts.select_dtypes(exclude=['number']).columns\n",
    "cate_col_info = {}\n",
    "\n",
    "for col in cate_cols:\n",
    "    # ti le bị NaN\n",
    "    missing_ratio = raw_shootouts[col].isna().mean() * 100\n",
    "    # So luong gia tri\n",
    "    num_value = raw_shootouts[col].nunique()\n",
    "    #phan tram moi gia tri\n",
    "    value_counts = raw_shootouts[col].value_counts(dropna = True)\n",
    "    value_ratios = (value_counts / value_counts.sum()) * 100\n",
    "    cate_col_info[col] = {\n",
    "        'missing_ratio': missing_ratio,\n",
    "        'num_value': num_value,\n",
    "        'value_ratio': value_ratios\n",
    "    }\n",
    "# chuyển thành dataframe\n",
    "cate_col_info_df = pd.DataFrame.from_dict(cate_col_info, orient = 'index')\n",
    "cate_col_info_df"
   ]
  },
  {
   "cell_type": "markdown",
   "metadata": {},
   "source": [
    "*** Nhận xét: Cột first_shooter bị thiếu dữ liệu quá nhiều, nên chúng em quyết định sẽ loại bỏ cột này."
   ]
  },
  {
   "cell_type": "code",
   "execution_count": 70,
   "metadata": {},
   "outputs": [
    {
     "data": {
      "text/html": [
       "<div>\n",
       "<style scoped>\n",
       "    .dataframe tbody tr th:only-of-type {\n",
       "        vertical-align: middle;\n",
       "    }\n",
       "\n",
       "    .dataframe tbody tr th {\n",
       "        vertical-align: top;\n",
       "    }\n",
       "\n",
       "    .dataframe thead th {\n",
       "        text-align: right;\n",
       "    }\n",
       "</style>\n",
       "<table border=\"1\" class=\"dataframe\">\n",
       "  <thead>\n",
       "    <tr style=\"text-align: right;\">\n",
       "      <th></th>\n",
       "      <th>date</th>\n",
       "      <th>home_team</th>\n",
       "      <th>away_team</th>\n",
       "      <th>winner</th>\n",
       "    </tr>\n",
       "  </thead>\n",
       "  <tbody>\n",
       "    <tr>\n",
       "      <th>0</th>\n",
       "      <td>1967-08-22</td>\n",
       "      <td>India</td>\n",
       "      <td>Taiwan</td>\n",
       "      <td>Taiwan</td>\n",
       "    </tr>\n",
       "    <tr>\n",
       "      <th>1</th>\n",
       "      <td>1971-11-14</td>\n",
       "      <td>South Korea</td>\n",
       "      <td>Vietnam Republic</td>\n",
       "      <td>South Korea</td>\n",
       "    </tr>\n",
       "    <tr>\n",
       "      <th>2</th>\n",
       "      <td>1972-05-07</td>\n",
       "      <td>South Korea</td>\n",
       "      <td>Iraq</td>\n",
       "      <td>Iraq</td>\n",
       "    </tr>\n",
       "    <tr>\n",
       "      <th>3</th>\n",
       "      <td>1972-05-17</td>\n",
       "      <td>Thailand</td>\n",
       "      <td>South Korea</td>\n",
       "      <td>South Korea</td>\n",
       "    </tr>\n",
       "    <tr>\n",
       "      <th>4</th>\n",
       "      <td>1972-05-19</td>\n",
       "      <td>Thailand</td>\n",
       "      <td>Cambodia</td>\n",
       "      <td>Thailand</td>\n",
       "    </tr>\n",
       "    <tr>\n",
       "      <th>...</th>\n",
       "      <td>...</td>\n",
       "      <td>...</td>\n",
       "      <td>...</td>\n",
       "      <td>...</td>\n",
       "    </tr>\n",
       "    <tr>\n",
       "      <th>640</th>\n",
       "      <td>2024-07-05</td>\n",
       "      <td>Venezuela</td>\n",
       "      <td>Canada</td>\n",
       "      <td>Canada</td>\n",
       "    </tr>\n",
       "    <tr>\n",
       "      <th>641</th>\n",
       "      <td>2024-07-06</td>\n",
       "      <td>England</td>\n",
       "      <td>Switzerland</td>\n",
       "      <td>England</td>\n",
       "    </tr>\n",
       "    <tr>\n",
       "      <th>642</th>\n",
       "      <td>2024-07-06</td>\n",
       "      <td>Uruguay</td>\n",
       "      <td>Brazil</td>\n",
       "      <td>Uruguay</td>\n",
       "    </tr>\n",
       "    <tr>\n",
       "      <th>643</th>\n",
       "      <td>2024-07-13</td>\n",
       "      <td>Canada</td>\n",
       "      <td>Uruguay</td>\n",
       "      <td>Uruguay</td>\n",
       "    </tr>\n",
       "    <tr>\n",
       "      <th>644</th>\n",
       "      <td>2024-09-08</td>\n",
       "      <td>Tajikistan</td>\n",
       "      <td>Philippines</td>\n",
       "      <td>Tajikistan</td>\n",
       "    </tr>\n",
       "  </tbody>\n",
       "</table>\n",
       "<p>645 rows × 4 columns</p>\n",
       "</div>"
      ],
      "text/plain": [
       "           date    home_team         away_team       winner\n",
       "0    1967-08-22        India            Taiwan       Taiwan\n",
       "1    1971-11-14  South Korea  Vietnam Republic  South Korea\n",
       "2    1972-05-07  South Korea              Iraq         Iraq\n",
       "3    1972-05-17     Thailand       South Korea  South Korea\n",
       "4    1972-05-19     Thailand          Cambodia     Thailand\n",
       "..          ...          ...               ...          ...\n",
       "640  2024-07-05    Venezuela            Canada       Canada\n",
       "641  2024-07-06      England       Switzerland      England\n",
       "642  2024-07-06      Uruguay            Brazil      Uruguay\n",
       "643  2024-07-13       Canada           Uruguay      Uruguay\n",
       "644  2024-09-08   Tajikistan       Philippines   Tajikistan\n",
       "\n",
       "[645 rows x 4 columns]"
      ]
     },
     "execution_count": 70,
     "metadata": {},
     "output_type": "execute_result"
    }
   ],
   "source": [
    "## Xóa cột `first_shooter`\n",
    "raw_shootouts = raw_shootouts.drop('first_shooter', axis = 1)\n",
    "raw_shootouts\n"
   ]
  },
  {
   "cell_type": "markdown",
   "metadata": {},
   "source": [
    "\n",
    "### Megre 3 dataframe\n",
    "Để tiện cho việc phân tích các dữ liệu có liên quan với nhau, nhóm chúng em sẽ merge 3 Dataframe trên.\n"
   ]
  },
  {
   "cell_type": "code",
   "execution_count": null,
   "metadata": {},
   "outputs": [],
   "source": [
    "merged_data = pd.merge(raw_results, raw_goal_scorers, how= 'left', on = ['date', 'home_team', 'away_team'])\n",
    "merged_data = pd.merge(merged_data, raw_shootouts, how = 'left', on = ['date', 'home_team','away_team'])\n",
    "merged_data.head(20)     "
   ]
  },
  {
   "cell_type": "markdown",
   "metadata": {},
   "source": [
    "### Chuẩn hóa dữ liệu về đúng với kiểu của nó \n"
   ]
  },
  {
   "cell_type": "code",
   "execution_count": null,
   "metadata": {},
   "outputs": [],
   "source": [
    "#kiểu dữ liệu hiện tại\n",
    "merged_data.dtypes"
   ]
  },
  {
   "cell_type": "markdown",
   "metadata": {},
   "source": [
    "Có thể thấy rằng `date` chưa đúng kiểu dữ liệu"
   ]
  },
  {
   "cell_type": "code",
   "execution_count": null,
   "metadata": {},
   "outputs": [],
   "source": [
    "# chuyển ngày diễn ra trận đấu về kiểu dữ liệu `Date`\n",
    "merged_data['date']  = pd.to_datetime(merged_data['date'])\n",
    "merged_data.dtypes"
   ]
  },
  {
   "cell_type": "markdown",
   "metadata": {},
   "source": [
    "Lưu dữ liệu sau khi xử lý vào `all_data.csv`"
   ]
  },
  {
   "cell_type": "code",
   "execution_count": 73,
   "metadata": {},
   "outputs": [],
   "source": [
    "merged_data.to_csv('Data/all_data.csv')"
   ]
  },
  {
   "cell_type": "markdown",
   "metadata": {},
   "source": [
    "---"
   ]
  },
  {
   "cell_type": "markdown",
   "metadata": {},
   "source": [
    "### Preprocessing + analyzing data to answer each question"
   ]
  },
  {
   "cell_type": "markdown",
   "metadata": {},
   "source": [
    "**Question is:**  câu hỏi của mình nha\n",
    "\n",
    "**Answering this question will**: lợi ích khi trả lời câu hỏi này\n",
    "\n",
    "**How we answer this question**: ý tưởng làm câu hỏi này và nói cách làm"
   ]
  },
  {
   "cell_type": "markdown",
   "metadata": {},
   "source": [
    "### Pre-processing"
   ]
  },
  {
   "cell_type": "code",
   "execution_count": 71,
   "metadata": {},
   "outputs": [],
   "source": [
    "# YOUR CODE HERE (OPTION) "
   ]
  },
  {
   "cell_type": "markdown",
   "metadata": {},
   "source": [
    "### Analyzing to get the answer"
   ]
  },
  {
   "cell_type": "code",
   "execution_count": 72,
   "metadata": {},
   "outputs": [],
   "source": [
    "# YOUR CODE HERE"
   ]
  },
  {
   "cell_type": "markdown",
   "metadata": {},
   "source": [
    "### Your conclusion"
   ]
  },
  {
   "cell_type": "markdown",
   "metadata": {},
   "source": [
    "YOUR CODE HERE"
   ]
  }
 ],
 "metadata": {
  "kernelspec": {
   "display_name": "min_ds-env",
   "language": "python",
   "name": "python3"
  },
  "language_info": {
   "codemirror_mode": {
    "name": "ipython",
    "version": 3
   },
   "file_extension": ".py",
   "mimetype": "text/x-python",
   "name": "python",
   "nbconvert_exporter": "python",
   "pygments_lexer": "ipython3",
   "version": "3.10.8"
  }
 },
 "nbformat": 4,
 "nbformat_minor": 4
}
