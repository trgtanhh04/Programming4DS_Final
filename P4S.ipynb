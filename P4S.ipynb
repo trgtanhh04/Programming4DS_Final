{
 "cells": [
  {
   "cell_type": "markdown",
   "metadata": {},
   "source": [
    "# Final Project: Global Football Data Analysis"
   ]
  },
  {
   "cell_type": "markdown",
   "metadata": {},
   "source": [
    "This is the final project for the course **\"Programming for Data Science\"** at the **Faculty of Information Technology**, **University of Science, Vietnam National University, Ho Chi Minh City**."
   ]
  },
  {
   "cell_type": "markdown",
   "metadata": {},
   "source": [
    "---"
   ]
  },
  {
   "cell_type": "markdown",
   "metadata": {},
   "source": [
    "**Instructor:** Phạm Trọng Nghĩa  \n",
    "\n",
    "**Course:** Programming for Data Science  \n",
    "\n",
    "**Date:** 12/2024"
   ]
  },
  {
   "cell_type": "markdown",
   "metadata": {},
   "source": [
    "---"
   ]
  },
  {
   "cell_type": "markdown",
   "metadata": {},
   "source": [
    "## Project Overview"
   ]
  },
  {
   "cell_type": "markdown",
   "metadata": {},
   "source": [
    "- Với độ phủ sóng toàn cầu, bóng đá từ lâu đã được coi là môn thể thao vua và được ví như một ngôn ngữ chung để kết nối hàng triệu con người. Trải qua lịch sử hàng trăm năm hình thành và phát triển, môn thể thao vua không chỉ là sân chơi của các cầu thủ tài năng mà còn là biểu tượng của niềm đam mê, sự đoàn kết và những khoảnh khắc không thể nào quên.\n",
    "- Là những người yêu thích bóng đá, nhóm chúng em đã tìm đến bộ dữ liệu **\"Kết quả bóng đá quốc tế từ 1872 đến 2024\"** với mong muốn khám phá và phân tích bức tranh toàn cảnh về bóng đá nam toàn cầu.\n",
    "- Mục tiêu của đồ án không chỉ dừng lại ở việc phân tích các xu hướng và yếu tố ảnh hưởng đến kết quả của các đội tuyển quốc gia mà còn mở rộng sang việc dự đoán những xu hướng mới.\n",
    "- Thông qua việc áp dụng các phương pháp trong quy trình khoa học dữ liệu, đồ án hy vọng sẽ đạt được mục tiêu và đóng góp một góc nhìn thú vị, hữu ích cho cộng đồng yêu bóng đá."
   ]
  },
  {
   "cell_type": "markdown",
   "metadata": {},
   "source": [
    "---"
   ]
  },
  {
   "cell_type": "markdown",
   "metadata": {},
   "source": [
    "## GitHub Repository"
   ]
  },
  {
   "cell_type": "markdown",
   "metadata": {},
   "source": [
    "Truy cập toàn bộ dự án trên GitHub:\n",
    "\n",
    "- [Global Football Data Analysis Repository](https://github.com/trgtanhh04/Programming4DS_Final)"
   ]
  },
  {
   "cell_type": "markdown",
   "metadata": {},
   "source": [
    "---"
   ]
  },
  {
   "cell_type": "markdown",
   "metadata": {},
   "source": [
    "## Import"
   ]
  },
  {
   "cell_type": "code",
   "execution_count": 1,
   "metadata": {},
   "outputs": [],
   "source": [
    "import requests\n",
    "import numpy as np\n",
    "import pandas as pd\n",
    "from typing import List\n",
    "import os\n",
    "import seaborn as sns\n",
    "import matplotlib.pyplot as plt\n",
    "import urllib.robotparser"
   ]
  },
  {
   "cell_type": "markdown",
   "metadata": {},
   "source": [
    "---"
   ]
  },
  {
   "cell_type": "markdown",
   "metadata": {},
   "source": [
    "## Data collecting"
   ]
  },
  {
   "cell_type": "markdown",
   "metadata": {},
   "source": [
    "### What is the subject of your data?"
   ]
  },
  {
   "cell_type": "markdown",
   "metadata": {},
   "source": [
    "- Như đã đề cập ở phần Tổng quan, trong đồ án này chúng em sử dụng bộ dữ liệu **\"Kết quả bóng đá quốc tế từ 1872 đến 2024\"**.\n",
    "- Bộ dữ liệu này bao gồm gần 48.000 kết quả của các trận đấu bóng đá quốc tế bắt đầu từ trận đấu chính thức đầu tiên vào năm 1872 cho đến năm 2024. Các trận đấu trải dài từ FIFA World Cup đến FIFI Wild Cup cho đến các trận giao hữu thông thường.\n",
    "- Các trận đấu này hoàn toàn là trận đấu quốc tế dành cho nam, không bao gồm Thế vận hội hoặc các trận đấu mà ít nhất một trong các đội là đội B, U-23 hoặc đội tuyển chọn của giải đấu."
   ]
  },
  {
   "cell_type": "markdown",
   "metadata": {},
   "source": [
    "### What is the source of your data?"
   ]
  },
  {
   "cell_type": "markdown",
   "metadata": {},
   "source": [
    "Dữ liệu được lấy từ Kaggle, có tại:\n",
    "\n",
    "- [International Football Results Dataset](https://www.kaggle.com/datasets/martj42/international-football-results-from-1872-to-2017?select=shootouts.csv)\n"
   ]
  },
  {
   "cell_type": "markdown",
   "metadata": {},
   "source": [
    "### Do the authors of this data allow you to use it like this?"
   ]
  },
  {
   "cell_type": "markdown",
   "metadata": {},
   "source": [
    "Tác giả của dữ liệu này cho phép sử dụng theo **Giấy phép dữ liệu mở** (hoặc các giấy phép cụ thể khác tùy thuộc vào nguồn dữ liệu). Có thể kiểm tra giấy phép dữ liệu tại liên kết sau:\n",
    "\n",
    "- [Data License from Kaggle](https://creativecommons.org/publicdomain/zero/1.0/)"
   ]
  },
  {
   "cell_type": "markdown",
   "metadata": {},
   "source": [
    "### How did the authors collect the data?"
   ]
  },
  {
   "cell_type": "markdown",
   "metadata": {},
   "source": [
    "- Dữ liệu được tác giả thu thập từ nhiều nguồn, bao gồm Wikipedia, rsssf.com và các trang web của từng hiệp hội bóng đá.\n",
    "- Tác giả đã tổ chức dữ liệu thu thập được thành 3 bộ dữ liệu: `results.csv`, `goalscorers.csv` và `shootouts.csv`."
   ]
  },
  {
   "cell_type": "markdown",
   "metadata": {},
   "source": [
    "---"
   ]
  },
  {
   "cell_type": "markdown",
   "metadata": {},
   "source": [
    "## Exploring data"
   ]
  },
  {
   "cell_type": "markdown",
   "metadata": {},
   "source": [
    "### Read raw data from file"
   ]
  },
  {
   "cell_type": "code",
   "execution_count": 2,
   "metadata": {},
   "outputs": [],
   "source": [
    "raw_goal_scorers = pd.read_csv(\"Data/goalscorers.csv\")\n",
    "raw_results = pd.read_csv(\"Data/results.csv\")\n",
    "raw_shootouts = pd.read_csv(\"Data/shootouts.csv\")"
   ]
  },
  {
   "cell_type": "code",
   "execution_count": 3,
   "metadata": {},
   "outputs": [
    {
     "data": {
      "text/html": [
       "<div>\n",
       "<style scoped>\n",
       "    .dataframe tbody tr th:only-of-type {\n",
       "        vertical-align: middle;\n",
       "    }\n",
       "\n",
       "    .dataframe tbody tr th {\n",
       "        vertical-align: top;\n",
       "    }\n",
       "\n",
       "    .dataframe thead th {\n",
       "        text-align: right;\n",
       "    }\n",
       "</style>\n",
       "<table border=\"1\" class=\"dataframe\">\n",
       "  <thead>\n",
       "    <tr style=\"text-align: right;\">\n",
       "      <th></th>\n",
       "      <th>date</th>\n",
       "      <th>home_team</th>\n",
       "      <th>away_team</th>\n",
       "      <th>team</th>\n",
       "      <th>scorer</th>\n",
       "      <th>minute</th>\n",
       "      <th>own_goal</th>\n",
       "      <th>penalty</th>\n",
       "    </tr>\n",
       "  </thead>\n",
       "  <tbody>\n",
       "    <tr>\n",
       "      <th>0</th>\n",
       "      <td>1916-07-02</td>\n",
       "      <td>Chile</td>\n",
       "      <td>Uruguay</td>\n",
       "      <td>Uruguay</td>\n",
       "      <td>José Piendibene</td>\n",
       "      <td>44.0</td>\n",
       "      <td>False</td>\n",
       "      <td>False</td>\n",
       "    </tr>\n",
       "    <tr>\n",
       "      <th>1</th>\n",
       "      <td>1916-07-02</td>\n",
       "      <td>Chile</td>\n",
       "      <td>Uruguay</td>\n",
       "      <td>Uruguay</td>\n",
       "      <td>Isabelino Gradín</td>\n",
       "      <td>55.0</td>\n",
       "      <td>False</td>\n",
       "      <td>False</td>\n",
       "    </tr>\n",
       "    <tr>\n",
       "      <th>2</th>\n",
       "      <td>1916-07-02</td>\n",
       "      <td>Chile</td>\n",
       "      <td>Uruguay</td>\n",
       "      <td>Uruguay</td>\n",
       "      <td>Isabelino Gradín</td>\n",
       "      <td>70.0</td>\n",
       "      <td>False</td>\n",
       "      <td>False</td>\n",
       "    </tr>\n",
       "    <tr>\n",
       "      <th>3</th>\n",
       "      <td>1916-07-02</td>\n",
       "      <td>Chile</td>\n",
       "      <td>Uruguay</td>\n",
       "      <td>Uruguay</td>\n",
       "      <td>José Piendibene</td>\n",
       "      <td>75.0</td>\n",
       "      <td>False</td>\n",
       "      <td>False</td>\n",
       "    </tr>\n",
       "    <tr>\n",
       "      <th>4</th>\n",
       "      <td>1916-07-06</td>\n",
       "      <td>Argentina</td>\n",
       "      <td>Chile</td>\n",
       "      <td>Argentina</td>\n",
       "      <td>Alberto Ohaco</td>\n",
       "      <td>2.0</td>\n",
       "      <td>False</td>\n",
       "      <td>False</td>\n",
       "    </tr>\n",
       "  </tbody>\n",
       "</table>\n",
       "</div>"
      ],
      "text/plain": [
       "         date  home_team away_team       team            scorer  minute  \\\n",
       "0  1916-07-02      Chile   Uruguay    Uruguay   José Piendibene    44.0   \n",
       "1  1916-07-02      Chile   Uruguay    Uruguay  Isabelino Gradín    55.0   \n",
       "2  1916-07-02      Chile   Uruguay    Uruguay  Isabelino Gradín    70.0   \n",
       "3  1916-07-02      Chile   Uruguay    Uruguay   José Piendibene    75.0   \n",
       "4  1916-07-06  Argentina     Chile  Argentina     Alberto Ohaco     2.0   \n",
       "\n",
       "   own_goal  penalty  \n",
       "0     False    False  \n",
       "1     False    False  \n",
       "2     False    False  \n",
       "3     False    False  \n",
       "4     False    False  "
      ]
     },
     "execution_count": 3,
     "metadata": {},
     "output_type": "execute_result"
    }
   ],
   "source": [
    "raw_goal_scorers.head()"
   ]
  },
  {
   "cell_type": "code",
   "execution_count": 4,
   "metadata": {},
   "outputs": [
    {
     "data": {
      "text/html": [
       "<div>\n",
       "<style scoped>\n",
       "    .dataframe tbody tr th:only-of-type {\n",
       "        vertical-align: middle;\n",
       "    }\n",
       "\n",
       "    .dataframe tbody tr th {\n",
       "        vertical-align: top;\n",
       "    }\n",
       "\n",
       "    .dataframe thead th {\n",
       "        text-align: right;\n",
       "    }\n",
       "</style>\n",
       "<table border=\"1\" class=\"dataframe\">\n",
       "  <thead>\n",
       "    <tr style=\"text-align: right;\">\n",
       "      <th></th>\n",
       "      <th>date</th>\n",
       "      <th>home_team</th>\n",
       "      <th>away_team</th>\n",
       "      <th>home_score</th>\n",
       "      <th>away_score</th>\n",
       "      <th>tournament</th>\n",
       "      <th>city</th>\n",
       "      <th>country</th>\n",
       "      <th>neutral</th>\n",
       "    </tr>\n",
       "  </thead>\n",
       "  <tbody>\n",
       "    <tr>\n",
       "      <th>0</th>\n",
       "      <td>1872-11-30</td>\n",
       "      <td>Scotland</td>\n",
       "      <td>England</td>\n",
       "      <td>0</td>\n",
       "      <td>0</td>\n",
       "      <td>Friendly</td>\n",
       "      <td>Glasgow</td>\n",
       "      <td>Scotland</td>\n",
       "      <td>False</td>\n",
       "    </tr>\n",
       "    <tr>\n",
       "      <th>1</th>\n",
       "      <td>1873-03-08</td>\n",
       "      <td>England</td>\n",
       "      <td>Scotland</td>\n",
       "      <td>4</td>\n",
       "      <td>2</td>\n",
       "      <td>Friendly</td>\n",
       "      <td>London</td>\n",
       "      <td>England</td>\n",
       "      <td>False</td>\n",
       "    </tr>\n",
       "    <tr>\n",
       "      <th>2</th>\n",
       "      <td>1874-03-07</td>\n",
       "      <td>Scotland</td>\n",
       "      <td>England</td>\n",
       "      <td>2</td>\n",
       "      <td>1</td>\n",
       "      <td>Friendly</td>\n",
       "      <td>Glasgow</td>\n",
       "      <td>Scotland</td>\n",
       "      <td>False</td>\n",
       "    </tr>\n",
       "    <tr>\n",
       "      <th>3</th>\n",
       "      <td>1875-03-06</td>\n",
       "      <td>England</td>\n",
       "      <td>Scotland</td>\n",
       "      <td>2</td>\n",
       "      <td>2</td>\n",
       "      <td>Friendly</td>\n",
       "      <td>London</td>\n",
       "      <td>England</td>\n",
       "      <td>False</td>\n",
       "    </tr>\n",
       "    <tr>\n",
       "      <th>4</th>\n",
       "      <td>1876-03-04</td>\n",
       "      <td>Scotland</td>\n",
       "      <td>England</td>\n",
       "      <td>3</td>\n",
       "      <td>0</td>\n",
       "      <td>Friendly</td>\n",
       "      <td>Glasgow</td>\n",
       "      <td>Scotland</td>\n",
       "      <td>False</td>\n",
       "    </tr>\n",
       "  </tbody>\n",
       "</table>\n",
       "</div>"
      ],
      "text/plain": [
       "         date home_team away_team  home_score  away_score tournament     city  \\\n",
       "0  1872-11-30  Scotland   England           0           0   Friendly  Glasgow   \n",
       "1  1873-03-08   England  Scotland           4           2   Friendly   London   \n",
       "2  1874-03-07  Scotland   England           2           1   Friendly  Glasgow   \n",
       "3  1875-03-06   England  Scotland           2           2   Friendly   London   \n",
       "4  1876-03-04  Scotland   England           3           0   Friendly  Glasgow   \n",
       "\n",
       "    country  neutral  \n",
       "0  Scotland    False  \n",
       "1   England    False  \n",
       "2  Scotland    False  \n",
       "3   England    False  \n",
       "4  Scotland    False  "
      ]
     },
     "execution_count": 4,
     "metadata": {},
     "output_type": "execute_result"
    }
   ],
   "source": [
    "raw_results.head()"
   ]
  },
  {
   "cell_type": "code",
   "execution_count": 5,
   "metadata": {},
   "outputs": [
    {
     "data": {
      "text/html": [
       "<div>\n",
       "<style scoped>\n",
       "    .dataframe tbody tr th:only-of-type {\n",
       "        vertical-align: middle;\n",
       "    }\n",
       "\n",
       "    .dataframe tbody tr th {\n",
       "        vertical-align: top;\n",
       "    }\n",
       "\n",
       "    .dataframe thead th {\n",
       "        text-align: right;\n",
       "    }\n",
       "</style>\n",
       "<table border=\"1\" class=\"dataframe\">\n",
       "  <thead>\n",
       "    <tr style=\"text-align: right;\">\n",
       "      <th></th>\n",
       "      <th>date</th>\n",
       "      <th>home_team</th>\n",
       "      <th>away_team</th>\n",
       "      <th>winner</th>\n",
       "      <th>first_shooter</th>\n",
       "    </tr>\n",
       "  </thead>\n",
       "  <tbody>\n",
       "    <tr>\n",
       "      <th>0</th>\n",
       "      <td>1967-08-22</td>\n",
       "      <td>India</td>\n",
       "      <td>Taiwan</td>\n",
       "      <td>Taiwan</td>\n",
       "      <td>NaN</td>\n",
       "    </tr>\n",
       "    <tr>\n",
       "      <th>1</th>\n",
       "      <td>1971-11-14</td>\n",
       "      <td>South Korea</td>\n",
       "      <td>Vietnam Republic</td>\n",
       "      <td>South Korea</td>\n",
       "      <td>NaN</td>\n",
       "    </tr>\n",
       "    <tr>\n",
       "      <th>2</th>\n",
       "      <td>1972-05-07</td>\n",
       "      <td>South Korea</td>\n",
       "      <td>Iraq</td>\n",
       "      <td>Iraq</td>\n",
       "      <td>NaN</td>\n",
       "    </tr>\n",
       "    <tr>\n",
       "      <th>3</th>\n",
       "      <td>1972-05-17</td>\n",
       "      <td>Thailand</td>\n",
       "      <td>South Korea</td>\n",
       "      <td>South Korea</td>\n",
       "      <td>NaN</td>\n",
       "    </tr>\n",
       "    <tr>\n",
       "      <th>4</th>\n",
       "      <td>1972-05-19</td>\n",
       "      <td>Thailand</td>\n",
       "      <td>Cambodia</td>\n",
       "      <td>Thailand</td>\n",
       "      <td>NaN</td>\n",
       "    </tr>\n",
       "  </tbody>\n",
       "</table>\n",
       "</div>"
      ],
      "text/plain": [
       "         date    home_team         away_team       winner first_shooter\n",
       "0  1967-08-22        India            Taiwan       Taiwan           NaN\n",
       "1  1971-11-14  South Korea  Vietnam Republic  South Korea           NaN\n",
       "2  1972-05-07  South Korea              Iraq         Iraq           NaN\n",
       "3  1972-05-17     Thailand       South Korea  South Korea           NaN\n",
       "4  1972-05-19     Thailand          Cambodia     Thailand           NaN"
      ]
     },
     "execution_count": 5,
     "metadata": {},
     "output_type": "execute_result"
    }
   ],
   "source": [
    "raw_shootouts.head()"
   ]
  },
  {
   "cell_type": "markdown",
   "metadata": {},
   "source": [
    "### How many rows and how many columns?"
   ]
  },
  {
   "cell_type": "markdown",
   "metadata": {},
   "source": [
    "Chúng ta sẽ tính toán số hàng và cột của 3 DataFrames `raw_goal_scorers`, `raw_results` và `raw_shootouts`. Sau đó, lưu trữ nó trong biến `shape_goal_scorers`, `shape_results` và `shape_shootouts`"
   ]
  },
  {
   "cell_type": "code",
   "execution_count": 6,
   "metadata": {},
   "outputs": [],
   "source": [
    "shape_goal_scorers = raw_goal_scorers.shape\n",
    "shape_results = raw_results.shape\n",
    "shape_shootouts = raw_shootouts.shape"
   ]
  },
  {
   "cell_type": "code",
   "execution_count": 7,
   "metadata": {},
   "outputs": [
    {
     "name": "stdout",
     "output_type": "stream",
     "text": [
      "Goal scorers shape: (44362, 8)\n",
      "Results shape: (47917, 9)\n",
      "Shootouts shape: (645, 5)\n"
     ]
    }
   ],
   "source": [
    "print(f\"Goal scorers shape: {shape_goal_scorers}\")\n",
    "print(f\"Results shape: {shape_results}\")\n",
    "print(f\"Shootouts shape: {shape_shootouts}\")"
   ]
  },
  {
   "cell_type": "markdown",
   "metadata": {},
   "source": [
    "### What does each line mean? Does it matter if the lines have different meanings?"
   ]
  },
  {
   "cell_type": "markdown",
   "metadata": {},
   "source": [
    "- Tất cả các dòng trong các file CSV này đều mô tả các trận đấu bóng đá từ các khía cạnh khác nhau: bàn thắng ghi được, kết quả trận đấu và các trận đấu có loạt sút penalty. Mỗi dòng cung cấp các thông tin chi tiết giúp ta phân tích và theo dõi các trận đấu, cầu thủ ghi bàn, tỉ số, và những chi tiết đặc biệt như sút penalty.\n",
    "- Việc các dòng trong mỗi file phải có ý nghĩa và cấu trúc nhất quán theo từng cột là rất quan trọng. Điều này đảm bảo tính toàn vẹn của dữ liệu, tránh các lỗi phân tích và cho phép xử lý dữ liệu một cách suôn sẻ. Nếu dữ liệu trong một file bị trộn lẫn giữa các loại thông tin khác nhau, nó sẽ làm mất đi mục đích của dữ liệu và dẫn đến các kết luận sai lệch hoặc phân tích không chính xác."
   ]
  },
  {
   "cell_type": "markdown",
   "metadata": {},
   "source": [
    "### Notes:"
   ]
  },
  {
   "cell_type": "markdown",
   "metadata": {},
   "source": [
    "Một số lưu ý quan trọng từ tác giả:\n",
    "- Đối với đội chủ nhà `(home_team)` và đội khách `(away_team)`, tên hiện tại của đội sẽ được sử dụng. Ví dụ, vào năm 1882, khi một đội tự gọi mình là Ireland thi đấu với Anh, trong tập dữ liệu này, đội đó được gọi là Bắc Ireland vì đội Bắc Ireland hiện tại là đội kế thừa của đội Ireland năm 1882. Việc này được thực hiện để dễ theo dõi lịch sử và số liệu thống kê của các đội hơn.\n",
    "- Đối với tên quốc gia `(country)`, tên quốc gia tại thời điểm diễn ra trận đấu sẽ được sử dụng. Vì vậy, khi Ghana chơi ở Accra, Gold Coast vào những năm 1950, mặc dù tên của đội chủ nhà và quốc gia không trùng nhau, nhưng đó vẫn là trận đấu trên sân nhà của Ghana. Điều này được biểu thị bằng cột trung lập `(neutral)`, ghi là SAI **(FALSE)** đối với những trận đấu đó, nghĩa là trận đấu không diễn ra ở địa điểm trung lập.\n"
   ]
  },
  {
   "cell_type": "markdown",
   "metadata": {},
   "source": [
    "### Does the raw data have duplicate rows?"
   ]
  },
  {
   "cell_type": "markdown",
   "metadata": {},
   "source": [
    "Chúng ta sẽ tính toán số hàng có chỉ mục trùng lặp và lưu trữ trong biến `goal_scorers_duplicated`, `results_duplicated` và `shootouts_duplicated`."
   ]
  },
  {
   "cell_type": "code",
   "execution_count": 8,
   "metadata": {},
   "outputs": [],
   "source": [
    "goal_scorers_duplicated = len(raw_goal_scorers[raw_goal_scorers.duplicated()])\n",
    "results_duplicated = len(raw_results[raw_results.duplicated()])\n",
    "shootouts_duplicated = len(raw_shootouts[raw_shootouts.duplicated()])"
   ]
  },
  {
   "cell_type": "code",
   "execution_count": 9,
   "metadata": {},
   "outputs": [
    {
     "name": "stdout",
     "output_type": "stream",
     "text": [
      "Goal scorers data have 82 duplicated lines!\n",
      "Results data have no duplicated line.!\n",
      "Shootouts data have no duplicated line.!\n"
     ]
    }
   ],
   "source": [
    "def check_duplicates(file_name, duplicated_count):\n",
    "    if duplicated_count == 0:\n",
    "        print(f\"{file_name} data have no duplicated line.!\")\n",
    "    else:\n",
    "        ext = \"lines\" if duplicated_count > 1 else \"line\"\n",
    "        print(f\"{file_name} data have {duplicated_count} duplicated {ext}!\")\n",
    "\n",
    "# Kiểm tra từng file\n",
    "check_duplicates(\"Goal scorers\", goal_scorers_duplicated)\n",
    "check_duplicates(\"Results\", results_duplicated)\n",
    "check_duplicates(\"Shootouts\", shootouts_duplicated)"
   ]
  },
  {
   "cell_type": "code",
   "execution_count": 10,
   "metadata": {},
   "outputs": [],
   "source": [
    "# Loại bỏ các dòng trùng lặp của Goal scores\n",
    "raw_goal_scorers.drop_duplicates(keep=False, inplace=True)"
   ]
  },
  {
   "cell_type": "markdown",
   "metadata": {},
   "source": [
    "### What does each column mean?"
   ]
  },
  {
   "cell_type": "markdown",
   "metadata": {},
   "source": [
    "Dưới đây là các bảng mô tả dữ liệu từ ba tệp CSV: **Goal Scorers**, **Results** và **Shootouts**.\n",
    "\n",
    "<table style=\"width:48%; float:left; padding-right:10px; border: 1px solid black; border-collapse: collapse;\">\n",
    "  <caption><strong>Goal Scorers</strong></caption>\n",
    "  <tr>\n",
    "    <th style=\"border: 1px solid black;\">Column</th>\n",
    "    <th style=\"border: 1px solid black;\">Description</th>\n",
    "  </tr>\n",
    "  <tr>\n",
    "    <td style=\"border: 1px solid black;\">date</td>\n",
    "    <td style=\"border: 1px solid black;\">Ngày diễn ra trận đấu.</td>\n",
    "  </tr>\n",
    "  <tr>\n",
    "    <td style=\"border: 1px solid black;\">home_team</td>\n",
    "    <td style=\"border: 1px solid black;\">Tên đội chủ nhà.</td>\n",
    "  </tr>\n",
    "  <tr>\n",
    "    <td style=\"border: 1px solid black;\">away_team</td>\n",
    "    <td style=\"border: 1px solid black;\">Tên đội khách.</td>\n",
    "  </tr>\n",
    "  <tr>\n",
    "    <td style=\"border: 1px solid black;\">team</td>\n",
    "    <td style=\"border: 1px solid black;\">Tên đội ghi bàn thắng.</td>\n",
    "  </tr>\n",
    "  <tr>\n",
    "    <td style=\"border: 1px solid black;\">scorer</td>\n",
    "    <td style=\"border: 1px solid black;\">Tên của cầu thủ ghi bàn.</td>\n",
    "  </tr>\n",
    "  <tr>\n",
    "    <td style=\"border: 1px solid black;\">minute</td>\n",
    "    <td style=\"border: 1px solid black;\">Phút ghi bàn.</td>\n",
    "  </tr>\n",
    "  <tr>\n",
    "    <td style=\"border: 1px solid black;\">own_goal</td>\n",
    "    <td style=\"border: 1px solid black;\">Liệu bàn thắng có phải là phản lưới nhà không.</td>\n",
    "  </tr>\n",
    "  <tr>\n",
    "    <td style=\"border: 1px solid black;\">penalty</td>\n",
    "    <td style=\"border: 1px solid black;\">Liệu bàn thắng có phải là quả phạt đền không.</td>\n",
    "  </tr>\n",
    "</table>\n",
    "\n",
    "<table style=\"width:48%; float:left; border: 1px solid black; border-collapse: collapse;\">\n",
    "  <caption><strong>Results</strong></caption>\n",
    "  <tr>\n",
    "    <th style=\"border: 1px solid black;\">Column</th>\n",
    "    <th style=\"border: 1px solid black;\">Description</th>\n",
    "  </tr>\n",
    "  <tr>\n",
    "    <td style=\"border: 1px solid black;\">date</td>\n",
    "    <td style=\"border: 1px solid black;\">Ngày diễn ra trận đấu.</td>\n",
    "  </tr>\n",
    "  <tr>\n",
    "    <td style=\"border: 1px solid black;\">home_team</td>\n",
    "    <td style=\"border: 1px solid black;\">Tên đội chủ nhà.</td>\n",
    "  </tr>\n",
    "  <tr>\n",
    "    <td style=\"border: 1px solid black;\">away_team</td>\n",
    "    <td style=\"border: 1px solid black;\">Tên đội khách.</td>\n",
    "  </tr>\n",
    "  <tr>\n",
    "    <td style=\"border: 1px solid black;\">home_score</td>\n",
    "    <td style=\"border: 1px solid black;\">Tỷ số toàn trận của đội chủ nhà bao gồm cả hiệp phụ, không bao gồm loạt sút penalty.</td>\n",
    "  </tr>\n",
    "  <tr>\n",
    "    <td style=\"border: 1px solid black;\">away_score</td>\n",
    "    <td style=\"border: 1px solid black;\">Tỷ số toàn trận của đội khách bao gồm cả hiệp phụ, không bao gồm loạt sút penalty.</td>\n",
    "  </tr>\n",
    "  <tr>\n",
    "    <td style=\"border: 1px solid black;\">tournament</td>\n",
    "    <td style=\"border: 1px solid black;\">Tên giải đấu.</td>\n",
    "  </tr>\n",
    "  <tr>\n",
    "    <td style=\"border: 1px solid black;\">city</td>\n",
    "    <td style=\"border: 1px solid black;\">Thành phố nơi diễn ra trận đấu.</td>\n",
    "  </tr>\n",
    "  <tr>\n",
    "    <td style=\"border: 1px solid black;\">country</td>\n",
    "    <td style=\"border: 1px solid black;\">Quốc gia nơi diễn ra trận đấu.</td>\n",
    "  </tr>\n",
    "  <tr>\n",
    "    <td style=\"border: 1px solid black;\">neutral</td>\n",
    "    <td style=\"border: 1px solid black;\">Cột True/False cho biết trận đấu có diễn ra tại sân trung lập (không phải sân nhà của đội nào) hay không.</td>\n",
    "  </tr>\n",
    "</table>\n",
    "\n",
    "<br style=\"clear: both;\">\n",
    "\n",
    "<table style=\"width:48%; float:left; padding-right:10px; border: 1px solid black; border-collapse: collapse;\">\n",
    "  <caption><strong>Shootouts</strong></caption>\n",
    "  <tr>\n",
    "    <th style=\"border: 1px solid black;\">Column</th>\n",
    "    <th style=\"border: 1px solid black;\">Description</th>\n",
    "  </tr>\n",
    "  <tr>\n",
    "    <td style=\"border: 1px solid black;\">date</td>\n",
    "    <td style=\"border: 1px solid black;\">Ngày diễn ra trận đấu.</td>\n",
    "  </tr>\n",
    "  <tr>\n",
    "    <td style=\"border: 1px solid black;\">home_team</td>\n",
    "    <td style=\"border: 1px solid black;\">Tên đội chủ nhà.</td>\n",
    "  </tr>\n",
    "  <tr>\n",
    "    <td style=\"border: 1px solid black;\">away_team</td>\n",
    "    <td style=\"border: 1px solid black;\">Tên đội khách.</td>\n",
    "  </tr>\n",
    "  <tr>\n",
    "    <td style=\"border: 1px solid black;\">winner</td>\n",
    "    <td style=\"border: 1px solid black;\">Tên đội thắng cuộc trong loạt sút penalty.</td>\n",
    "  </tr>\n",
    "  <tr>\n",
    "    <td style=\"border: 1px solid black;\">first_shooter</td>\n",
    "    <td style=\"border: 1px solid black;\">Tên đội thực hiện cú sút luân lưu đầu tiên.</td>\n",
    "  </tr>\n",
    "</table>\n"
   ]
  },
  {
   "cell_type": "markdown",
   "metadata": {},
   "source": [
    "### What data type does each column currently have? Are there any columns whose data types are not suitable for further processing?"
   ]
  },
  {
   "cell_type": "markdown",
   "metadata": {},
   "source": [
    "Chúng ta sẽ tính toán kiểu dữ liệu (dtype) của mỗi cột trong DataFrame `raw_goal_scorers`, `raw_results`, `raw_shootouts` và lưu kết quả vào Series `dtypes_goal_scorers`, `dtypes_results`, `dtypes_shootouts` (Series này có chỉ mục là tên cột)."
   ]
  },
  {
   "cell_type": "code",
   "execution_count": 11,
   "metadata": {},
   "outputs": [],
   "source": [
    "dtypes_dicts = {}\n",
    "\n",
    "def get_dtype(raw_df):\n",
    "    dtypes_dict = {}\n",
    "    for column in raw_df.columns:\n",
    "        dtypes_dict[column] = raw_df[column].dtype\n",
    "    return dtypes_dict\n",
    "\n",
    "# Tạo các dataframe và lưu lại dtypes vào dictionary\n",
    "dtypes_dicts['goal_scorers'] = get_dtype(raw_goal_scorers)\n",
    "dtypes_dicts['results'] = get_dtype(raw_results)\n",
    "dtypes_dicts['shootouts'] = get_dtype(raw_shootouts)\n",
    "\n",
    "# Chuyển các dictionary thành DataFrame\n",
    "dtypes_goal_scorers = pd.DataFrame(dtypes_dicts['goal_scorers'].items(), columns=['Column Name', 'Data Type']).set_index('Column Name')\n",
    "dtypes_results = pd.DataFrame(dtypes_dicts['results'].items(), columns=['Column Name', 'Data Type']).set_index('Column Name')\n",
    "dtypes_shootouts = pd.DataFrame(dtypes_dicts['shootouts'].items(), columns=['Column Name', 'Data Type']).set_index('Column Name')"
   ]
  },
  {
   "cell_type": "code",
   "execution_count": 12,
   "metadata": {},
   "outputs": [
    {
     "data": {
      "text/html": [
       "<div>\n",
       "<style scoped>\n",
       "    .dataframe tbody tr th:only-of-type {\n",
       "        vertical-align: middle;\n",
       "    }\n",
       "\n",
       "    .dataframe tbody tr th {\n",
       "        vertical-align: top;\n",
       "    }\n",
       "\n",
       "    .dataframe thead th {\n",
       "        text-align: right;\n",
       "    }\n",
       "</style>\n",
       "<table border=\"1\" class=\"dataframe\">\n",
       "  <thead>\n",
       "    <tr style=\"text-align: right;\">\n",
       "      <th></th>\n",
       "      <th>Data Type</th>\n",
       "    </tr>\n",
       "    <tr>\n",
       "      <th>Column Name</th>\n",
       "      <th></th>\n",
       "    </tr>\n",
       "  </thead>\n",
       "  <tbody>\n",
       "    <tr>\n",
       "      <th>date</th>\n",
       "      <td>object</td>\n",
       "    </tr>\n",
       "    <tr>\n",
       "      <th>home_team</th>\n",
       "      <td>object</td>\n",
       "    </tr>\n",
       "    <tr>\n",
       "      <th>away_team</th>\n",
       "      <td>object</td>\n",
       "    </tr>\n",
       "    <tr>\n",
       "      <th>team</th>\n",
       "      <td>object</td>\n",
       "    </tr>\n",
       "    <tr>\n",
       "      <th>scorer</th>\n",
       "      <td>object</td>\n",
       "    </tr>\n",
       "    <tr>\n",
       "      <th>minute</th>\n",
       "      <td>float64</td>\n",
       "    </tr>\n",
       "    <tr>\n",
       "      <th>own_goal</th>\n",
       "      <td>bool</td>\n",
       "    </tr>\n",
       "    <tr>\n",
       "      <th>penalty</th>\n",
       "      <td>bool</td>\n",
       "    </tr>\n",
       "  </tbody>\n",
       "</table>\n",
       "</div>"
      ],
      "text/plain": [
       "            Data Type\n",
       "Column Name          \n",
       "date           object\n",
       "home_team      object\n",
       "away_team      object\n",
       "team           object\n",
       "scorer         object\n",
       "minute        float64\n",
       "own_goal         bool\n",
       "penalty          bool"
      ]
     },
     "execution_count": 12,
     "metadata": {},
     "output_type": "execute_result"
    }
   ],
   "source": [
    "dtypes_goal_scorers"
   ]
  },
  {
   "cell_type": "code",
   "execution_count": 13,
   "metadata": {},
   "outputs": [
    {
     "data": {
      "text/html": [
       "<div>\n",
       "<style scoped>\n",
       "    .dataframe tbody tr th:only-of-type {\n",
       "        vertical-align: middle;\n",
       "    }\n",
       "\n",
       "    .dataframe tbody tr th {\n",
       "        vertical-align: top;\n",
       "    }\n",
       "\n",
       "    .dataframe thead th {\n",
       "        text-align: right;\n",
       "    }\n",
       "</style>\n",
       "<table border=\"1\" class=\"dataframe\">\n",
       "  <thead>\n",
       "    <tr style=\"text-align: right;\">\n",
       "      <th></th>\n",
       "      <th>Data Type</th>\n",
       "    </tr>\n",
       "    <tr>\n",
       "      <th>Column Name</th>\n",
       "      <th></th>\n",
       "    </tr>\n",
       "  </thead>\n",
       "  <tbody>\n",
       "    <tr>\n",
       "      <th>date</th>\n",
       "      <td>object</td>\n",
       "    </tr>\n",
       "    <tr>\n",
       "      <th>home_team</th>\n",
       "      <td>object</td>\n",
       "    </tr>\n",
       "    <tr>\n",
       "      <th>away_team</th>\n",
       "      <td>object</td>\n",
       "    </tr>\n",
       "    <tr>\n",
       "      <th>home_score</th>\n",
       "      <td>int64</td>\n",
       "    </tr>\n",
       "    <tr>\n",
       "      <th>away_score</th>\n",
       "      <td>int64</td>\n",
       "    </tr>\n",
       "    <tr>\n",
       "      <th>tournament</th>\n",
       "      <td>object</td>\n",
       "    </tr>\n",
       "    <tr>\n",
       "      <th>city</th>\n",
       "      <td>object</td>\n",
       "    </tr>\n",
       "    <tr>\n",
       "      <th>country</th>\n",
       "      <td>object</td>\n",
       "    </tr>\n",
       "    <tr>\n",
       "      <th>neutral</th>\n",
       "      <td>bool</td>\n",
       "    </tr>\n",
       "  </tbody>\n",
       "</table>\n",
       "</div>"
      ],
      "text/plain": [
       "            Data Type\n",
       "Column Name          \n",
       "date           object\n",
       "home_team      object\n",
       "away_team      object\n",
       "home_score      int64\n",
       "away_score      int64\n",
       "tournament     object\n",
       "city           object\n",
       "country        object\n",
       "neutral          bool"
      ]
     },
     "execution_count": 13,
     "metadata": {},
     "output_type": "execute_result"
    }
   ],
   "source": [
    "dtypes_results"
   ]
  },
  {
   "cell_type": "code",
   "execution_count": 14,
   "metadata": {},
   "outputs": [
    {
     "data": {
      "text/html": [
       "<div>\n",
       "<style scoped>\n",
       "    .dataframe tbody tr th:only-of-type {\n",
       "        vertical-align: middle;\n",
       "    }\n",
       "\n",
       "    .dataframe tbody tr th {\n",
       "        vertical-align: top;\n",
       "    }\n",
       "\n",
       "    .dataframe thead th {\n",
       "        text-align: right;\n",
       "    }\n",
       "</style>\n",
       "<table border=\"1\" class=\"dataframe\">\n",
       "  <thead>\n",
       "    <tr style=\"text-align: right;\">\n",
       "      <th></th>\n",
       "      <th>Data Type</th>\n",
       "    </tr>\n",
       "    <tr>\n",
       "      <th>Column Name</th>\n",
       "      <th></th>\n",
       "    </tr>\n",
       "  </thead>\n",
       "  <tbody>\n",
       "    <tr>\n",
       "      <th>date</th>\n",
       "      <td>object</td>\n",
       "    </tr>\n",
       "    <tr>\n",
       "      <th>home_team</th>\n",
       "      <td>object</td>\n",
       "    </tr>\n",
       "    <tr>\n",
       "      <th>away_team</th>\n",
       "      <td>object</td>\n",
       "    </tr>\n",
       "    <tr>\n",
       "      <th>winner</th>\n",
       "      <td>object</td>\n",
       "    </tr>\n",
       "    <tr>\n",
       "      <th>first_shooter</th>\n",
       "      <td>object</td>\n",
       "    </tr>\n",
       "  </tbody>\n",
       "</table>\n",
       "</div>"
      ],
      "text/plain": [
       "              Data Type\n",
       "Column Name            \n",
       "date             object\n",
       "home_team        object\n",
       "away_team        object\n",
       "winner           object\n",
       "first_shooter    object"
      ]
     },
     "execution_count": 14,
     "metadata": {},
     "output_type": "execute_result"
    }
   ],
   "source": [
    "dtypes_shootouts"
   ]
  },
  {
   "cell_type": "markdown",
   "metadata": {},
   "source": [
    "### For each column with numeric data type, how are the values distributed? "
   ]
  },
  {
   "cell_type": "markdown",
   "metadata": {},
   "source": [
    "Đối với các cột có kiểu dữ liệu số, ta sẽ tính toán:\n",
    "- Percentage of missing values (tỷ lệ phần trăm (từ 0 đến 100) các giá trị bị thiếu)\n",
    "- The min (giá trị nhỏ nhất)\n",
    "- The lower quartile (tứ phân vị dưới)\n",
    "- The median (trung vị)\n",
    "- The upper quartile (tứ phân vị trên)\n",
    "- The max (giá trị lớn nhất)\n",
    "\n",
    "Vì dataframe `raw_shootouts` không có cột nào có kiểu dữ liệu số nên ta không cần làm việc với nó ở phần này.\n",
    "\n",
    "Ta sẽ lưu kết quả vào từng DataFrame `goal_scores_num_col_info_df` và `results_num_col_info_df`, trong đó:\n",
    "- Tên của các cột là tên của các cột số trong `raw_goal_scores` và `raw_results`\n",
    "- Tên của các hàng: \"missing_ratio\", \"min\", \n",
    "\"lower_quartile\", \"median\", \"upper_quartile\", \"max\"\n",
    "\n",
    "Để dễ dàng xem, bạn làm tròn tất cả các giá trị đến 1 chữ số thập phân bằng phương pháp `.round(1)`."
   ]
  },
  {
   "cell_type": "code",
   "execution_count": 15,
   "metadata": {},
   "outputs": [],
   "source": [
    "def missing_ratio(col):\n",
    "    return (col.isna().mean() * 100)\n",
    "\n",
    "def lower_quartile(col):\n",
    "    return (col.quantile(0.25))\n",
    "\n",
    "def median(col):\n",
    "    return (col.median())\n",
    "\n",
    "def upper_quartile(col):\n",
    "    return (col.quantile(0.75))"
   ]
  },
  {
   "cell_type": "markdown",
   "metadata": {},
   "source": [
    "**DataFrame** `raw_goal_scores`"
   ]
  },
  {
   "cell_type": "code",
   "execution_count": 16,
   "metadata": {},
   "outputs": [
    {
     "data": {
      "text/html": [
       "<div>\n",
       "<style scoped>\n",
       "    .dataframe tbody tr th:only-of-type {\n",
       "        vertical-align: middle;\n",
       "    }\n",
       "\n",
       "    .dataframe tbody tr th {\n",
       "        vertical-align: top;\n",
       "    }\n",
       "\n",
       "    .dataframe thead th {\n",
       "        text-align: right;\n",
       "    }\n",
       "</style>\n",
       "<table border=\"1\" class=\"dataframe\">\n",
       "  <thead>\n",
       "    <tr style=\"text-align: right;\">\n",
       "      <th></th>\n",
       "      <th>minute</th>\n",
       "    </tr>\n",
       "  </thead>\n",
       "  <tbody>\n",
       "    <tr>\n",
       "      <th>missing_ratio</th>\n",
       "      <td>0.3</td>\n",
       "    </tr>\n",
       "    <tr>\n",
       "      <th>min</th>\n",
       "      <td>1.0</td>\n",
       "    </tr>\n",
       "    <tr>\n",
       "      <th>lower_quartile</th>\n",
       "      <td>28.0</td>\n",
       "    </tr>\n",
       "    <tr>\n",
       "      <th>median</th>\n",
       "      <td>51.0</td>\n",
       "    </tr>\n",
       "    <tr>\n",
       "      <th>upper_quartile</th>\n",
       "      <td>73.0</td>\n",
       "    </tr>\n",
       "    <tr>\n",
       "      <th>max</th>\n",
       "      <td>122.0</td>\n",
       "    </tr>\n",
       "  </tbody>\n",
       "</table>\n",
       "</div>"
      ],
      "text/plain": [
       "                minute\n",
       "missing_ratio      0.3\n",
       "min                1.0\n",
       "lower_quartile    28.0\n",
       "median            51.0\n",
       "upper_quartile    73.0\n",
       "max              122.0"
      ]
     },
     "execution_count": 16,
     "metadata": {},
     "output_type": "execute_result"
    }
   ],
   "source": [
    "goal_scores_num_col_info = raw_goal_scorers.select_dtypes(include=np.number)\n",
    "goal_scores_num_col_info = goal_scores_num_col_info.agg([missing_ratio, \"min\", lower_quartile, median, upper_quartile, \"max\"])\n",
    "goal_scores_num_col_info = goal_scores_num_col_info.round(1)\n",
    "goal_scores_num_col_info"
   ]
  },
  {
   "cell_type": "markdown",
   "metadata": {},
   "source": [
    "**Nhận xét:** dữ liệu của cột `minute` rất tốt, phân bổ hợp lý với thời gian của một trận đấu quốc tế."
   ]
  },
  {
   "cell_type": "markdown",
   "metadata": {},
   "source": [
    "**DataFrame** `raw_results`"
   ]
  },
  {
   "cell_type": "code",
   "execution_count": 17,
   "metadata": {},
   "outputs": [
    {
     "data": {
      "text/html": [
       "<div>\n",
       "<style scoped>\n",
       "    .dataframe tbody tr th:only-of-type {\n",
       "        vertical-align: middle;\n",
       "    }\n",
       "\n",
       "    .dataframe tbody tr th {\n",
       "        vertical-align: top;\n",
       "    }\n",
       "\n",
       "    .dataframe thead th {\n",
       "        text-align: right;\n",
       "    }\n",
       "</style>\n",
       "<table border=\"1\" class=\"dataframe\">\n",
       "  <thead>\n",
       "    <tr style=\"text-align: right;\">\n",
       "      <th></th>\n",
       "      <th>home_score</th>\n",
       "      <th>away_score</th>\n",
       "    </tr>\n",
       "  </thead>\n",
       "  <tbody>\n",
       "    <tr>\n",
       "      <th>missing_ratio</th>\n",
       "      <td>0.0</td>\n",
       "      <td>0.0</td>\n",
       "    </tr>\n",
       "    <tr>\n",
       "      <th>min</th>\n",
       "      <td>0.0</td>\n",
       "      <td>0.0</td>\n",
       "    </tr>\n",
       "    <tr>\n",
       "      <th>lower_quartile</th>\n",
       "      <td>1.0</td>\n",
       "      <td>0.0</td>\n",
       "    </tr>\n",
       "    <tr>\n",
       "      <th>median</th>\n",
       "      <td>1.0</td>\n",
       "      <td>1.0</td>\n",
       "    </tr>\n",
       "    <tr>\n",
       "      <th>upper_quartile</th>\n",
       "      <td>2.0</td>\n",
       "      <td>2.0</td>\n",
       "    </tr>\n",
       "    <tr>\n",
       "      <th>max</th>\n",
       "      <td>31.0</td>\n",
       "      <td>21.0</td>\n",
       "    </tr>\n",
       "  </tbody>\n",
       "</table>\n",
       "</div>"
      ],
      "text/plain": [
       "                home_score  away_score\n",
       "missing_ratio          0.0         0.0\n",
       "min                    0.0         0.0\n",
       "lower_quartile         1.0         0.0\n",
       "median                 1.0         1.0\n",
       "upper_quartile         2.0         2.0\n",
       "max                   31.0        21.0"
      ]
     },
     "execution_count": 17,
     "metadata": {},
     "output_type": "execute_result"
    }
   ],
   "source": [
    "results_num_col_info = raw_results.select_dtypes(include=np.number)\n",
    "results_num_col_info = results_num_col_info.agg([missing_ratio, \"min\", lower_quartile, median, upper_quartile, \"max\"])\n",
    "results_num_col_info = results_num_col_info.round(1)\n",
    "results_num_col_info"
   ]
  },
  {
   "cell_type": "markdown",
   "metadata": {},
   "source": [
    "**Nhận xét:** dữ liệu của cột `home_score` & `away_score` rất tốt, phân bổ hợp lý với tỉ số các trận đấu quốc tế từng được ghi nhận."
   ]
  },
  {
   "cell_type": "markdown",
   "metadata": {},
   "source": [
    "### For each categorical column, how are the values distributed?"
   ]
  },
  {
   "cell_type": "markdown",
   "metadata": {},
   "source": [
    "Đối với các cột có kiểu dữ liệu không phải số:\n",
    "- Tỷ lệ phần trăm (từ 0 đến 100) các giá trị bị thiếu\n",
    "- Số lượng giá trị (các giá trị ở đây là các giá trị khác nhau và chúng tôi không xem xét các giá trị bị thiếu): với các cột có kiểu là phân loại, thì đó là một tập hợp có số lượng danh mục hữu hạn. Việc đếm trực tiếp số lượng giá trị trong các cột này không có nhiều ý nghĩa, vì vậy tốt hơn là đếm số lượng phần tử của tất cả các kiểu. (Số lượng giá trị (các giá trị ở đây là các giá trị khác nhau và ta không đánh giá giá trị thiếu): với cột mà có loại là phân loại, nó là một tập hợp có số lượng hữu hạn các loại. Việc đếm trực tiếp số lượng giá trị trong những cột này không có nhiều ý nghĩa, nên tốt hơn hết là sẽ đếm số lượng các loại tử tử.)\n",
    "- Tỷ lệ phần trăm (từ 0 đến 100) của mỗi giá trị được sắp xếp theo tỷ lệ phần trăm giảm dần (không xét giá trị thiếu, tỷ lệ là tỷ lệ so với số giá trị không thiếu): bạn dùng từ điển để lưu trữ, key là giá trị, value là phần trăm; Với cột tương ứng với từng loại, cách thực hiện tương tự như trên.\n",
    "\n",
    "Ta sẽ lưu kết quả vào DataFrame `cat_col_info_df`, trong đó:\n",
    "- Tên các cột là tên các cột không phải số trong `raw_df`\n",
    "- Tên các dòng là: “missing_ratio”, “num_values”, “value_ratios”"
   ]
  },
  {
   "cell_type": "markdown",
   "metadata": {},
   "source": [
    "**DataFrame** `raw_results`"
   ]
  },
  {
   "cell_type": "code",
   "execution_count": 18,
   "metadata": {},
   "outputs": [
    {
     "data": {
      "text/html": [
       "<div>\n",
       "<style scoped>\n",
       "    .dataframe tbody tr th:only-of-type {\n",
       "        vertical-align: middle;\n",
       "    }\n",
       "\n",
       "    .dataframe tbody tr th {\n",
       "        vertical-align: top;\n",
       "    }\n",
       "\n",
       "    .dataframe thead th {\n",
       "        text-align: right;\n",
       "    }\n",
       "</style>\n",
       "<table border=\"1\" class=\"dataframe\">\n",
       "  <thead>\n",
       "    <tr style=\"text-align: right;\">\n",
       "      <th></th>\n",
       "      <th>missing_ratio</th>\n",
       "      <th>num_value</th>\n",
       "      <th>value_ratio</th>\n",
       "    </tr>\n",
       "  </thead>\n",
       "  <tbody>\n",
       "    <tr>\n",
       "      <th>date</th>\n",
       "      <td>0.0</td>\n",
       "      <td>16228</td>\n",
       "      <td>2012-02-29    0.137738\n",
       "2016-03-29    0.133564\n",
       "...</td>\n",
       "    </tr>\n",
       "    <tr>\n",
       "      <th>home_team</th>\n",
       "      <td>0.0</td>\n",
       "      <td>327</td>\n",
       "      <td>Brazil         1.262600\n",
       "Argentina      1.24173...</td>\n",
       "    </tr>\n",
       "    <tr>\n",
       "      <th>away_team</th>\n",
       "      <td>0.0</td>\n",
       "      <td>321</td>\n",
       "      <td>Uruguay      1.199992\n",
       "Sweden       1.162427\n",
       "En...</td>\n",
       "    </tr>\n",
       "    <tr>\n",
       "      <th>tournament</th>\n",
       "      <td>0.0</td>\n",
       "      <td>176</td>\n",
       "      <td>Friendly                                37.648...</td>\n",
       "    </tr>\n",
       "    <tr>\n",
       "      <th>city</th>\n",
       "      <td>0.0</td>\n",
       "      <td>2080</td>\n",
       "      <td>Kuala Lumpur    1.523468\n",
       "Bangkok         1.197...</td>\n",
       "    </tr>\n",
       "    <tr>\n",
       "      <th>country</th>\n",
       "      <td>0.0</td>\n",
       "      <td>270</td>\n",
       "      <td>United States          2.936327\n",
       "France        ...</td>\n",
       "    </tr>\n",
       "    <tr>\n",
       "      <th>neutral</th>\n",
       "      <td>0.0</td>\n",
       "      <td>2</td>\n",
       "      <td>False    73.687835\n",
       "True     26.312165\n",
       "Name: ne...</td>\n",
       "    </tr>\n",
       "  </tbody>\n",
       "</table>\n",
       "</div>"
      ],
      "text/plain": [
       "            missing_ratio  num_value  \\\n",
       "date                  0.0      16228   \n",
       "home_team             0.0        327   \n",
       "away_team             0.0        321   \n",
       "tournament            0.0        176   \n",
       "city                  0.0       2080   \n",
       "country               0.0        270   \n",
       "neutral               0.0          2   \n",
       "\n",
       "                                                  value_ratio  \n",
       "date        2012-02-29    0.137738\n",
       "2016-03-29    0.133564\n",
       "...  \n",
       "home_team   Brazil         1.262600\n",
       "Argentina      1.24173...  \n",
       "away_team   Uruguay      1.199992\n",
       "Sweden       1.162427\n",
       "En...  \n",
       "tournament  Friendly                                37.648...  \n",
       "city        Kuala Lumpur    1.523468\n",
       "Bangkok         1.197...  \n",
       "country     United States          2.936327\n",
       "France        ...  \n",
       "neutral     False    73.687835\n",
       "True     26.312165\n",
       "Name: ne...  "
      ]
     },
     "execution_count": 18,
     "metadata": {},
     "output_type": "execute_result"
    }
   ],
   "source": [
    "# Chọn các cột kiểu categorical \n",
    "cate_cols = raw_results.select_dtypes(exclude=['number']).columns\n",
    "cate_col_info = {}\n",
    "\n",
    "for col in cate_cols:\n",
    "    # Tỉ lệ giá trị NaN\n",
    "    missing_ratio = raw_results[col].isna().mean() * 100\n",
    "    # Số lượng giá trị duy nhất\n",
    "    num_value = raw_results[col].nunique()\n",
    "    # Phần trăm giá trị duy nhất\n",
    "    value_counts = raw_results[col].value_counts(dropna = True)\n",
    "    value_ratios = (value_counts / value_counts.sum()) * 100\n",
    "    cate_col_info[col] = {\n",
    "        'missing_ratio': missing_ratio,\n",
    "        'num_value': num_value,\n",
    "        'value_ratio': value_ratios\n",
    "    }\n",
    "# Chuyển thành dataframe\n",
    "cate_col_info_df = pd.DataFrame.from_dict(cate_col_info, orient = 'index')\n",
    "cate_col_info_df"
   ]
  },
  {
   "cell_type": "markdown",
   "metadata": {},
   "source": [
    "- Nhận xét: Dữ liệu từ results.csv rất tốt vì không có dữ liệu nào bị mất. Phân bổ dữ liệu cũng rất hợp lý\n"
   ]
  },
  {
   "cell_type": "markdown",
   "metadata": {},
   "source": [
    "**DataFrame** `raw_goalscores`"
   ]
  },
  {
   "cell_type": "code",
   "execution_count": 19,
   "metadata": {},
   "outputs": [
    {
     "data": {
      "text/html": [
       "<div>\n",
       "<style scoped>\n",
       "    .dataframe tbody tr th:only-of-type {\n",
       "        vertical-align: middle;\n",
       "    }\n",
       "\n",
       "    .dataframe tbody tr th {\n",
       "        vertical-align: top;\n",
       "    }\n",
       "\n",
       "    .dataframe thead th {\n",
       "        text-align: right;\n",
       "    }\n",
       "</style>\n",
       "<table border=\"1\" class=\"dataframe\">\n",
       "  <thead>\n",
       "    <tr style=\"text-align: right;\">\n",
       "      <th></th>\n",
       "      <th>missing_ratio</th>\n",
       "      <th>num_value</th>\n",
       "      <th>value_ratio</th>\n",
       "    </tr>\n",
       "  </thead>\n",
       "  <tbody>\n",
       "    <tr>\n",
       "      <th>date</th>\n",
       "      <td>0.000000</td>\n",
       "      <td>4630</td>\n",
       "      <td>2011-10-11    0.327802\n",
       "2008-10-11    0.307456\n",
       "...</td>\n",
       "    </tr>\n",
       "    <tr>\n",
       "      <th>home_team</th>\n",
       "      <td>0.000000</td>\n",
       "      <td>220</td>\n",
       "      <td>Brazil              2.312701\n",
       "Argentina        ...</td>\n",
       "    </tr>\n",
       "    <tr>\n",
       "      <th>away_team</th>\n",
       "      <td>0.000000</td>\n",
       "      <td>220</td>\n",
       "      <td>Uruguay          1.779174\n",
       "Paraguay         1.4...</td>\n",
       "    </tr>\n",
       "    <tr>\n",
       "      <th>team</th>\n",
       "      <td>0.000000</td>\n",
       "      <td>220</td>\n",
       "      <td>Brazil           2.376000\n",
       "Germany          2.2...</td>\n",
       "    </tr>\n",
       "    <tr>\n",
       "      <th>scorer</th>\n",
       "      <td>0.006782</td>\n",
       "      <td>14324</td>\n",
       "      <td>Cristiano Ronaldo       0.244173\n",
       "Robert Lewand...</td>\n",
       "    </tr>\n",
       "    <tr>\n",
       "      <th>own_goal</th>\n",
       "      <td>0.000000</td>\n",
       "      <td>2</td>\n",
       "      <td>False    98.143962\n",
       "True      1.856038\n",
       "Name: ow...</td>\n",
       "    </tr>\n",
       "    <tr>\n",
       "      <th>penalty</th>\n",
       "      <td>0.000000</td>\n",
       "      <td>2</td>\n",
       "      <td>False    93.303793\n",
       "True      6.696207\n",
       "Name: pe...</td>\n",
       "    </tr>\n",
       "  </tbody>\n",
       "</table>\n",
       "</div>"
      ],
      "text/plain": [
       "           missing_ratio  num_value  \\\n",
       "date            0.000000       4630   \n",
       "home_team       0.000000        220   \n",
       "away_team       0.000000        220   \n",
       "team            0.000000        220   \n",
       "scorer          0.006782      14324   \n",
       "own_goal        0.000000          2   \n",
       "penalty         0.000000          2   \n",
       "\n",
       "                                                 value_ratio  \n",
       "date       2011-10-11    0.327802\n",
       "2008-10-11    0.307456\n",
       "...  \n",
       "home_team  Brazil              2.312701\n",
       "Argentina        ...  \n",
       "away_team  Uruguay          1.779174\n",
       "Paraguay         1.4...  \n",
       "team       Brazil           2.376000\n",
       "Germany          2.2...  \n",
       "scorer     Cristiano Ronaldo       0.244173\n",
       "Robert Lewand...  \n",
       "own_goal   False    98.143962\n",
       "True      1.856038\n",
       "Name: ow...  \n",
       "penalty    False    93.303793\n",
       "True      6.696207\n",
       "Name: pe...  "
      ]
     },
     "execution_count": 19,
     "metadata": {},
     "output_type": "execute_result"
    }
   ],
   "source": [
    "# Chọn các cột kiểu categorical \n",
    "cate_cols = raw_goal_scorers.select_dtypes(exclude=['number']).columns\n",
    "cate_col_info = {}\n",
    "\n",
    "for col in cate_cols:\n",
    "    # Tỉ lệ giá trị NaN\n",
    "    missing_ratio = raw_goal_scorers[col].isna().mean() * 100\n",
    "    # Số lượng giá trị duy nhất\n",
    "    num_value = raw_goal_scorers[col].nunique()\n",
    "    # Phần trăm giá trị duy nhất\n",
    "    value_counts = raw_goal_scorers[col].value_counts(dropna = True)\n",
    "    value_ratios = (value_counts / value_counts.sum()) * 100\n",
    "    cate_col_info[col] = {\n",
    "        'missing_ratio': missing_ratio,\n",
    "        'num_value': num_value,\n",
    "        'value_ratio': value_ratios\n",
    "    }\n",
    "# Chuyển thành dataframe\n",
    "cate_col_info_df = pd.DataFrame.from_dict(cate_col_info, orient = 'index')\n",
    "cate_col_info_df"
   ]
  },
  {
   "cell_type": "markdown",
   "metadata": {},
   "source": [
    "- Nhận xét: Dữ liệu từ `goalscorers.csv` rất tốt vì chỉ có ở cột người ghi bàn ở một trận có kết quả 0-0 là NaN, đó là điều bình thường, còn lại không có dữ liệu nào bị mất. Phần bổ dữ liệu cũng rất hợp lý."
   ]
  },
  {
   "cell_type": "markdown",
   "metadata": {},
   "source": [
    "**DataFrame** `raw_shootouts`\n"
   ]
  },
  {
   "cell_type": "code",
   "execution_count": 20,
   "metadata": {},
   "outputs": [
    {
     "data": {
      "text/html": [
       "<div>\n",
       "<style scoped>\n",
       "    .dataframe tbody tr th:only-of-type {\n",
       "        vertical-align: middle;\n",
       "    }\n",
       "\n",
       "    .dataframe tbody tr th {\n",
       "        vertical-align: top;\n",
       "    }\n",
       "\n",
       "    .dataframe thead th {\n",
       "        text-align: right;\n",
       "    }\n",
       "</style>\n",
       "<table border=\"1\" class=\"dataframe\">\n",
       "  <thead>\n",
       "    <tr style=\"text-align: right;\">\n",
       "      <th></th>\n",
       "      <th>missing_ratio</th>\n",
       "      <th>num_value</th>\n",
       "      <th>value_ratio</th>\n",
       "    </tr>\n",
       "  </thead>\n",
       "  <tbody>\n",
       "    <tr>\n",
       "      <th>date</th>\n",
       "      <td>0.000000</td>\n",
       "      <td>568</td>\n",
       "      <td>2016-06-03    0.775194\n",
       "2024-03-26    0.775194\n",
       "...</td>\n",
       "    </tr>\n",
       "    <tr>\n",
       "      <th>home_team</th>\n",
       "      <td>0.000000</td>\n",
       "      <td>181</td>\n",
       "      <td>South Africa      2.790698\n",
       "Zambia            2...</td>\n",
       "    </tr>\n",
       "    <tr>\n",
       "      <th>away_team</th>\n",
       "      <td>0.000000</td>\n",
       "      <td>190</td>\n",
       "      <td>Egypt                  2.325581\n",
       "Uganda        ...</td>\n",
       "    </tr>\n",
       "    <tr>\n",
       "      <th>winner</th>\n",
       "      <td>0.000000</td>\n",
       "      <td>175</td>\n",
       "      <td>Argentina      2.325581\n",
       "South Korea    2.32558...</td>\n",
       "    </tr>\n",
       "    <tr>\n",
       "      <th>first_shooter</th>\n",
       "      <td>64.341085</td>\n",
       "      <td>87</td>\n",
       "      <td>Colombia                  4.782609\n",
       "Italy      ...</td>\n",
       "    </tr>\n",
       "  </tbody>\n",
       "</table>\n",
       "</div>"
      ],
      "text/plain": [
       "               missing_ratio  num_value  \\\n",
       "date                0.000000        568   \n",
       "home_team           0.000000        181   \n",
       "away_team           0.000000        190   \n",
       "winner              0.000000        175   \n",
       "first_shooter      64.341085         87   \n",
       "\n",
       "                                                     value_ratio  \n",
       "date           2016-06-03    0.775194\n",
       "2024-03-26    0.775194\n",
       "...  \n",
       "home_team      South Africa      2.790698\n",
       "Zambia            2...  \n",
       "away_team      Egypt                  2.325581\n",
       "Uganda        ...  \n",
       "winner         Argentina      2.325581\n",
       "South Korea    2.32558...  \n",
       "first_shooter  Colombia                  4.782609\n",
       "Italy      ...  "
      ]
     },
     "execution_count": 20,
     "metadata": {},
     "output_type": "execute_result"
    }
   ],
   "source": [
    "# Chọn các cột kiểu categorical \n",
    "cate_cols = raw_shootouts.select_dtypes(exclude=['number']).columns\n",
    "cate_col_info = {}\n",
    "\n",
    "for col in cate_cols:\n",
    "    # Tỉ lệ giá trị NaN\n",
    "    missing_ratio = raw_shootouts[col].isna().mean() * 100\n",
    "    # Số lượng giá trị duy nhất\n",
    "    num_value = raw_shootouts[col].nunique()\n",
    "    # Phần trăm giá trị duy nhất\n",
    "    value_counts = raw_shootouts[col].value_counts(dropna = True)\n",
    "    value_ratios = (value_counts / value_counts.sum()) * 100\n",
    "    cate_col_info[col] = {\n",
    "        'missing_ratio': missing_ratio,\n",
    "        'num_value': num_value,\n",
    "        'value_ratio': value_ratios\n",
    "    }\n",
    "# Chuyển thành dataframe\n",
    "cate_col_info_df = pd.DataFrame.from_dict(cate_col_info, orient = 'index')\n",
    "cate_col_info_df"
   ]
  },
  {
   "cell_type": "markdown",
   "metadata": {},
   "source": [
    "- Nhận xét: Cột first_shooter bị thiếu dữ liệu quá nhiều, không có nhiều ý nghĩa cho việc phân tích nên ta sẽ loại bỏ cột này."
   ]
  },
  {
   "cell_type": "code",
   "execution_count": 21,
   "metadata": {},
   "outputs": [
    {
     "data": {
      "text/html": [
       "<div>\n",
       "<style scoped>\n",
       "    .dataframe tbody tr th:only-of-type {\n",
       "        vertical-align: middle;\n",
       "    }\n",
       "\n",
       "    .dataframe tbody tr th {\n",
       "        vertical-align: top;\n",
       "    }\n",
       "\n",
       "    .dataframe thead th {\n",
       "        text-align: right;\n",
       "    }\n",
       "</style>\n",
       "<table border=\"1\" class=\"dataframe\">\n",
       "  <thead>\n",
       "    <tr style=\"text-align: right;\">\n",
       "      <th></th>\n",
       "      <th>date</th>\n",
       "      <th>home_team</th>\n",
       "      <th>away_team</th>\n",
       "      <th>winner</th>\n",
       "    </tr>\n",
       "  </thead>\n",
       "  <tbody>\n",
       "    <tr>\n",
       "      <th>0</th>\n",
       "      <td>1967-08-22</td>\n",
       "      <td>India</td>\n",
       "      <td>Taiwan</td>\n",
       "      <td>Taiwan</td>\n",
       "    </tr>\n",
       "    <tr>\n",
       "      <th>1</th>\n",
       "      <td>1971-11-14</td>\n",
       "      <td>South Korea</td>\n",
       "      <td>Vietnam Republic</td>\n",
       "      <td>South Korea</td>\n",
       "    </tr>\n",
       "    <tr>\n",
       "      <th>2</th>\n",
       "      <td>1972-05-07</td>\n",
       "      <td>South Korea</td>\n",
       "      <td>Iraq</td>\n",
       "      <td>Iraq</td>\n",
       "    </tr>\n",
       "    <tr>\n",
       "      <th>3</th>\n",
       "      <td>1972-05-17</td>\n",
       "      <td>Thailand</td>\n",
       "      <td>South Korea</td>\n",
       "      <td>South Korea</td>\n",
       "    </tr>\n",
       "    <tr>\n",
       "      <th>4</th>\n",
       "      <td>1972-05-19</td>\n",
       "      <td>Thailand</td>\n",
       "      <td>Cambodia</td>\n",
       "      <td>Thailand</td>\n",
       "    </tr>\n",
       "    <tr>\n",
       "      <th>...</th>\n",
       "      <td>...</td>\n",
       "      <td>...</td>\n",
       "      <td>...</td>\n",
       "      <td>...</td>\n",
       "    </tr>\n",
       "    <tr>\n",
       "      <th>640</th>\n",
       "      <td>2024-07-05</td>\n",
       "      <td>Venezuela</td>\n",
       "      <td>Canada</td>\n",
       "      <td>Canada</td>\n",
       "    </tr>\n",
       "    <tr>\n",
       "      <th>641</th>\n",
       "      <td>2024-07-06</td>\n",
       "      <td>England</td>\n",
       "      <td>Switzerland</td>\n",
       "      <td>England</td>\n",
       "    </tr>\n",
       "    <tr>\n",
       "      <th>642</th>\n",
       "      <td>2024-07-06</td>\n",
       "      <td>Uruguay</td>\n",
       "      <td>Brazil</td>\n",
       "      <td>Uruguay</td>\n",
       "    </tr>\n",
       "    <tr>\n",
       "      <th>643</th>\n",
       "      <td>2024-07-13</td>\n",
       "      <td>Canada</td>\n",
       "      <td>Uruguay</td>\n",
       "      <td>Uruguay</td>\n",
       "    </tr>\n",
       "    <tr>\n",
       "      <th>644</th>\n",
       "      <td>2024-09-08</td>\n",
       "      <td>Tajikistan</td>\n",
       "      <td>Philippines</td>\n",
       "      <td>Tajikistan</td>\n",
       "    </tr>\n",
       "  </tbody>\n",
       "</table>\n",
       "<p>645 rows × 4 columns</p>\n",
       "</div>"
      ],
      "text/plain": [
       "           date    home_team         away_team       winner\n",
       "0    1967-08-22        India            Taiwan       Taiwan\n",
       "1    1971-11-14  South Korea  Vietnam Republic  South Korea\n",
       "2    1972-05-07  South Korea              Iraq         Iraq\n",
       "3    1972-05-17     Thailand       South Korea  South Korea\n",
       "4    1972-05-19     Thailand          Cambodia     Thailand\n",
       "..          ...          ...               ...          ...\n",
       "640  2024-07-05    Venezuela            Canada       Canada\n",
       "641  2024-07-06      England       Switzerland      England\n",
       "642  2024-07-06      Uruguay            Brazil      Uruguay\n",
       "643  2024-07-13       Canada           Uruguay      Uruguay\n",
       "644  2024-09-08   Tajikistan       Philippines   Tajikistan\n",
       "\n",
       "[645 rows x 4 columns]"
      ]
     },
     "execution_count": 21,
     "metadata": {},
     "output_type": "execute_result"
    }
   ],
   "source": [
    "## Xóa cột `first_shooter`\n",
    "raw_shootouts = raw_shootouts.drop('first_shooter', axis = 1)\n",
    "raw_shootouts"
   ]
  },
  {
   "cell_type": "markdown",
   "metadata": {},
   "source": [
    "### Merge 3 DataFrames\n",
    "Để tiện cho việc phân tích các dữ liệu có liên quan với nhau, ta sẽ merge 3 DataFrames `raw_results`, `raw_goal_scorers`, `raw_shootouts` thành 1 DataFrames `merged_data`."
   ]
  },
  {
   "cell_type": "code",
   "execution_count": 22,
   "metadata": {},
   "outputs": [
    {
     "data": {
      "text/html": [
       "<div>\n",
       "<style scoped>\n",
       "    .dataframe tbody tr th:only-of-type {\n",
       "        vertical-align: middle;\n",
       "    }\n",
       "\n",
       "    .dataframe tbody tr th {\n",
       "        vertical-align: top;\n",
       "    }\n",
       "\n",
       "    .dataframe thead th {\n",
       "        text-align: right;\n",
       "    }\n",
       "</style>\n",
       "<table border=\"1\" class=\"dataframe\">\n",
       "  <thead>\n",
       "    <tr style=\"text-align: right;\">\n",
       "      <th></th>\n",
       "      <th>date</th>\n",
       "      <th>home_team</th>\n",
       "      <th>away_team</th>\n",
       "      <th>home_score</th>\n",
       "      <th>away_score</th>\n",
       "      <th>tournament</th>\n",
       "      <th>city</th>\n",
       "      <th>country</th>\n",
       "      <th>neutral</th>\n",
       "      <th>team</th>\n",
       "      <th>scorer</th>\n",
       "      <th>minute</th>\n",
       "      <th>own_goal</th>\n",
       "      <th>penalty</th>\n",
       "      <th>winner</th>\n",
       "    </tr>\n",
       "  </thead>\n",
       "  <tbody>\n",
       "    <tr>\n",
       "      <th>0</th>\n",
       "      <td>1872-11-30</td>\n",
       "      <td>Scotland</td>\n",
       "      <td>England</td>\n",
       "      <td>0</td>\n",
       "      <td>0</td>\n",
       "      <td>Friendly</td>\n",
       "      <td>Glasgow</td>\n",
       "      <td>Scotland</td>\n",
       "      <td>False</td>\n",
       "      <td>NaN</td>\n",
       "      <td>NaN</td>\n",
       "      <td>NaN</td>\n",
       "      <td>NaN</td>\n",
       "      <td>NaN</td>\n",
       "      <td>NaN</td>\n",
       "    </tr>\n",
       "    <tr>\n",
       "      <th>1</th>\n",
       "      <td>1873-03-08</td>\n",
       "      <td>England</td>\n",
       "      <td>Scotland</td>\n",
       "      <td>4</td>\n",
       "      <td>2</td>\n",
       "      <td>Friendly</td>\n",
       "      <td>London</td>\n",
       "      <td>England</td>\n",
       "      <td>False</td>\n",
       "      <td>NaN</td>\n",
       "      <td>NaN</td>\n",
       "      <td>NaN</td>\n",
       "      <td>NaN</td>\n",
       "      <td>NaN</td>\n",
       "      <td>NaN</td>\n",
       "    </tr>\n",
       "    <tr>\n",
       "      <th>2</th>\n",
       "      <td>1874-03-07</td>\n",
       "      <td>Scotland</td>\n",
       "      <td>England</td>\n",
       "      <td>2</td>\n",
       "      <td>1</td>\n",
       "      <td>Friendly</td>\n",
       "      <td>Glasgow</td>\n",
       "      <td>Scotland</td>\n",
       "      <td>False</td>\n",
       "      <td>NaN</td>\n",
       "      <td>NaN</td>\n",
       "      <td>NaN</td>\n",
       "      <td>NaN</td>\n",
       "      <td>NaN</td>\n",
       "      <td>NaN</td>\n",
       "    </tr>\n",
       "    <tr>\n",
       "      <th>3</th>\n",
       "      <td>1875-03-06</td>\n",
       "      <td>England</td>\n",
       "      <td>Scotland</td>\n",
       "      <td>2</td>\n",
       "      <td>2</td>\n",
       "      <td>Friendly</td>\n",
       "      <td>London</td>\n",
       "      <td>England</td>\n",
       "      <td>False</td>\n",
       "      <td>NaN</td>\n",
       "      <td>NaN</td>\n",
       "      <td>NaN</td>\n",
       "      <td>NaN</td>\n",
       "      <td>NaN</td>\n",
       "      <td>NaN</td>\n",
       "    </tr>\n",
       "    <tr>\n",
       "      <th>4</th>\n",
       "      <td>1876-03-04</td>\n",
       "      <td>Scotland</td>\n",
       "      <td>England</td>\n",
       "      <td>3</td>\n",
       "      <td>0</td>\n",
       "      <td>Friendly</td>\n",
       "      <td>Glasgow</td>\n",
       "      <td>Scotland</td>\n",
       "      <td>False</td>\n",
       "      <td>NaN</td>\n",
       "      <td>NaN</td>\n",
       "      <td>NaN</td>\n",
       "      <td>NaN</td>\n",
       "      <td>NaN</td>\n",
       "      <td>NaN</td>\n",
       "    </tr>\n",
       "    <tr>\n",
       "      <th>5</th>\n",
       "      <td>1876-03-25</td>\n",
       "      <td>Scotland</td>\n",
       "      <td>Wales</td>\n",
       "      <td>4</td>\n",
       "      <td>0</td>\n",
       "      <td>Friendly</td>\n",
       "      <td>Glasgow</td>\n",
       "      <td>Scotland</td>\n",
       "      <td>False</td>\n",
       "      <td>NaN</td>\n",
       "      <td>NaN</td>\n",
       "      <td>NaN</td>\n",
       "      <td>NaN</td>\n",
       "      <td>NaN</td>\n",
       "      <td>NaN</td>\n",
       "    </tr>\n",
       "    <tr>\n",
       "      <th>6</th>\n",
       "      <td>1877-03-03</td>\n",
       "      <td>England</td>\n",
       "      <td>Scotland</td>\n",
       "      <td>1</td>\n",
       "      <td>3</td>\n",
       "      <td>Friendly</td>\n",
       "      <td>London</td>\n",
       "      <td>England</td>\n",
       "      <td>False</td>\n",
       "      <td>NaN</td>\n",
       "      <td>NaN</td>\n",
       "      <td>NaN</td>\n",
       "      <td>NaN</td>\n",
       "      <td>NaN</td>\n",
       "      <td>NaN</td>\n",
       "    </tr>\n",
       "    <tr>\n",
       "      <th>7</th>\n",
       "      <td>1877-03-05</td>\n",
       "      <td>Wales</td>\n",
       "      <td>Scotland</td>\n",
       "      <td>0</td>\n",
       "      <td>2</td>\n",
       "      <td>Friendly</td>\n",
       "      <td>Wrexham</td>\n",
       "      <td>Wales</td>\n",
       "      <td>False</td>\n",
       "      <td>NaN</td>\n",
       "      <td>NaN</td>\n",
       "      <td>NaN</td>\n",
       "      <td>NaN</td>\n",
       "      <td>NaN</td>\n",
       "      <td>NaN</td>\n",
       "    </tr>\n",
       "    <tr>\n",
       "      <th>8</th>\n",
       "      <td>1878-03-02</td>\n",
       "      <td>Scotland</td>\n",
       "      <td>England</td>\n",
       "      <td>7</td>\n",
       "      <td>2</td>\n",
       "      <td>Friendly</td>\n",
       "      <td>Glasgow</td>\n",
       "      <td>Scotland</td>\n",
       "      <td>False</td>\n",
       "      <td>NaN</td>\n",
       "      <td>NaN</td>\n",
       "      <td>NaN</td>\n",
       "      <td>NaN</td>\n",
       "      <td>NaN</td>\n",
       "      <td>NaN</td>\n",
       "    </tr>\n",
       "    <tr>\n",
       "      <th>9</th>\n",
       "      <td>1878-03-23</td>\n",
       "      <td>Scotland</td>\n",
       "      <td>Wales</td>\n",
       "      <td>9</td>\n",
       "      <td>0</td>\n",
       "      <td>Friendly</td>\n",
       "      <td>Glasgow</td>\n",
       "      <td>Scotland</td>\n",
       "      <td>False</td>\n",
       "      <td>NaN</td>\n",
       "      <td>NaN</td>\n",
       "      <td>NaN</td>\n",
       "      <td>NaN</td>\n",
       "      <td>NaN</td>\n",
       "      <td>NaN</td>\n",
       "    </tr>\n",
       "  </tbody>\n",
       "</table>\n",
       "</div>"
      ],
      "text/plain": [
       "         date home_team away_team  home_score  away_score tournament     city  \\\n",
       "0  1872-11-30  Scotland   England           0           0   Friendly  Glasgow   \n",
       "1  1873-03-08   England  Scotland           4           2   Friendly   London   \n",
       "2  1874-03-07  Scotland   England           2           1   Friendly  Glasgow   \n",
       "3  1875-03-06   England  Scotland           2           2   Friendly   London   \n",
       "4  1876-03-04  Scotland   England           3           0   Friendly  Glasgow   \n",
       "5  1876-03-25  Scotland     Wales           4           0   Friendly  Glasgow   \n",
       "6  1877-03-03   England  Scotland           1           3   Friendly   London   \n",
       "7  1877-03-05     Wales  Scotland           0           2   Friendly  Wrexham   \n",
       "8  1878-03-02  Scotland   England           7           2   Friendly  Glasgow   \n",
       "9  1878-03-23  Scotland     Wales           9           0   Friendly  Glasgow   \n",
       "\n",
       "    country  neutral team scorer  minute own_goal penalty winner  \n",
       "0  Scotland    False  NaN    NaN     NaN      NaN     NaN    NaN  \n",
       "1   England    False  NaN    NaN     NaN      NaN     NaN    NaN  \n",
       "2  Scotland    False  NaN    NaN     NaN      NaN     NaN    NaN  \n",
       "3   England    False  NaN    NaN     NaN      NaN     NaN    NaN  \n",
       "4  Scotland    False  NaN    NaN     NaN      NaN     NaN    NaN  \n",
       "5  Scotland    False  NaN    NaN     NaN      NaN     NaN    NaN  \n",
       "6   England    False  NaN    NaN     NaN      NaN     NaN    NaN  \n",
       "7     Wales    False  NaN    NaN     NaN      NaN     NaN    NaN  \n",
       "8  Scotland    False  NaN    NaN     NaN      NaN     NaN    NaN  \n",
       "9  Scotland    False  NaN    NaN     NaN      NaN     NaN    NaN  "
      ]
     },
     "execution_count": 22,
     "metadata": {},
     "output_type": "execute_result"
    }
   ],
   "source": [
    "merged_data = pd.merge(raw_results, raw_goal_scorers, how= 'left', on = ['date', 'home_team', 'away_team'])\n",
    "merged_data = pd.merge(merged_data, raw_shootouts, how = 'left', on = ['date', 'home_team','away_team'])\n",
    "merged_data.head(10)     "
   ]
  },
  {
   "cell_type": "markdown",
   "metadata": {},
   "source": [
    "Nhận thấy rằng, một số cột có tên không còn được rõ ràng sau khi được gộp từ DataFrame cũ vào DataFrame `merged_data`.\n",
    "- Cột `winner` vốn thuộc `raw_shootouts` giờ nên được đổi thành `winner_pen_shootout`.\n",
    "- Cột `penalty` vốn thuộc `raw_goal_scorers` giờ nên được đổi thành `pen_goal`"
   ]
  },
  {
   "cell_type": "code",
   "execution_count": 23,
   "metadata": {},
   "outputs": [],
   "source": [
    "# Đổi tên cột `winner` thành `winner_pen_shootout`\n",
    "merged_data = merged_data.rename(columns = {'winner': 'winner_pen_shootout'})\n",
    "\n",
    "# Đổi tên cột `penalty` thành `pen_goal`\n",
    "merged_data = merged_data.rename(columns = {'penalty': 'pen_goal'})"
   ]
  },
  {
   "cell_type": "markdown",
   "metadata": {},
   "source": [
    "#### Lưu dữ liệu sau khi vào `all_data.csv`"
   ]
  },
  {
   "cell_type": "code",
   "execution_count": 24,
   "metadata": {},
   "outputs": [],
   "source": [
    "merged_data.to_csv('Data/all_data.csv', index=False)"
   ]
  },
  {
   "cell_type": "markdown",
   "metadata": {},
   "source": [
    "#### Đọc dữ liệu từ `all_data.csv` vào DataFrame `df` trước khi thực hiện các bước tiếp theo"
   ]
  },
  {
   "cell_type": "code",
   "execution_count": 25,
   "metadata": {},
   "outputs": [],
   "source": [
    "df = pd.read_csv(\"Data/all_data.csv\")"
   ]
  },
  {
   "cell_type": "markdown",
   "metadata": {},
   "source": [
    "### Normalize data to its correct type"
   ]
  },
  {
   "cell_type": "code",
   "execution_count": 26,
   "metadata": {},
   "outputs": [
    {
     "data": {
      "text/plain": [
       "date                    object\n",
       "home_team               object\n",
       "away_team               object\n",
       "home_score               int64\n",
       "away_score               int64\n",
       "tournament              object\n",
       "city                    object\n",
       "country                 object\n",
       "neutral                   bool\n",
       "team                    object\n",
       "scorer                  object\n",
       "minute                 float64\n",
       "own_goal                object\n",
       "pen_goal                object\n",
       "winner_pen_shootout     object\n",
       "dtype: object"
      ]
     },
     "execution_count": 26,
     "metadata": {},
     "output_type": "execute_result"
    }
   ],
   "source": [
    "# Kiểu dữ liệu hiện tại\n",
    "df.dtypes"
   ]
  },
  {
   "cell_type": "markdown",
   "metadata": {},
   "source": [
    "Có thể thấy rằng `date` chưa đúng kiểu dữ liệu"
   ]
  },
  {
   "cell_type": "code",
   "execution_count": 27,
   "metadata": {},
   "outputs": [],
   "source": [
    "# Chuyển ngày diễn ra trận đấu về kiểu dữ liệu `Date`\n",
    "df['date']  = pd.to_datetime(df['date'])"
   ]
  },
  {
   "cell_type": "markdown",
   "metadata": {},
   "source": [
    "Kiểm tra lại thông tin của `df`:"
   ]
  },
  {
   "cell_type": "code",
   "execution_count": 28,
   "metadata": {},
   "outputs": [
    {
     "name": "stdout",
     "output_type": "stream",
     "text": [
      "<class 'pandas.core.frame.DataFrame'>\n",
      "RangeIndex: 77785 entries, 0 to 77784\n",
      "Data columns (total 15 columns):\n",
      " #   Column               Non-Null Count  Dtype         \n",
      "---  ------               --------------  -----         \n",
      " 0   date                 77785 non-null  datetime64[ns]\n",
      " 1   home_team            77785 non-null  object        \n",
      " 2   away_team            77785 non-null  object        \n",
      " 3   home_score           77785 non-null  int64         \n",
      " 4   away_score           77785 non-null  int64         \n",
      " 5   tournament           77785 non-null  object        \n",
      " 6   city                 77785 non-null  object        \n",
      " 7   country              77785 non-null  object        \n",
      " 8   neutral              77785 non-null  bool          \n",
      " 9   team                 44234 non-null  object        \n",
      " 10  scorer               44231 non-null  object        \n",
      " 11  minute               44083 non-null  float64       \n",
      " 12  own_goal             44234 non-null  object        \n",
      " 13  pen_goal             44234 non-null  object        \n",
      " 14  winner_pen_shootout  862 non-null    object        \n",
      "dtypes: bool(1), datetime64[ns](1), float64(1), int64(2), object(10)\n",
      "memory usage: 8.4+ MB\n"
     ]
    }
   ],
   "source": [
    "df.info()"
   ]
  },
  {
   "cell_type": "markdown",
   "metadata": {},
   "source": [
    "### How many different values? Show a few → Are they abnormal?"
   ]
  },
  {
   "cell_type": "markdown",
   "metadata": {},
   "source": [
    "#### Kiểm tra số lượng giá trị khác nhau trong mỗi cột"
   ]
  },
  {
   "cell_type": "code",
   "execution_count": 29,
   "metadata": {},
   "outputs": [
    {
     "data": {
      "image/png": "[encoded data removed]",
      "text/plain": [
       "<Figure size 1000x600 with 1 Axes>"
      ]
     },
     "metadata": {},
     "output_type": "display_data"
    }
   ],
   "source": [
    "# Biểu đồ thanh hiển thị số lượng giá trị khác nhau trong mỗi cột\n",
    "unique_values = df.nunique()\n",
    "unique_values.sort_values().plot(kind='barh', figsize=(10, 6), color='skyblue')\n",
    "\n",
    "plt.title('Số lượng giá trị khác nhau trong từng cột')\n",
    "plt.xlabel('Số lượng giá trị')\n",
    "plt.ylabel('Cột')\n",
    "plt.show()"
   ]
  },
  {
   "cell_type": "markdown",
   "metadata": {},
   "source": [
    "**Nhận xét:**\n",
    "- Cột `date` có số lượng giá trị khác nhau cao nhất, vì mỗi trận đấu diễn ra vào các ngày khác nhau, dẫn đến nhiều ngày độc nhất.\n",
    "- Cột `scorer` có số lượng giá trị gần bằng với cột `date`, điều này gợi ý rằng hầu hết các trận đấu đều có thông tin về cầu thủ ghi bàn.\n",
    "- Số lượng giá trị khác nhau trong cột `city` ít hơn hẳn so với `date` và `scorer`. Có thể là do nhiều trận đấu được tổ chức ở một số thành phố phổ biến."
   ]
  },
  {
   "cell_type": "markdown",
   "metadata": {},
   "source": [
    "#### Kiểm tra giá trị thiếu trong mỗi cột"
   ]
  },
  {
   "cell_type": "code",
   "execution_count": 30,
   "metadata": {},
   "outputs": [
    {
     "data": {
      "image/png": "[encoded data removed]",
      "text/plain": [
       "<Figure size 1000x600 with 1 Axes>"
      ]
     },
     "metadata": {},
     "output_type": "display_data"
    }
   ],
   "source": [
    "# Biểu đồ giá trị thiếu trong mỗi cột\n",
    "missing_values = df.isnull().sum()\n",
    "missing_values[missing_values > 0].sort_values().plot(kind='barh', figsize=(10, 6), color='orange')\n",
    "\n",
    "plt.title('Số lượng giá trị thiếu trong từng cột')\n",
    "plt.xlabel('Số giá trị thiếu')\n",
    "plt.ylabel('Cột')\n",
    "\n",
    "plt.show()"
   ]
  },
  {
   "cell_type": "markdown",
   "metadata": {},
   "source": [
    "**Nhận xét:**\n",
    "- Số lượng giá trị thiếu trong cột `winner_pen_shootout` là cao nhất, vượt xa so với các cột khác.\n",
    "- Cột `minute`, `scorer`, `pen_goal`, `own_goal`, `team`: các cột này có số lượng giá trị thiếu tương đối đồng đều.\n",
    "- Đánh giá dữ liệu trên: việc thiếu dữ liệu trong các cột trên có thể ảnh hưởng đến chất lượng phân tích, đặc biệt với winner nhưng nó chỉ chiếm một phần nhỏ so với tổng kích thước tập dữ liệu (rất lớn), nên nó không gây ảnh hưởng nghiêm trọng đến kết quả."
   ]
  },
  {
   "cell_type": "markdown",
   "metadata": {},
   "source": [
    "---"
   ]
  },
  {
   "cell_type": "markdown",
   "metadata": {},
   "source": [
    "## Preprocessing + analyzing data to answer each question"
   ]
  },
  {
   "cell_type": "markdown",
   "metadata": {},
   "source": [
    "**<font color='orange'>Câu hỏi 1:</font>** Liệu đội chủ nhà có khả năng giành chiến thắng cao hơn hay không?\n",
    "\n",
    "**Ý nghĩa**: Đưa ra cái nhìn chính xác hơn về giả thuyết phổ biến từ lâu nay: đội chủ nhà có nhiều lợi thế do đó khả năng chiến thắng cao hơn. Liệu giả thuyết ấy có đúng hay chỉ là ngộ nhận từ đông đảo người xem bóng đá? Trả lời câu hỏi này sẽ giúp chúng ta sáng tỏ hơn.\n",
    "\n",
    "**Các bước thực hiện**: \n",
    "1. Loại bỏ các trận đấu được diễn ra ở sân trung lập.\n",
    "2. Tính tổng bàn thắng của các đội chủ nhà, các đội khách; trực quan hóa.\n",
    "3. Tính tổng bàn thắng của các đội chủ nhà, các đội khách qua từng giai đoạn; trực quan hóa.\n",
    "4. Tạo cột mới có tên `home_win`, trong đó:\n",
    "    - `1` nếu đội chủ nhà chiến thắng.\n",
    "    - `0` nếu đội khách chiến thắng.\n",
    "    - `0.5` nếu hòa.\n",
    "5. Tính tỷ lệ chiến thắng của đội chủ nhà, đội khách; trực quan hóa.\n",
    "6. Tính tỷ lệ chiến thắng của đội chủ nhà qua từng giai đoạn; trực quan hóa."
   ]
  },
  {
   "cell_type": "markdown",
   "metadata": {},
   "source": [
    "#### Pre-processing"
   ]
  },
  {
   "cell_type": "markdown",
   "metadata": {},
   "source": [
    "1. Loại bỏ các trận đấu được diễn ra ở sân trung lập:"
   ]
  },
  {
   "cell_type": "code",
   "execution_count": 31,
   "metadata": {},
   "outputs": [],
   "source": [
    "df1 = df.copy()"
   ]
  },
  {
   "cell_type": "code",
   "execution_count": 32,
   "metadata": {},
   "outputs": [],
   "source": [
    "# Xóa các dòng có giá trị tại cột 'neutral' là True\n",
    "df1 = df1[df1['neutral'] != True]"
   ]
  },
  {
   "cell_type": "code",
   "execution_count": 33,
   "metadata": {},
   "outputs": [],
   "source": [
    "# Kiểm tra xem cột 'neutral' gồm toàn giá trị False hay chưa\n",
    "assert df1['neutral'].all() == False"
   ]
  },
  {
   "cell_type": "markdown",
   "metadata": {},
   "source": [
    "- Bây giờ ta đã có 1 DataFrame chỉ gồm các trận đấu được tổ chức trên sân của các đội chủ nhà."
   ]
  },
  {
   "cell_type": "markdown",
   "metadata": {},
   "source": [
    "#### Analyzing to get the answer"
   ]
  },
  {
   "cell_type": "markdown",
   "metadata": {},
   "source": [
    "2. Tính tổng bàn thắng của các đội chủ nhà, các đội khách; trực quan hóa:\n",
    "- Lưu tổng số bàn thắng của các đội chủ nhà vào `total_home_teams_goals`.\n",
    "- Lưu tổng số bàn thắng của các đội khách vào `total_away_teams_goals`."
   ]
  },
  {
   "cell_type": "code",
   "execution_count": 34,
   "metadata": {},
   "outputs": [
    {
     "name": "stdout",
     "output_type": "stream",
     "text": [
      "Total home teams goals: 131745\n",
      "Total away teams goals: 74253\n"
     ]
    }
   ],
   "source": [
    "total_home_teams_goals = df1['home_score'].sum()\n",
    "total_away_teams_goals = df1['away_score'].sum()\n",
    "print(f'Total home teams goals: {total_home_teams_goals}')\n",
    "print(f'Total away teams goals: {total_away_teams_goals}')"
   ]
  },
  {
   "cell_type": "markdown",
   "metadata": {},
   "source": [
    "- Vẽ biểu đồ cột để trực quan hóa 2 biến này."
   ]
  },
  {
   "cell_type": "code",
   "execution_count": 35,
   "metadata": {},
   "outputs": [
    {
     "data": {
      "image/png": "[encoded data removed]",
      "text/plain": [
       "<Figure size 1000x400 with 1 Axes>"
      ]
     },
     "metadata": {},
     "output_type": "display_data"
    }
   ],
   "source": [
    "plt.figure(figsize=(10, 4))\n",
    "plt.barh(['Home teams', 'Away teams'], [total_home_teams_goals, total_away_teams_goals], color=['skyblue', 'orange'])\n",
    "plt.title('Total goals scored by home and away teams')\n",
    "plt.xlabel('Total goals')\n",
    "plt.grid(axis='x', linestyle='--', alpha=0.6)\n",
    "plt.show()"
   ]
  },
  {
   "cell_type": "markdown",
   "metadata": {},
   "source": [
    "**Nhận xét:**\n",
    "- Tổng số bàn thắng của các đội chủ nhà ghi được (*131745 bàn*) lớn hơn rất nhiều so với tổng số bàn thắng của các đội khách (*74253 bàn*), chênh lệch hơn 57 nghìn bàn.\n",
    "- Đây là cái nhìn từ tổng thể cả chiều dài lịch sử, để hiểu chi tiết hơn ta sẽ chia thành các giai đoạn để quan sát."
   ]
  },
  {
   "cell_type": "markdown",
   "metadata": {},
   "source": [
    "3. Tính tổng bàn thắng của các đội chủ nhà, các đội khách qua từng giai đoạn; trực quan hóa:\n",
    "- 1872-2024 chia thành 9 giai đoạn, mỗi giai đoạn 17 năm\n",
    "- Tạo DataFrame period_goals gồm:\n",
    "    - 3 cột `period`, `home_teams_goals` và `away_teams_goals`.\n",
    "    - 9 dòng tương ứng với 9 giai đoạn."
   ]
  },
  {
   "cell_type": "code",
   "execution_count": 36,
   "metadata": {},
   "outputs": [
    {
     "data": {
      "text/html": [
       "<div>\n",
       "<style scoped>\n",
       "    .dataframe tbody tr th:only-of-type {\n",
       "        vertical-align: middle;\n",
       "    }\n",
       "\n",
       "    .dataframe tbody tr th {\n",
       "        vertical-align: top;\n",
       "    }\n",
       "\n",
       "    .dataframe thead th {\n",
       "        text-align: right;\n",
       "    }\n",
       "</style>\n",
       "<table border=\"1\" class=\"dataframe\">\n",
       "  <thead>\n",
       "    <tr style=\"text-align: right;\">\n",
       "      <th></th>\n",
       "      <th>period</th>\n",
       "      <th>home_teams_goals</th>\n",
       "      <th>away_teams_goals</th>\n",
       "    </tr>\n",
       "  </thead>\n",
       "  <tbody>\n",
       "    <tr>\n",
       "      <th>0</th>\n",
       "      <td>1872-1888</td>\n",
       "      <td>0</td>\n",
       "      <td>0</td>\n",
       "    </tr>\n",
       "    <tr>\n",
       "      <th>1</th>\n",
       "      <td>1889-1905</td>\n",
       "      <td>0</td>\n",
       "      <td>0</td>\n",
       "    </tr>\n",
       "    <tr>\n",
       "      <th>2</th>\n",
       "      <td>1906-1922</td>\n",
       "      <td>0</td>\n",
       "      <td>0</td>\n",
       "    </tr>\n",
       "    <tr>\n",
       "      <th>3</th>\n",
       "      <td>1923-1939</td>\n",
       "      <td>0</td>\n",
       "      <td>0</td>\n",
       "    </tr>\n",
       "    <tr>\n",
       "      <th>4</th>\n",
       "      <td>1940-1956</td>\n",
       "      <td>0</td>\n",
       "      <td>0</td>\n",
       "    </tr>\n",
       "    <tr>\n",
       "      <th>5</th>\n",
       "      <td>1957-1973</td>\n",
       "      <td>0</td>\n",
       "      <td>0</td>\n",
       "    </tr>\n",
       "    <tr>\n",
       "      <th>6</th>\n",
       "      <td>1974-1990</td>\n",
       "      <td>0</td>\n",
       "      <td>0</td>\n",
       "    </tr>\n",
       "    <tr>\n",
       "      <th>7</th>\n",
       "      <td>1991-2007</td>\n",
       "      <td>0</td>\n",
       "      <td>0</td>\n",
       "    </tr>\n",
       "    <tr>\n",
       "      <th>8</th>\n",
       "      <td>2008-2024</td>\n",
       "      <td>0</td>\n",
       "      <td>0</td>\n",
       "    </tr>\n",
       "  </tbody>\n",
       "</table>\n",
       "</div>"
      ],
      "text/plain": [
       "      period  home_teams_goals  away_teams_goals\n",
       "0  1872-1888                 0                 0\n",
       "1  1889-1905                 0                 0\n",
       "2  1906-1922                 0                 0\n",
       "3  1923-1939                 0                 0\n",
       "4  1940-1956                 0                 0\n",
       "5  1957-1973                 0                 0\n",
       "6  1974-1990                 0                 0\n",
       "7  1991-2007                 0                 0\n",
       "8  2008-2024                 0                 0"
      ]
     },
     "execution_count": 36,
     "metadata": {},
     "output_type": "execute_result"
    }
   ],
   "source": [
    "periods = np.arange(1872, 2025, 17)\n",
    "list_str_periods = [f'{period}-{period + 16}' for period in periods]\n",
    "periods_goals = pd.DataFrame({'period': list_str_periods, 'home_teams_goals': 0, 'away_teams_goals': 0})\n",
    "periods_goals"
   ]
  },
  {
   "cell_type": "markdown",
   "metadata": {},
   "source": [
    "- Tính số bàn thắng của đội chủ nhà, đội khách tương ứng với từng giai đoạn."
   ]
  },
  {
   "cell_type": "code",
   "execution_count": 37,
   "metadata": {},
   "outputs": [],
   "source": [
    "for idx, start_year in enumerate(periods):\n",
    "    end_year = start_year + 16 \n",
    "\n",
    "    # Lọc dữ liệu trong từng giai đoạn\n",
    "    period_data = df[(df['date'].dt.year >= start_year) & (df['date'].dt.year <= end_year)]\n",
    "    \n",
    "    # Cập nhật số bàn thắng cho đội chủ nhà và đội khách\n",
    "    periods_goals.loc[idx, 'home_teams_goals'] = period_data['home_score'].sum()\n",
    "    periods_goals.loc[idx, 'away_teams_goals'] = period_data['away_score'].sum()"
   ]
  },
  {
   "cell_type": "code",
   "execution_count": 38,
   "metadata": {},
   "outputs": [
    {
     "data": {
      "text/html": [
       "<div>\n",
       "<style scoped>\n",
       "    .dataframe tbody tr th:only-of-type {\n",
       "        vertical-align: middle;\n",
       "    }\n",
       "\n",
       "    .dataframe tbody tr th {\n",
       "        vertical-align: top;\n",
       "    }\n",
       "\n",
       "    .dataframe thead th {\n",
       "        text-align: right;\n",
       "    }\n",
       "</style>\n",
       "<table border=\"1\" class=\"dataframe\">\n",
       "  <thead>\n",
       "    <tr style=\"text-align: right;\">\n",
       "      <th></th>\n",
       "      <th>period</th>\n",
       "      <th>home_teams_goals</th>\n",
       "      <th>away_teams_goals</th>\n",
       "    </tr>\n",
       "  </thead>\n",
       "  <tbody>\n",
       "    <tr>\n",
       "      <th>0</th>\n",
       "      <td>1872-1888</td>\n",
       "      <td>185</td>\n",
       "      <td>153</td>\n",
       "    </tr>\n",
       "    <tr>\n",
       "      <th>1</th>\n",
       "      <td>1889-1905</td>\n",
       "      <td>318</td>\n",
       "      <td>202</td>\n",
       "    </tr>\n",
       "    <tr>\n",
       "      <th>2</th>\n",
       "      <td>1906-1922</td>\n",
       "      <td>1424</td>\n",
       "      <td>1034</td>\n",
       "    </tr>\n",
       "    <tr>\n",
       "      <th>3</th>\n",
       "      <td>1923-1939</td>\n",
       "      <td>7486</td>\n",
       "      <td>4896</td>\n",
       "    </tr>\n",
       "    <tr>\n",
       "      <th>4</th>\n",
       "      <td>1940-1956</td>\n",
       "      <td>8168</td>\n",
       "      <td>5728</td>\n",
       "    </tr>\n",
       "    <tr>\n",
       "      <th>5</th>\n",
       "      <td>1957-1973</td>\n",
       "      <td>20219</td>\n",
       "      <td>12604</td>\n",
       "    </tr>\n",
       "    <tr>\n",
       "      <th>6</th>\n",
       "      <td>1974-1990</td>\n",
       "      <td>23721</td>\n",
       "      <td>13727</td>\n",
       "    </tr>\n",
       "    <tr>\n",
       "      <th>7</th>\n",
       "      <td>1991-2007</td>\n",
       "      <td>55749</td>\n",
       "      <td>32974</td>\n",
       "    </tr>\n",
       "    <tr>\n",
       "      <th>8</th>\n",
       "      <td>2008-2024</td>\n",
       "      <td>56140</td>\n",
       "      <td>37429</td>\n",
       "    </tr>\n",
       "  </tbody>\n",
       "</table>\n",
       "</div>"
      ],
      "text/plain": [
       "      period  home_teams_goals  away_teams_goals\n",
       "0  1872-1888               185               153\n",
       "1  1889-1905               318               202\n",
       "2  1906-1922              1424              1034\n",
       "3  1923-1939              7486              4896\n",
       "4  1940-1956              8168              5728\n",
       "5  1957-1973             20219             12604\n",
       "6  1974-1990             23721             13727\n",
       "7  1991-2007             55749             32974\n",
       "8  2008-2024             56140             37429"
      ]
     },
     "execution_count": 38,
     "metadata": {},
     "output_type": "execute_result"
    }
   ],
   "source": [
    "periods_goals"
   ]
  },
  {
   "cell_type": "markdown",
   "metadata": {},
   "source": [
    "- Vẽ biểu đồ cột để trực quan hóa DataFrame trên"
   ]
  },
  {
   "cell_type": "code",
   "execution_count": 39,
   "metadata": {},
   "outputs": [
    {
     "data": {
      "image/png": "[encoded data removed]",
      "text/plain": [
       "<Figure size 1000x600 with 1 Axes>"
      ]
     },
     "metadata": {},
     "output_type": "display_data"
    }
   ],
   "source": [
    "fig, ax = plt.subplots(figsize=(10, 6))\n",
    "\n",
    "bar_width = 0.3 # Độ rộng của cột\n",
    "# Tạo mảng chỉ mục để xác định vị trí của các cột\n",
    "index = np.arange(len(periods_goals))\n",
    "\n",
    "bar1 = ax.bar(index, periods_goals['home_teams_goals'], bar_width, label='Home teams', color='skyblue')\n",
    "bar2 = ax.bar(index + bar_width, periods_goals['away_teams_goals'], bar_width, label='Away teams', color='orange')\n",
    "\n",
    "ax.set_xlabel('Periods')\n",
    "ax.set_ylabel('Total goals')\n",
    "ax.set_title('Total goals scored by home and away teams in each period')\n",
    "ax.set_xticks(index + bar_width / 2)\n",
    "ax.set_xticklabels(periods_goals['period'], rotation=45, ha='right')\n",
    "\n",
    "ax.legend()\n",
    "\n",
    "plt.tight_layout()\n",
    "plt.show()\n"
   ]
  },
  {
   "cell_type": "markdown",
   "metadata": {},
   "source": [
    "**Nhận xét:**\n",
    "- Qua từng giai đoạn, ta thấy tổng số bàn thắng của các đội chủ nhà ghi được lớn hơn khá nhiều so với tổng số bàn thắng của các đội khách.\n",
    "- Giai đoạn 1872-1888 và 1889-1905, số bàn thắng quá ít so với phần còn lại nên ta khó có thể quan sát nhưng dựa vào `periods_goals` cũng có thể thấy bàn thắng đội nhà đều lớn hơn đội khách.\n",
    "- 3 giai đoạn tiếp theo từ 1906 đến 1956, các đội chủ nhà ghi bàn chênh lệch cao hơn các đội khách không nhiều. Nhưng từ các giai đoạn về sau thì sự chênh lệch lớn hơn rất nhiều.\n",
    "- Đây là một ý quan trọng nữa để đưa ra câu trả lời cuối cùng, sau đây ta tiếp tục tìm hiểu về tỷ lệ chiến thắng."
   ]
  },
  {
   "cell_type": "markdown",
   "metadata": {},
   "source": [
    "4. Tạo cột mới có tên `home_win`, trong đó:\n",
    "    - `1` nếu đội chủ nhà chiến thắng.\n",
    "    - `0` nếu đội khách chiến thắng.\n",
    "    - `0.5` nếu hòa."
   ]
  },
  {
   "cell_type": "code",
   "execution_count": 40,
   "metadata": {},
   "outputs": [],
   "source": [
    "df1['home_win'] = df1.apply(lambda row: 1 if row['home_score'] > row['away_score'] \n",
    "                                        else (0 if row['home_score'] < row['away_score'] else 0.5), axis=1)"
   ]
  },
  {
   "cell_type": "code",
   "execution_count": 41,
   "metadata": {},
   "outputs": [
    {
     "data": {
      "text/plain": [
       "array([0.5, 1. , 0. ])"
      ]
     },
     "execution_count": 41,
     "metadata": {},
     "output_type": "execute_result"
    }
   ],
   "source": [
    "df1['home_win'].unique()"
   ]
  },
  {
   "cell_type": "markdown",
   "metadata": {},
   "source": [
    "5. Tính tỷ lệ chiến thắng của đội chủ nhà, đội khách; trực quan hóa:\n",
    "- Tính tỷ lệ chiến thắng của đội chủ nhà và lưu vào `home_teams_win_rate`\n",
    "- Tính tỷ lệ chiến thắng của đội khách và lưu vào `away_teams_win_rate`\n",
    "- Tính tỷ lệ hòa và lưu vào `draw_rate`"
   ]
  },
  {
   "cell_type": "code",
   "execution_count": 42,
   "metadata": {},
   "outputs": [],
   "source": [
    "home_teams_win_rate = (df1['home_win'].value_counts(normalize=True)[1] * 100).__round__(2)\n",
    "away_teams_win_rate = (df1['home_win'].value_counts(normalize=True)[0] * 100).__round__(2)\n",
    "draw_rate = (df1['home_win'].value_counts(normalize=True)[0.5] * 100).__round__(2)"
   ]
  },
  {
   "cell_type": "code",
   "execution_count": 43,
   "metadata": {},
   "outputs": [
    {
     "data": {
      "text/plain": [
       "(54.67, 26.74, 18.59)"
      ]
     },
     "execution_count": 43,
     "metadata": {},
     "output_type": "execute_result"
    }
   ],
   "source": [
    "home_teams_win_rate, away_teams_win_rate, draw_rate"
   ]
  },
  {
   "cell_type": "markdown",
   "metadata": {},
   "source": [
    "- Vẽ biểu đồ tròn để trực quan hóa."
   ]
  },
  {
   "cell_type": "code",
   "execution_count": 44,
   "metadata": {},
   "outputs": [
    {
     "data": {
      "image/png": "[encoded data removed]",
      "text/plain": [
       "<Figure size 500x500 with 1 Axes>"
      ]
     },
     "metadata": {},
     "output_type": "display_data"
    }
   ],
   "source": [
    "labels = ['Home wins', 'Away wins', 'Draws']\n",
    "rates = [home_teams_win_rate, away_teams_win_rate, draw_rate]\n",
    "\n",
    "plt.figure(figsize=(5, 5))\n",
    "plt.pie(rates, labels=labels, autopct='%1.2f%%', startangle=90, colors=['skyblue', 'orange', 'green'])\n",
    "plt.title('Win Rates: Home Teams, Away Teams, and Draws')\n",
    "plt.show()"
   ]
  },
  {
   "cell_type": "markdown",
   "metadata": {},
   "source": [
    "**Nhận xét:**\n",
    "- Tỷ lệ chiến thắng của đội chủ nhà chiếm áp đảo (54.67%), trong khi đó tỷ lệ chiến thắng của đội khách ít hơn một nửa (gần 27.74%).\n",
    "- Rõ ràng điều này càng chứng minh cho khả năng chiến thắng của đội chủ nhà sẽ cao hơn.\n",
    "- Tuy nhiên ta vẫn nên đào sâu thêm vào từng giai đoạn xem các tỷ lệ này thay đổi thế nào."
   ]
  },
  {
   "cell_type": "markdown",
   "metadata": {},
   "source": [
    "6. Tính tỷ lệ chiến thắng của đội chủ nhà qua từng giai đoạn; trực quan hóa:\n",
    "- 1872-2024 chia thành 9 giai đoạn, mỗi giai đoạn 17 năm\n",
    "- Tạo DataFrame period_results gồm:\n",
    "    - 4 cột `period`, `home_win_rate`, `away_win_rate` & `draw_rate`.\n",
    "    - 9 dòng tương ứng với 9 giai đoạn."
   ]
  },
  {
   "cell_type": "code",
   "execution_count": 45,
   "metadata": {},
   "outputs": [
    {
     "data": {
      "text/html": [
       "<div>\n",
       "<style scoped>\n",
       "    .dataframe tbody tr th:only-of-type {\n",
       "        vertical-align: middle;\n",
       "    }\n",
       "\n",
       "    .dataframe tbody tr th {\n",
       "        vertical-align: top;\n",
       "    }\n",
       "\n",
       "    .dataframe thead th {\n",
       "        text-align: right;\n",
       "    }\n",
       "</style>\n",
       "<table border=\"1\" class=\"dataframe\">\n",
       "  <thead>\n",
       "    <tr style=\"text-align: right;\">\n",
       "      <th></th>\n",
       "      <th>period</th>\n",
       "      <th>home_win_rate</th>\n",
       "      <th>away_win_rate</th>\n",
       "      <th>draw_rate</th>\n",
       "    </tr>\n",
       "  </thead>\n",
       "  <tbody>\n",
       "    <tr>\n",
       "      <th>0</th>\n",
       "      <td>1872-1888</td>\n",
       "      <td>0</td>\n",
       "      <td>0</td>\n",
       "      <td>0</td>\n",
       "    </tr>\n",
       "    <tr>\n",
       "      <th>1</th>\n",
       "      <td>1889-1905</td>\n",
       "      <td>0</td>\n",
       "      <td>0</td>\n",
       "      <td>0</td>\n",
       "    </tr>\n",
       "    <tr>\n",
       "      <th>2</th>\n",
       "      <td>1906-1922</td>\n",
       "      <td>0</td>\n",
       "      <td>0</td>\n",
       "      <td>0</td>\n",
       "    </tr>\n",
       "    <tr>\n",
       "      <th>3</th>\n",
       "      <td>1923-1939</td>\n",
       "      <td>0</td>\n",
       "      <td>0</td>\n",
       "      <td>0</td>\n",
       "    </tr>\n",
       "    <tr>\n",
       "      <th>4</th>\n",
       "      <td>1940-1956</td>\n",
       "      <td>0</td>\n",
       "      <td>0</td>\n",
       "      <td>0</td>\n",
       "    </tr>\n",
       "    <tr>\n",
       "      <th>5</th>\n",
       "      <td>1957-1973</td>\n",
       "      <td>0</td>\n",
       "      <td>0</td>\n",
       "      <td>0</td>\n",
       "    </tr>\n",
       "    <tr>\n",
       "      <th>6</th>\n",
       "      <td>1974-1990</td>\n",
       "      <td>0</td>\n",
       "      <td>0</td>\n",
       "      <td>0</td>\n",
       "    </tr>\n",
       "    <tr>\n",
       "      <th>7</th>\n",
       "      <td>1991-2007</td>\n",
       "      <td>0</td>\n",
       "      <td>0</td>\n",
       "      <td>0</td>\n",
       "    </tr>\n",
       "    <tr>\n",
       "      <th>8</th>\n",
       "      <td>2008-2024</td>\n",
       "      <td>0</td>\n",
       "      <td>0</td>\n",
       "      <td>0</td>\n",
       "    </tr>\n",
       "  </tbody>\n",
       "</table>\n",
       "</div>"
      ],
      "text/plain": [
       "      period  home_win_rate  away_win_rate  draw_rate\n",
       "0  1872-1888              0              0          0\n",
       "1  1889-1905              0              0          0\n",
       "2  1906-1922              0              0          0\n",
       "3  1923-1939              0              0          0\n",
       "4  1940-1956              0              0          0\n",
       "5  1957-1973              0              0          0\n",
       "6  1974-1990              0              0          0\n",
       "7  1991-2007              0              0          0\n",
       "8  2008-2024              0              0          0"
      ]
     },
     "execution_count": 45,
     "metadata": {},
     "output_type": "execute_result"
    }
   ],
   "source": [
    "period_results = pd.DataFrame({'period': list_str_periods, 'home_win_rate': 0, 'away_win_rate': 0, 'draw_rate': 0})\n",
    "period_results"
   ]
  },
  {
   "cell_type": "markdown",
   "metadata": {},
   "source": [
    "- Tính tỷ lệ tương ứng cho từng giai đoạn."
   ]
  },
  {
   "cell_type": "code",
   "execution_count": 46,
   "metadata": {},
   "outputs": [],
   "source": [
    "# Hàm tính tỷ lệ các kết quả (1, 0, 0.5) trong một giai đoạn\n",
    "def calculate_rates(start, end):\n",
    "    # Lọc các trận đấu trong khoảng thời gian [start, end]\n",
    "    period_data = df1[(df1['date'].dt.year >= start) & (df1['date'].dt.year <= end)]\n",
    "    # Tính tỷ lệ từng loại kết quả\n",
    "    value_counts = period_data['home_win'].value_counts(normalize=True) * 100\n",
    "    home_win_rate = value_counts.get(1, 0)\n",
    "    away_win_rate = value_counts.get(0, 0)\n",
    "    draw_rate = value_counts.get(0.5, 0)\n",
    "    return home_win_rate, away_win_rate, draw_rate"
   ]
  },
  {
   "cell_type": "code",
   "execution_count": 47,
   "metadata": {},
   "outputs": [],
   "source": [
    "# Lặp qua từng giai đoạn và tính các tỷ lệ\n",
    "for idx, start_year in enumerate(periods):\n",
    "    end_year = start_year + 16\n",
    "    # Tính tỷ lệ\n",
    "    home_rate, away_rate, draw_rate = calculate_rates(start_year, end_year)\n",
    "    \n",
    "    period_results.loc[idx, 'home_win_rate'] = home_rate\n",
    "    period_results.loc[idx, 'away_win_rate'] = away_rate\n",
    "    period_results.loc[idx, 'draw_rate'] = draw_rate"
   ]
  },
  {
   "cell_type": "code",
   "execution_count": 48,
   "metadata": {},
   "outputs": [
    {
     "data": {
      "text/html": [
       "<div>\n",
       "<style scoped>\n",
       "    .dataframe tbody tr th:only-of-type {\n",
       "        vertical-align: middle;\n",
       "    }\n",
       "\n",
       "    .dataframe tbody tr th {\n",
       "        vertical-align: top;\n",
       "    }\n",
       "\n",
       "    .dataframe thead th {\n",
       "        text-align: right;\n",
       "    }\n",
       "</style>\n",
       "<table border=\"1\" class=\"dataframe\">\n",
       "  <thead>\n",
       "    <tr style=\"text-align: right;\">\n",
       "      <th></th>\n",
       "      <th>period</th>\n",
       "      <th>home_win_rate</th>\n",
       "      <th>away_win_rate</th>\n",
       "      <th>draw_rate</th>\n",
       "    </tr>\n",
       "  </thead>\n",
       "  <tbody>\n",
       "    <tr>\n",
       "      <th>0</th>\n",
       "      <td>1872-1888</td>\n",
       "      <td>51.61</td>\n",
       "      <td>38.71</td>\n",
       "      <td>9.68</td>\n",
       "    </tr>\n",
       "    <tr>\n",
       "      <th>1</th>\n",
       "      <td>1889-1905</td>\n",
       "      <td>47.86</td>\n",
       "      <td>32.48</td>\n",
       "      <td>19.66</td>\n",
       "    </tr>\n",
       "    <tr>\n",
       "      <th>2</th>\n",
       "      <td>1906-1922</td>\n",
       "      <td>50.55</td>\n",
       "      <td>29.56</td>\n",
       "      <td>19.89</td>\n",
       "    </tr>\n",
       "    <tr>\n",
       "      <th>3</th>\n",
       "      <td>1923-1939</td>\n",
       "      <td>54.25</td>\n",
       "      <td>30.00</td>\n",
       "      <td>15.75</td>\n",
       "    </tr>\n",
       "    <tr>\n",
       "      <th>4</th>\n",
       "      <td>1940-1956</td>\n",
       "      <td>53.42</td>\n",
       "      <td>30.99</td>\n",
       "      <td>15.59</td>\n",
       "    </tr>\n",
       "    <tr>\n",
       "      <th>5</th>\n",
       "      <td>1957-1973</td>\n",
       "      <td>56.74</td>\n",
       "      <td>25.62</td>\n",
       "      <td>17.64</td>\n",
       "    </tr>\n",
       "    <tr>\n",
       "      <th>6</th>\n",
       "      <td>1974-1990</td>\n",
       "      <td>54.43</td>\n",
       "      <td>24.79</td>\n",
       "      <td>20.78</td>\n",
       "    </tr>\n",
       "    <tr>\n",
       "      <th>7</th>\n",
       "      <td>1991-2007</td>\n",
       "      <td>55.52</td>\n",
       "      <td>25.84</td>\n",
       "      <td>18.65</td>\n",
       "    </tr>\n",
       "    <tr>\n",
       "      <th>8</th>\n",
       "      <td>2008-2024</td>\n",
       "      <td>53.72</td>\n",
       "      <td>27.87</td>\n",
       "      <td>18.41</td>\n",
       "    </tr>\n",
       "  </tbody>\n",
       "</table>\n",
       "</div>"
      ],
      "text/plain": [
       "      period  home_win_rate  away_win_rate  draw_rate\n",
       "0  1872-1888          51.61          38.71       9.68\n",
       "1  1889-1905          47.86          32.48      19.66\n",
       "2  1906-1922          50.55          29.56      19.89\n",
       "3  1923-1939          54.25          30.00      15.75\n",
       "4  1940-1956          53.42          30.99      15.59\n",
       "5  1957-1973          56.74          25.62      17.64\n",
       "6  1974-1990          54.43          24.79      20.78\n",
       "7  1991-2007          55.52          25.84      18.65\n",
       "8  2008-2024          53.72          27.87      18.41"
      ]
     },
     "execution_count": 48,
     "metadata": {},
     "output_type": "execute_result"
    }
   ],
   "source": [
    "period_results = period_results.round(2)\n",
    "period_results"
   ]
  },
  {
   "cell_type": "markdown",
   "metadata": {},
   "source": [
    "- Vẽ biểu đồ miền để trực quan hóa sự thay đổi của các tỷ lệ qua từng giai đoạn."
   ]
  },
  {
   "cell_type": "code",
   "execution_count": 49,
   "metadata": {},
   "outputs": [
    {
     "data": {
      "image/png": "[encoded data removed]",
      "text/plain": [
       "<Figure size 1000x600 with 1 Axes>"
      ]
     },
     "metadata": {},
     "output_type": "display_data"
    }
   ],
   "source": [
    "plt.figure(figsize=(10, 6))\n",
    "plt.stackplot(\n",
    "    period_results['period'], \n",
    "    period_results['home_win_rate'], \n",
    "    period_results['away_win_rate'], \n",
    "    period_results['draw_rate'], \n",
    "    labels=['Home Win Rate', 'Away Win Rate', 'Draw Rate'], \n",
    "    colors=['skyblue', 'orange', 'green']\n",
    ")\n",
    "plt.grid(axis='both', linestyle='--', color='white', alpha=0.6)\n",
    "plt.title('Proportion of match results by period')\n",
    "plt.xlabel('Periods')\n",
    "plt.ylabel('Percentage (%)')\n",
    "plt.xticks(rotation=45, ha='right')\n",
    "plt.legend(loc='upper right')\n",
    "plt.tight_layout()\n",
    "plt.show()"
   ]
  },
  {
   "cell_type": "markdown",
   "metadata": {},
   "source": [
    "**Nhận xét:**\n",
    "- Tỷ lệ chiến thắng của đội chủ nhà khá ổn định qua từng giai đoạn, phần lớn đều trên 50%.\n",
    "- Tỷ lệ chiến thắng của đội khách cũng không biến động quá lớn, hầu hết chiếm trên dưới 30% ở ở mỗi giai đoạn.\n",
    "- Tỷ lệ chiến thắng của đội chủ nhà cao hơn rõ rệt so với đội khách khi ta quan sát ở các giai đoạn."
   ]
  },
  {
   "cell_type": "markdown",
   "metadata": {},
   "source": [
    "#### Conclusion"
   ]
  },
  {
   "cell_type": "markdown",
   "metadata": {},
   "source": [
    "Qua những phân tích và trực quan kết quả ở trên, ta có thể kết luận: ***đội chủ nhà có khả năng giành chiến thắng cao hơn***.\n",
    "\n",
    "Các tác nhân ảnh hưởng:\n",
    "- Lợi thế sân nhà:\n",
    "    - Đội chủ nhà thường quen thuộc với mặt sân, điều kiện thi đấu và thời tiết, giúp họ có thể đạt hiệu suất thi đấu tốt hơn.\n",
    "    - Trong khi đó, đội khách có thể phải đối mặt với những bất lợi như hành trình di chuyển dài, chênh lệch múi giờ và môi trường không quen thuộc.\n",
    "- Cố động viên:\n",
    "    - Sự cổ vũ nhiệt tình từ khán giả nhà tạo động lực tâm lý lớn cho đội chủ nhà.\n",
    "    - Sự cuồng nhiệt từ cổ động viên chủ nhà cũng sẽ gây áp lực lớn đến đội khách, đặc biệt là những lúc họ kiểm soát bóng.\n",
    "- Tiết kiệm thời gian:\n",
    "    - Đội chủ nhà không phải di chuyển xa, không tốn thời gian và không bị áp lực khi phải làm quen với mặt sân và điều kiện thi đấu trong thời gian có hạn như đội khách.\n",
    "    - Quan trọng hơn nữa là có nhiều điều kiện nghiên cứu đối thủ đến làm khách."
   ]
  },
  {
   "cell_type": "markdown",
   "metadata": {},
   "source": [
    "---"
   ]
  },
  {
   "cell_type": "markdown",
   "metadata": {},
   "source": [
    "**Câu hỏi 2:**  câu hỏi của mình nha\n",
    "\n",
    "**Ý nghĩa**: lợi ích khi trả lời câu hỏi này\n",
    "\n",
    "**Các bước thực hiện**: ý tưởng làm câu hỏi này và nói cách làm"
   ]
  },
  {
   "cell_type": "markdown",
   "metadata": {},
   "source": [
    "#### Pre-processing"
   ]
  },
  {
   "cell_type": "code",
   "execution_count": 50,
   "metadata": {},
   "outputs": [],
   "source": [
    "# YOUR CODE HERE (OPTION) "
   ]
  },
  {
   "cell_type": "markdown",
   "metadata": {},
   "source": [
    "#### Analyzing to get the answer"
   ]
  },
  {
   "cell_type": "code",
   "execution_count": 51,
   "metadata": {},
   "outputs": [],
   "source": [
    "# YOUR CODE HERE"
   ]
  },
  {
   "cell_type": "markdown",
   "metadata": {},
   "source": [
    "#### Conclusion"
   ]
  },
  {
   "cell_type": "markdown",
   "metadata": {},
   "source": [
    "YOUR CODE HERE"
   ]
  },
  {
   "cell_type": "markdown",
   "metadata": {},
   "source": [
    "---"
   ]
  },
  {
   "cell_type": "markdown",
   "metadata": {},
   "source": [
    "**<font color='orange'>Câu hỏi 3:</font>** Đâu là những chân sút xuất sắc nhất từ trước đến nay?\n",
    "\n",
    "**Ý nghĩa**: Ghi nhận và vinh danh những cầu thủ có thành tích ghi bàn tốt nhất trong lịch sử bóng nam quốc tế.\n",
    "\n",
    "**Các bước thực hiện**: \n",
    "1. Loại bỏ các dòng có giá trị ở cột `scorer` là Nan.\n",
    "2. Tính tổng số bàn thắng của các cầu thủ từng ghi bàn, chọn ra top 10 để trực quan hóa.\n",
    "3. Tính tỷ lệ số bàn penalty trên tổng số bàn thắng của top 10 cầu thủ nói trên; trực quan hóa.\n",
    "4. Tìm top 10 vua phá lưới ở 2 giải đấu hấp dẫn nhất hành tinh:\n",
    "    - **FIFA World Cup**\n",
    "    - **UEFA Euro**"
   ]
  },
  {
   "cell_type": "markdown",
   "metadata": {},
   "source": [
    "#### Pre-processing"
   ]
  },
  {
   "cell_type": "markdown",
   "metadata": {},
   "source": [
    "1. Loại bỏ các dòng có giá trị ở cột `scorer` là Nan:"
   ]
  },
  {
   "cell_type": "code",
   "execution_count": 52,
   "metadata": {},
   "outputs": [],
   "source": [
    "df3 = df.copy()"
   ]
  },
  {
   "cell_type": "code",
   "execution_count": 53,
   "metadata": {},
   "outputs": [],
   "source": [
    "# Loại bỏ các dòng có giá trị NaN tại cột `scorer`\n",
    "df3 = df3.dropna(subset=['scorer'])"
   ]
  },
  {
   "cell_type": "code",
   "execution_count": 54,
   "metadata": {},
   "outputs": [],
   "source": [
    "# Kiểm tra xem cột `scorer` còn giá trị NaN hay không\n",
    "assert df3['scorer'].isnull().sum() == 0"
   ]
  },
  {
   "cell_type": "markdown",
   "metadata": {},
   "source": [
    "- Bây giờ ta đã có 1 DataFrame chỉ gồm các trận đấu có xuất hiện ít nhất 1 bàn thắng.\n",
    "- Tuy nhiên, ta vẫn cần loại bỏ các bàn thắng phản lưới nhà."
   ]
  },
  {
   "cell_type": "code",
   "execution_count": 55,
   "metadata": {},
   "outputs": [],
   "source": [
    "# Loại bỏ các dòng có giá trị True tại cột `own_goal`\n",
    "df3 = df3[df3['own_goal'] != True]"
   ]
  },
  {
   "cell_type": "code",
   "execution_count": 56,
   "metadata": {},
   "outputs": [],
   "source": [
    "# Kiểm tra xem cột `own_goal` chỉ chứa giá trị False hay chưa\n",
    "assert df3['own_goal'].all() == False"
   ]
  },
  {
   "cell_type": "markdown",
   "metadata": {},
   "source": [
    "#### Analyzing to get the answer"
   ]
  },
  {
   "cell_type": "markdown",
   "metadata": {},
   "source": [
    "2. Tính tổng số bàn thắng của các cầu thủ từng ghi bàn, chọn ra top 10 để trực quan hóa:\n",
    "- Tạo một DataFrame `Scorers` gồm 3 cột `scorer`, `team`, `total_goals`.\n",
    "- Tính số bàn thắng mà từng cầu thủ đã ghi được và sắp xếp từ nhiều đến ít bàn nhất."
   ]
  },
  {
   "cell_type": "code",
   "execution_count": 57,
   "metadata": {},
   "outputs": [
    {
     "data": {
      "text/html": [
       "<div>\n",
       "<style scoped>\n",
       "    .dataframe tbody tr th:only-of-type {\n",
       "        vertical-align: middle;\n",
       "    }\n",
       "\n",
       "    .dataframe tbody tr th {\n",
       "        vertical-align: top;\n",
       "    }\n",
       "\n",
       "    .dataframe thead th {\n",
       "        text-align: right;\n",
       "    }\n",
       "</style>\n",
       "<table border=\"1\" class=\"dataframe\">\n",
       "  <thead>\n",
       "    <tr style=\"text-align: right;\">\n",
       "      <th></th>\n",
       "      <th>scorer</th>\n",
       "      <th>team</th>\n",
       "      <th>total_goals</th>\n",
       "    </tr>\n",
       "  </thead>\n",
       "  <tbody>\n",
       "    <tr>\n",
       "      <th>2534</th>\n",
       "      <td>Cristiano Ronaldo</td>\n",
       "      <td>Portugal</td>\n",
       "      <td>108</td>\n",
       "    </tr>\n",
       "    <tr>\n",
       "      <th>11066</th>\n",
       "      <td>Robert Lewandowski</td>\n",
       "      <td>Poland</td>\n",
       "      <td>61</td>\n",
       "    </tr>\n",
       "    <tr>\n",
       "      <th>11262</th>\n",
       "      <td>Romelu Lukaku</td>\n",
       "      <td>Belgium</td>\n",
       "      <td>60</td>\n",
       "    </tr>\n",
       "    <tr>\n",
       "      <th>4989</th>\n",
       "      <td>Harry Kane</td>\n",
       "      <td>England</td>\n",
       "      <td>58</td>\n",
       "    </tr>\n",
       "    <tr>\n",
       "      <th>7746</th>\n",
       "      <td>Lionel Messi</td>\n",
       "      <td>Argentina</td>\n",
       "      <td>55</td>\n",
       "    </tr>\n",
       "    <tr>\n",
       "      <th>...</th>\n",
       "      <td>...</td>\n",
       "      <td>...</td>\n",
       "      <td>...</td>\n",
       "    </tr>\n",
       "    <tr>\n",
       "      <th>8135</th>\n",
       "      <td>Manny Rodríguez</td>\n",
       "      <td>Dominican Republic</td>\n",
       "      <td>1</td>\n",
       "    </tr>\n",
       "    <tr>\n",
       "      <th>8134</th>\n",
       "      <td>Manjrekar James</td>\n",
       "      <td>Canada</td>\n",
       "      <td>1</td>\n",
       "    </tr>\n",
       "    <tr>\n",
       "      <th>8133</th>\n",
       "      <td>Maninho</td>\n",
       "      <td>Mozambique</td>\n",
       "      <td>1</td>\n",
       "    </tr>\n",
       "    <tr>\n",
       "      <th>8131</th>\n",
       "      <td>Mani Stenter</td>\n",
       "      <td>Cook Islands</td>\n",
       "      <td>1</td>\n",
       "    </tr>\n",
       "    <tr>\n",
       "      <th>6957</th>\n",
       "      <td>Jānis Lidmanis</td>\n",
       "      <td>Latvia</td>\n",
       "      <td>1</td>\n",
       "    </tr>\n",
       "  </tbody>\n",
       "</table>\n",
       "<p>13915 rows × 3 columns</p>\n",
       "</div>"
      ],
      "text/plain": [
       "                   scorer                team  total_goals\n",
       "2534    Cristiano Ronaldo            Portugal          108\n",
       "11066  Robert Lewandowski              Poland           61\n",
       "11262       Romelu Lukaku             Belgium           60\n",
       "4989           Harry Kane             England           58\n",
       "7746         Lionel Messi           Argentina           55\n",
       "...                   ...                 ...          ...\n",
       "8135      Manny Rodríguez  Dominican Republic            1\n",
       "8134      Manjrekar James              Canada            1\n",
       "8133              Maninho          Mozambique            1\n",
       "8131         Mani Stenter        Cook Islands            1\n",
       "6957       Jānis Lidmanis              Latvia            1\n",
       "\n",
       "[13915 rows x 3 columns]"
      ]
     },
     "execution_count": 57,
     "metadata": {},
     "output_type": "execute_result"
    }
   ],
   "source": [
    "scorers = df3.groupby(['scorer', 'team']).size().reset_index(name='total_goals')\n",
    "scorers = scorers.sort_values(by='total_goals', ascending=False)\n",
    "scorers"
   ]
  },
  {
   "cell_type": "markdown",
   "metadata": {},
   "source": [
    "- Chọn ra top 10 cầu thủ ghi bàn nhiều nhất."
   ]
  },
  {
   "cell_type": "code",
   "execution_count": 58,
   "metadata": {},
   "outputs": [
    {
     "data": {
      "text/html": [
       "<div>\n",
       "<style scoped>\n",
       "    .dataframe tbody tr th:only-of-type {\n",
       "        vertical-align: middle;\n",
       "    }\n",
       "\n",
       "    .dataframe tbody tr th {\n",
       "        vertical-align: top;\n",
       "    }\n",
       "\n",
       "    .dataframe thead th {\n",
       "        text-align: right;\n",
       "    }\n",
       "</style>\n",
       "<table border=\"1\" class=\"dataframe\">\n",
       "  <thead>\n",
       "    <tr style=\"text-align: right;\">\n",
       "      <th></th>\n",
       "      <th>scorer</th>\n",
       "      <th>team</th>\n",
       "      <th>total_goals</th>\n",
       "    </tr>\n",
       "  </thead>\n",
       "  <tbody>\n",
       "    <tr>\n",
       "      <th>0</th>\n",
       "      <td>Cristiano Ronaldo</td>\n",
       "      <td>Portugal</td>\n",
       "      <td>108</td>\n",
       "    </tr>\n",
       "    <tr>\n",
       "      <th>1</th>\n",
       "      <td>Robert Lewandowski</td>\n",
       "      <td>Poland</td>\n",
       "      <td>61</td>\n",
       "    </tr>\n",
       "    <tr>\n",
       "      <th>2</th>\n",
       "      <td>Romelu Lukaku</td>\n",
       "      <td>Belgium</td>\n",
       "      <td>60</td>\n",
       "    </tr>\n",
       "    <tr>\n",
       "      <th>3</th>\n",
       "      <td>Harry Kane</td>\n",
       "      <td>England</td>\n",
       "      <td>58</td>\n",
       "    </tr>\n",
       "    <tr>\n",
       "      <th>4</th>\n",
       "      <td>Lionel Messi</td>\n",
       "      <td>Argentina</td>\n",
       "      <td>55</td>\n",
       "    </tr>\n",
       "    <tr>\n",
       "      <th>5</th>\n",
       "      <td>Edin Džeko</td>\n",
       "      <td>Bosnia and Herzegovina</td>\n",
       "      <td>50</td>\n",
       "    </tr>\n",
       "    <tr>\n",
       "      <th>6</th>\n",
       "      <td>Ali Daei</td>\n",
       "      <td>Iran</td>\n",
       "      <td>49</td>\n",
       "    </tr>\n",
       "    <tr>\n",
       "      <th>7</th>\n",
       "      <td>Miroslav Klose</td>\n",
       "      <td>Germany</td>\n",
       "      <td>48</td>\n",
       "    </tr>\n",
       "    <tr>\n",
       "      <th>8</th>\n",
       "      <td>Aleksandar Mitrović</td>\n",
       "      <td>Serbia</td>\n",
       "      <td>47</td>\n",
       "    </tr>\n",
       "    <tr>\n",
       "      <th>9</th>\n",
       "      <td>Carlos Ruiz</td>\n",
       "      <td>Guatemala</td>\n",
       "      <td>47</td>\n",
       "    </tr>\n",
       "  </tbody>\n",
       "</table>\n",
       "</div>"
      ],
      "text/plain": [
       "                scorer                    team  total_goals\n",
       "0    Cristiano Ronaldo                Portugal          108\n",
       "1   Robert Lewandowski                  Poland           61\n",
       "2        Romelu Lukaku                 Belgium           60\n",
       "3           Harry Kane                 England           58\n",
       "4         Lionel Messi               Argentina           55\n",
       "5           Edin Džeko  Bosnia and Herzegovina           50\n",
       "6             Ali Daei                    Iran           49\n",
       "7       Miroslav Klose                 Germany           48\n",
       "8  Aleksandar Mitrović                  Serbia           47\n",
       "9          Carlos Ruiz               Guatemala           47"
      ]
     },
     "execution_count": 58,
     "metadata": {},
     "output_type": "execute_result"
    }
   ],
   "source": [
    "top_10_scorers = scorers.head(10).copy().reset_index(drop=True)\n",
    "top_10_scorers"
   ]
  },
  {
   "cell_type": "markdown",
   "metadata": {},
   "source": [
    "- Dùng biểu đồ cột để trực quan hóa kết quả."
   ]
  },
  {
   "cell_type": "code",
   "execution_count": 59,
   "metadata": {},
   "outputs": [
    {
     "data": {
      "image/png": "[encoded data removed]",
      "text/plain": [
       "<Figure size 1000x600 with 1 Axes>"
      ]
     },
     "metadata": {},
     "output_type": "display_data"
    }
   ],
   "source": [
    "top_10_scorers.loc[:, 'player_team'] = top_10_scorers['scorer'] + ' (' + top_10_scorers['team'] + ')'\n",
    "\n",
    "# Vẽ biểu đồ cột\n",
    "plt.figure(figsize=(10, 6))\n",
    "plt.barh(top_10_scorers['player_team'], top_10_scorers['total_goals'], color='green')\n",
    "plt.xlabel('Total goals')\n",
    "plt.ylabel('Player (Team)')\n",
    "plt.title('Top 10 goal scorers')\n",
    "plt.grid(axis='x', linestyle='--', alpha=0.6)\n",
    "plt.gca().invert_yaxis()\n",
    "plt.show()"
   ]
  },
  {
   "cell_type": "markdown",
   "metadata": {},
   "source": [
    "**Nhận xét:**\n",
    "- Có sự chênh lệch khá lớn giữa cầu thủ có nhiều bàn thắng nhất so với phần còn lại trong top 10.\n",
    "- **Cristiano Ronaldo** của đội tuyển Bồ Đào Nha, với 108 bàn thắng, là cầu thủ dẫn đầu.\n",
    "- Xếp sau đó là các cầu thủ cũng rất nổi tiếng với số bàn thắng khá ngang nhau, gồm **Lewandowski** của Ba Lan (61 bàn), **Lukaku** của Bỉ (60 bàn), **Kane** của Anh (58 bàn) và **Messi** của Argentina (55 bàn).\n",
    "- 5 cầu thủ còn lại đa số đến từ các nền bóng đá ít hùng mạnh hơn, tuy nhiên có huyền thoại **Klose** của \"Cỗ xe tăng\" Đức với 48 bàn. Bên cạnh đó có sự xuất hiện của \"Vua bóng đá\" Iran **Ali Daei** (49 bàn), người từng nắm giữ kỷ lục ghi bàn cho đội tuyển quốc gia. Ngoài ra còn 2 cái tên vang bóng một thời như **Edin Džeko** và **Mitrović** (lần lượt 50 bàn và 47 bàn).\n",
    "- Top 10 đều là huyền thoại của nền bóng đá quốc gia mình. Đặc biệt là 5 cầu thủ dẫn đầu đã và đang ghi vào sử sách của bóng đá đương đại.\n",
    "- **Lưu ý:**\n",
    "    - Kết quả trên chỉ đúng trong phạm vi đồ án này, có sự sai lệch so với thực tế vì tác giả của bộ dữ liệu gốc không thu thập được thông tin cầu thủ ghi bàn ở nhiều trận đấu."
   ]
  },
  {
   "cell_type": "markdown",
   "metadata": {},
   "source": [
    "3. Tính tỷ lệ số bàn penalty trên tổng số bàn thắng của top 10 cầu thủ nói trên; trực quan hóa:"
   ]
  },
  {
   "cell_type": "code",
   "execution_count": 60,
   "metadata": {},
   "outputs": [],
   "source": [
    "# Tính số bàn penalty của mỗi cầu thủ từng ghi bàn trong 1 trận đấu\n",
    "penalty_goals = (df3[df3['pen_goal'] == True].groupby(['scorer', 'team']).size()\n",
    "                .reset_index(name='penalty_goals')\n",
    ")"
   ]
  },
  {
   "cell_type": "code",
   "execution_count": 61,
   "metadata": {},
   "outputs": [],
   "source": [
    "# Gộp số bàn penalty vào DataFrame top_10_scorers\n",
    "top_10_scorers = pd.merge(\n",
    "    top_10_scorers,\n",
    "    penalty_goals,\n",
    "    on=['scorer', 'team'],\n",
    "    how='left'\n",
    ")"
   ]
  },
  {
   "cell_type": "code",
   "execution_count": 62,
   "metadata": {},
   "outputs": [],
   "source": [
    "\n",
    "top_10_scorers['penalty_goals'] = top_10_scorers['penalty_goals'].fillna(0).astype(int)"
   ]
  },
  {
   "cell_type": "code",
   "execution_count": 63,
   "metadata": {},
   "outputs": [],
   "source": [
    "top_10_scorers['penalty_rate'] = (top_10_scorers['penalty_goals'] / top_10_scorers['total_goals'] * 100).round(2)"
   ]
  },
  {
   "cell_type": "code",
   "execution_count": 64,
   "metadata": {},
   "outputs": [
    {
     "data": {
      "text/html": [
       "<div>\n",
       "<style scoped>\n",
       "    .dataframe tbody tr th:only-of-type {\n",
       "        vertical-align: middle;\n",
       "    }\n",
       "\n",
       "    .dataframe tbody tr th {\n",
       "        vertical-align: top;\n",
       "    }\n",
       "\n",
       "    .dataframe thead th {\n",
       "        text-align: right;\n",
       "    }\n",
       "</style>\n",
       "<table border=\"1\" class=\"dataframe\">\n",
       "  <thead>\n",
       "    <tr style=\"text-align: right;\">\n",
       "      <th></th>\n",
       "      <th>scorer</th>\n",
       "      <th>team</th>\n",
       "      <th>total_goals</th>\n",
       "      <th>player_team</th>\n",
       "      <th>penalty_goals</th>\n",
       "      <th>penalty_rate</th>\n",
       "    </tr>\n",
       "  </thead>\n",
       "  <tbody>\n",
       "    <tr>\n",
       "      <th>0</th>\n",
       "      <td>Cristiano Ronaldo</td>\n",
       "      <td>Portugal</td>\n",
       "      <td>108</td>\n",
       "      <td>Cristiano Ronaldo (Portugal)</td>\n",
       "      <td>19</td>\n",
       "      <td>17.59</td>\n",
       "    </tr>\n",
       "    <tr>\n",
       "      <th>1</th>\n",
       "      <td>Robert Lewandowski</td>\n",
       "      <td>Poland</td>\n",
       "      <td>61</td>\n",
       "      <td>Robert Lewandowski (Poland)</td>\n",
       "      <td>13</td>\n",
       "      <td>21.31</td>\n",
       "    </tr>\n",
       "    <tr>\n",
       "      <th>2</th>\n",
       "      <td>Romelu Lukaku</td>\n",
       "      <td>Belgium</td>\n",
       "      <td>60</td>\n",
       "      <td>Romelu Lukaku (Belgium)</td>\n",
       "      <td>6</td>\n",
       "      <td>10.00</td>\n",
       "    </tr>\n",
       "    <tr>\n",
       "      <th>3</th>\n",
       "      <td>Harry Kane</td>\n",
       "      <td>England</td>\n",
       "      <td>58</td>\n",
       "      <td>Harry Kane (England)</td>\n",
       "      <td>20</td>\n",
       "      <td>34.48</td>\n",
       "    </tr>\n",
       "    <tr>\n",
       "      <th>4</th>\n",
       "      <td>Lionel Messi</td>\n",
       "      <td>Argentina</td>\n",
       "      <td>55</td>\n",
       "      <td>Lionel Messi (Argentina)</td>\n",
       "      <td>14</td>\n",
       "      <td>25.45</td>\n",
       "    </tr>\n",
       "    <tr>\n",
       "      <th>5</th>\n",
       "      <td>Edin Džeko</td>\n",
       "      <td>Bosnia and Herzegovina</td>\n",
       "      <td>50</td>\n",
       "      <td>Edin Džeko (Bosnia and Herzegovina)</td>\n",
       "      <td>2</td>\n",
       "      <td>4.00</td>\n",
       "    </tr>\n",
       "    <tr>\n",
       "      <th>6</th>\n",
       "      <td>Ali Daei</td>\n",
       "      <td>Iran</td>\n",
       "      <td>49</td>\n",
       "      <td>Ali Daei (Iran)</td>\n",
       "      <td>8</td>\n",
       "      <td>16.33</td>\n",
       "    </tr>\n",
       "    <tr>\n",
       "      <th>7</th>\n",
       "      <td>Miroslav Klose</td>\n",
       "      <td>Germany</td>\n",
       "      <td>48</td>\n",
       "      <td>Miroslav Klose (Germany)</td>\n",
       "      <td>0</td>\n",
       "      <td>0.00</td>\n",
       "    </tr>\n",
       "    <tr>\n",
       "      <th>8</th>\n",
       "      <td>Aleksandar Mitrović</td>\n",
       "      <td>Serbia</td>\n",
       "      <td>47</td>\n",
       "      <td>Aleksandar Mitrović (Serbia)</td>\n",
       "      <td>2</td>\n",
       "      <td>4.26</td>\n",
       "    </tr>\n",
       "    <tr>\n",
       "      <th>9</th>\n",
       "      <td>Carlos Ruiz</td>\n",
       "      <td>Guatemala</td>\n",
       "      <td>47</td>\n",
       "      <td>Carlos Ruiz (Guatemala)</td>\n",
       "      <td>4</td>\n",
       "      <td>8.51</td>\n",
       "    </tr>\n",
       "  </tbody>\n",
       "</table>\n",
       "</div>"
      ],
      "text/plain": [
       "                scorer                    team  total_goals  \\\n",
       "0    Cristiano Ronaldo                Portugal          108   \n",
       "1   Robert Lewandowski                  Poland           61   \n",
       "2        Romelu Lukaku                 Belgium           60   \n",
       "3           Harry Kane                 England           58   \n",
       "4         Lionel Messi               Argentina           55   \n",
       "5           Edin Džeko  Bosnia and Herzegovina           50   \n",
       "6             Ali Daei                    Iran           49   \n",
       "7       Miroslav Klose                 Germany           48   \n",
       "8  Aleksandar Mitrović                  Serbia           47   \n",
       "9          Carlos Ruiz               Guatemala           47   \n",
       "\n",
       "                           player_team  penalty_goals  penalty_rate  \n",
       "0         Cristiano Ronaldo (Portugal)             19         17.59  \n",
       "1          Robert Lewandowski (Poland)             13         21.31  \n",
       "2              Romelu Lukaku (Belgium)              6         10.00  \n",
       "3                 Harry Kane (England)             20         34.48  \n",
       "4             Lionel Messi (Argentina)             14         25.45  \n",
       "5  Edin Džeko (Bosnia and Herzegovina)              2          4.00  \n",
       "6                      Ali Daei (Iran)              8         16.33  \n",
       "7             Miroslav Klose (Germany)              0          0.00  \n",
       "8         Aleksandar Mitrović (Serbia)              2          4.26  \n",
       "9              Carlos Ruiz (Guatemala)              4          8.51  "
      ]
     },
     "execution_count": 64,
     "metadata": {},
     "output_type": "execute_result"
    }
   ],
   "source": [
    "top_10_scorers"
   ]
  },
  {
   "cell_type": "code",
   "execution_count": 65,
   "metadata": {},
   "outputs": [
    {
     "data": {
      "image/png": "[encoded data removed]",
      "text/plain": [
       "<Figure size 1000x600 with 1 Axes>"
      ]
     },
     "metadata": {},
     "output_type": "display_data"
    }
   ],
   "source": [
    "top_10_scorers = top_10_scorers.sort_values(by='penalty_rate', ascending=False)\n",
    "\n",
    "# Vẽ biểu đồ cột\n",
    "plt.figure(figsize=(10, 6))\n",
    "plt.barh(top_10_scorers['player_team'], top_10_scorers['penalty_rate'], color='orange')\n",
    "plt.xlabel('Penalty rate (%)')\n",
    "plt.ylabel('Player (Team)')\n",
    "plt.title('The penalty rate of top 10 goal scorers')\n",
    "plt.grid(axis='x', linestyle='--', alpha=0.6)\n",
    "plt.gca().invert_yaxis()\n",
    "plt.show()"
   ]
  },
  {
   "cell_type": "markdown",
   "metadata": {},
   "source": [
    "**Nhận xét:**\n",
    "- Ta thấy rằng **Harry Kane** có tỷ lệ số bàn thắng từ chấm phạt đền cao nhất. Điều này cho thấy rằng Kane có khả năng chuyển hóa bàn thắng từ chấm penalty rất tốt. Và phần nào cho thấy lối chơi của đội tuyển Anh tập trung gây áp lực trong vòng cấm đối phương, từ đó dẫn đến nhiều tình huống đối phương phạm lỗi trong vòng cấm.\n",
    "- Tỷ lệ của các cầu thủ còn lại giảm dần theo thứ tự. Có một điểm đặc biệt ở vị trí của **Miroslav Klose**, cầu thủ không có một bàn thắng nào từ chấm phạt đền. Cho thấy rằng **Klose** là một \"sát thủ\" thực sự không cần đến những pha penalty vẫn lọt top. Hoặc cũng có thể là anh chưa may mắn khi đứng trước chấm 11m (nếu có).\n",
    "- Nhìn chung các chân sút tốt nhất trong lịch sử đều không chỉ giỏi ở những tình huống dứt điểm khác nhau mà còn thật sự chính xác khi thực hiện những tình huống đá phạt đền."
   ]
  },
  {
   "cell_type": "markdown",
   "metadata": {},
   "source": [
    "4. Tìm top 10 vua phá lưới ở 2 giải đấu hấp dẫn nhất hành tinh:\n",
    "    - **FIFA World Cup**\n",
    "    - **UEFA Euro**"
   ]
  },
  {
   "cell_type": "markdown",
   "metadata": {},
   "source": [
    "- **FIFA World Cup:**"
   ]
  },
  {
   "cell_type": "code",
   "execution_count": 66,
   "metadata": {},
   "outputs": [],
   "source": [
    "fifa_wc_scores = df3[df3['tournament'] == 'FIFA World Cup']"
   ]
  },
  {
   "cell_type": "code",
   "execution_count": 67,
   "metadata": {},
   "outputs": [
    {
     "data": {
      "text/html": [
       "<div>\n",
       "<style scoped>\n",
       "    .dataframe tbody tr th:only-of-type {\n",
       "        vertical-align: middle;\n",
       "    }\n",
       "\n",
       "    .dataframe tbody tr th {\n",
       "        vertical-align: top;\n",
       "    }\n",
       "\n",
       "    .dataframe thead th {\n",
       "        text-align: right;\n",
       "    }\n",
       "</style>\n",
       "<table border=\"1\" class=\"dataframe\">\n",
       "  <thead>\n",
       "    <tr style=\"text-align: right;\">\n",
       "      <th></th>\n",
       "      <th>scorer</th>\n",
       "      <th>team</th>\n",
       "      <th>total_goals</th>\n",
       "    </tr>\n",
       "  </thead>\n",
       "  <tbody>\n",
       "    <tr>\n",
       "      <th>915</th>\n",
       "      <td>Miroslav Klose</td>\n",
       "      <td>Germany</td>\n",
       "      <td>16</td>\n",
       "    </tr>\n",
       "    <tr>\n",
       "      <th>1145</th>\n",
       "      <td>Ronaldo</td>\n",
       "      <td>Brazil</td>\n",
       "      <td>15</td>\n",
       "    </tr>\n",
       "    <tr>\n",
       "      <th>429</th>\n",
       "      <td>Gerd Müller</td>\n",
       "      <td>Germany</td>\n",
       "      <td>14</td>\n",
       "    </tr>\n",
       "    <tr>\n",
       "      <th>702</th>\n",
       "      <td>Just Fontaine</td>\n",
       "      <td>France</td>\n",
       "      <td>13</td>\n",
       "    </tr>\n",
       "    <tr>\n",
       "      <th>784</th>\n",
       "      <td>Lionel Messi</td>\n",
       "      <td>Argentina</td>\n",
       "      <td>13</td>\n",
       "    </tr>\n",
       "    <tr>\n",
       "      <th>756</th>\n",
       "      <td>Kylian Mbappé</td>\n",
       "      <td>France</td>\n",
       "      <td>12</td>\n",
       "    </tr>\n",
       "    <tr>\n",
       "      <th>1018</th>\n",
       "      <td>Pelé</td>\n",
       "      <td>Brazil</td>\n",
       "      <td>12</td>\n",
       "    </tr>\n",
       "    <tr>\n",
       "      <th>1239</th>\n",
       "      <td>Sándor Kocsis</td>\n",
       "      <td>Hungary</td>\n",
       "      <td>11</td>\n",
       "    </tr>\n",
       "    <tr>\n",
       "      <th>710</th>\n",
       "      <td>Jürgen Klinsmann</td>\n",
       "      <td>Germany</td>\n",
       "      <td>11</td>\n",
       "    </tr>\n",
       "    <tr>\n",
       "      <th>458</th>\n",
       "      <td>Grzegorz Lato</td>\n",
       "      <td>Poland</td>\n",
       "      <td>10</td>\n",
       "    </tr>\n",
       "  </tbody>\n",
       "</table>\n",
       "</div>"
      ],
      "text/plain": [
       "                scorer       team  total_goals\n",
       "915     Miroslav Klose    Germany           16\n",
       "1145           Ronaldo     Brazil           15\n",
       "429        Gerd Müller    Germany           14\n",
       "702      Just Fontaine     France           13\n",
       "784       Lionel Messi  Argentina           13\n",
       "756      Kylian Mbappé     France           12\n",
       "1018              Pelé     Brazil           12\n",
       "1239     Sándor Kocsis    Hungary           11\n",
       "710   Jürgen Klinsmann    Germany           11\n",
       "458      Grzegorz Lato     Poland           10"
      ]
     },
     "execution_count": 67,
     "metadata": {},
     "output_type": "execute_result"
    }
   ],
   "source": [
    "top_10_scorers_fifa_wc = fifa_wc_scores.groupby(['scorer', 'team']).size().reset_index(name='total_goals')\n",
    "top_10_scorers_fifa_wc = top_10_scorers_fifa_wc.sort_values(by='total_goals', ascending=False).head(10)\n",
    "top_10_scorers_fifa_wc"
   ]
  },
  {
   "cell_type": "code",
   "execution_count": 68,
   "metadata": {},
   "outputs": [
    {
     "data": {
      "image/png": "[encoded data removed]",
      "text/plain": [
       "<Figure size 1000x600 with 1 Axes>"
      ]
     },
     "metadata": {},
     "output_type": "display_data"
    }
   ],
   "source": [
    "top_10_scorers_fifa_wc.loc[:, 'player_team'] = top_10_scorers_fifa_wc['scorer'] + ' (' + top_10_scorers_fifa_wc['team'] + ')'\n",
    "\n",
    "# Vẽ biểu đồ cột\n",
    "plt.figure(figsize=(10, 6))\n",
    "plt.barh(top_10_scorers_fifa_wc['player_team'], top_10_scorers_fifa_wc['total_goals'], color='gold')\n",
    "plt.xlabel('Total goals')\n",
    "plt.ylabel('Player (Team)')\n",
    "plt.title('Top 10 goal scorers in FIFA World Cup')\n",
    "plt.grid(axis='x', linestyle='--', alpha=0.6)\n",
    "plt.gca().invert_yaxis()\n",
    "plt.show()"
   ]
  },
  {
   "cell_type": "markdown",
   "metadata": {},
   "source": [
    "**Nhận xét:**\n",
    "- Ở giải đấu lớn nhất hành tinh, \"Vua phá lưới\" gọi tên huyền thoại **Miroslav Klose** của Đức với 16 bàn.\n",
    "- Sát theo sau là **Ronaldo** \"béo\" (15 bàn) của Brazil - đội tuyển với nhiều chức vô địch World Cup nhất.\n",
    "- Tiếp đến có **Gerd Müller** cũng thuộc tuyển Đức với 14 bàn.\n",
    "- Hầu hết top 10 là các danh thủ thuộc thế hệ trước, đặc biệt có sự hiện diện của biểu tượng bóng đá thế giới - \"Vua bóng đá\" **Pele**.\n",
    "- Bên cạnh đó có sự góp mặt của 2 cầu thủ hiện vẫn còn thi đấu là huyền thoại **Lionel Messi** của Argentina (13 bàn) và ngôi sao **Kylian Mbappe** của đội tuyển Pháp (12 bàn).\n",
    "- Hiện vẫn chưa có cầu thủ nào phá vỡ kỷ lục của **Klose** đã tồn tại được 10 năm. Đức cũng là đội tuyển có hàng công đáng gờm nhất tại World Cup với nhiều cầu thủ trong top 10 nhất."
   ]
  },
  {
   "cell_type": "markdown",
   "metadata": {},
   "source": [
    "- **UEFA Euro:**"
   ]
  },
  {
   "cell_type": "code",
   "execution_count": 69,
   "metadata": {},
   "outputs": [],
   "source": [
    "uefa_euro_scores = df3[df3['tournament'] == 'UEFA Euro']"
   ]
  },
  {
   "cell_type": "code",
   "execution_count": 70,
   "metadata": {},
   "outputs": [
    {
     "data": {
      "text/html": [
       "<div>\n",
       "<style scoped>\n",
       "    .dataframe tbody tr th:only-of-type {\n",
       "        vertical-align: middle;\n",
       "    }\n",
       "\n",
       "    .dataframe tbody tr th {\n",
       "        vertical-align: top;\n",
       "    }\n",
       "\n",
       "    .dataframe thead th {\n",
       "        text-align: right;\n",
       "    }\n",
       "</style>\n",
       "<table border=\"1\" class=\"dataframe\">\n",
       "  <thead>\n",
       "    <tr style=\"text-align: right;\">\n",
       "      <th></th>\n",
       "      <th>scorer</th>\n",
       "      <th>team</th>\n",
       "      <th>total_goals</th>\n",
       "    </tr>\n",
       "  </thead>\n",
       "  <tbody>\n",
       "    <tr>\n",
       "      <th>86</th>\n",
       "      <td>Cristiano Ronaldo</td>\n",
       "      <td>Portugal</td>\n",
       "      <td>14</td>\n",
       "    </tr>\n",
       "    <tr>\n",
       "      <th>337</th>\n",
       "      <td>Michel Platini</td>\n",
       "      <td>France</td>\n",
       "      <td>9</td>\n",
       "    </tr>\n",
       "    <tr>\n",
       "      <th>189</th>\n",
       "      <td>Harry Kane</td>\n",
       "      <td>England</td>\n",
       "      <td>7</td>\n",
       "    </tr>\n",
       "    <tr>\n",
       "      <th>32</th>\n",
       "      <td>Antoine Griezmann</td>\n",
       "      <td>France</td>\n",
       "      <td>7</td>\n",
       "    </tr>\n",
       "    <tr>\n",
       "      <th>6</th>\n",
       "      <td>Alan Shearer</td>\n",
       "      <td>England</td>\n",
       "      <td>7</td>\n",
       "    </tr>\n",
       "    <tr>\n",
       "      <th>539</th>\n",
       "      <td>Álvaro Morata</td>\n",
       "      <td>Spain</td>\n",
       "      <td>7</td>\n",
       "    </tr>\n",
       "    <tr>\n",
       "      <th>388</th>\n",
       "      <td>Patrick Kluivert</td>\n",
       "      <td>Netherlands</td>\n",
       "      <td>6</td>\n",
       "    </tr>\n",
       "    <tr>\n",
       "      <th>390</th>\n",
       "      <td>Patrik Schick</td>\n",
       "      <td>Czech Republic</td>\n",
       "      <td>6</td>\n",
       "    </tr>\n",
       "    <tr>\n",
       "      <th>428</th>\n",
       "      <td>Robert Lewandowski</td>\n",
       "      <td>Poland</td>\n",
       "      <td>6</td>\n",
       "    </tr>\n",
       "    <tr>\n",
       "      <th>450</th>\n",
       "      <td>Ruud van Nistelrooy</td>\n",
       "      <td>Netherlands</td>\n",
       "      <td>6</td>\n",
       "    </tr>\n",
       "  </tbody>\n",
       "</table>\n",
       "</div>"
      ],
      "text/plain": [
       "                  scorer            team  total_goals\n",
       "86     Cristiano Ronaldo        Portugal           14\n",
       "337       Michel Platini          France            9\n",
       "189           Harry Kane         England            7\n",
       "32     Antoine Griezmann          France            7\n",
       "6           Alan Shearer         England            7\n",
       "539        Álvaro Morata           Spain            7\n",
       "388     Patrick Kluivert     Netherlands            6\n",
       "390        Patrik Schick  Czech Republic            6\n",
       "428   Robert Lewandowski          Poland            6\n",
       "450  Ruud van Nistelrooy     Netherlands            6"
      ]
     },
     "execution_count": 70,
     "metadata": {},
     "output_type": "execute_result"
    }
   ],
   "source": [
    "top_10_scorers_uefa_euro = uefa_euro_scores.groupby(['scorer', 'team']).size().reset_index(name='total_goals')\n",
    "top_10_scorers_uefa_euro = top_10_scorers_uefa_euro.sort_values(by='total_goals', ascending=False).head(10)\n",
    "top_10_scorers_uefa_euro"
   ]
  },
  {
   "cell_type": "code",
   "execution_count": 71,
   "metadata": {},
   "outputs": [
    {
     "data": {
      "image/png": "[encoded data removed]",
      "text/plain": [
       "<Figure size 1000x600 with 1 Axes>"
      ]
     },
     "metadata": {},
     "output_type": "display_data"
    }
   ],
   "source": [
    "top_10_scorers_uefa_euro.loc[:, 'player_team'] = top_10_scorers_uefa_euro['scorer'] + ' (' + top_10_scorers_uefa_euro['team'] + ')'\n",
    "\n",
    "# Vẽ biểu đồ cột\n",
    "plt.figure(figsize=(10, 6))\n",
    "plt.barh(top_10_scorers_uefa_euro['player_team'], top_10_scorers_uefa_euro['total_goals'], color='skyblue')\n",
    "plt.xlabel('Total goals')\n",
    "plt.ylabel('Player (Team)')\n",
    "plt.title('Top 10 goal scorers in UEFA Euro')\n",
    "plt.grid(axis='x', linestyle='--', alpha=0.6)\n",
    "plt.gca().invert_yaxis()\n",
    "plt.show()"
   ]
  },
  {
   "cell_type": "markdown",
   "metadata": {},
   "source": [
    "**Nhận xét:**\n",
    "- Ở giải đấu lớn thứ 2 hành tinh, huyền thoại **Cristiano Ronaldo** của Bồ Đào Nha dẫn dầu với 14 pha lập công, cách xa người xếp sau là cựu tuyển thủ **Platini** của Pháp (9 bàn).\n",
    "- **Kane**, **Griezmann**, **Shearer** và **Morata** có cùng 7 bàn thắng.\n",
    "- 4 cái tên còn lại đều có cùng 6 bàn, gồm 2 cựu danh thủ **Kluvert** và **Ruud van Nistelrooy** của Hà Lan, trung phong **Lewandowski** của Ba Lan và cầu thủ trẻ **Patrik Schick** của Cộng hòa Séc đã có mùa Euro 2021 chói sáng."
   ]
  },
  {
   "cell_type": "markdown",
   "metadata": {},
   "source": [
    "#### Conclusion"
   ]
  },
  {
   "cell_type": "markdown",
   "metadata": {},
   "source": [
    "Qua những phân tích và trực quan của ở trên, chúng ta đã tìm ra được danh sách các chân sút xuất sắc nhất trong lịch sử bóng đá quốc tế, hầu hết đều là những huyền thoại ở cả thế hệ trước và thế hệ ngày nay.\n",
    "- Cristiano Ronaldo, mặc dù là cầu thủ nhiều bàn thắng nhất trong lịch sử cũng như vòng chung kết EURO, tuy nhiên lại không góp mặt trong top 10 chân sút của vòng chung kết WORLD CUP. Trường hợp tương tự cũng dành cho **Harry Kane** và **Robert Lewandowski**.\n",
    "- Điều đó cho ta thấy được sự khốc liệt và tính chất cạnh tranh của giải đấu lớn nhất hành tinh, không dễ dàng ghi bàn vào lưới đối thủ.\n",
    "- **Messi** là cầu thủ xuất hiện ở cả 2 danh sách quan trọng, anh chính là đầu tàu đưa Argentina đến chức vô địch WORLD CUP 2022.\n",
    "- Dành một lời tri ân đến những chân sút vĩ đại đã mang lại những cảm xúc bùng nổ cho toàn bộ người hâm mộ bóng đá trên thế giới."
   ]
  },
  {
   "cell_type": "markdown",
   "metadata": {},
   "source": [
    "---"
   ]
  },
  {
   "cell_type": "markdown",
   "metadata": {},
   "source": [
    "**Câu hỏi 4:**  câu hỏi của mình nha\n",
    "\n",
    "**Ý nghĩa**: lợi ích khi trả lời câu hỏi này\n",
    "\n",
    "**Các bước thực hiện**: ý tưởng làm câu hỏi này và nói cách làm"
   ]
  },
  {
   "cell_type": "markdown",
   "metadata": {},
   "source": [
    "#### Pre-processing"
   ]
  },
  {
   "cell_type": "code",
   "execution_count": 72,
   "metadata": {},
   "outputs": [],
   "source": [
    "# YOUR CODE HERE (OPTION) "
   ]
  },
  {
   "cell_type": "markdown",
   "metadata": {},
   "source": [
    "#### Analyzing to get the answer"
   ]
  },
  {
   "cell_type": "code",
   "execution_count": 73,
   "metadata": {},
   "outputs": [],
   "source": [
    "# YOUR CODE HERE"
   ]
  },
  {
   "cell_type": "markdown",
   "metadata": {},
   "source": [
    "#### Conclusion"
   ]
  },
  {
   "cell_type": "markdown",
   "metadata": {},
   "source": [
    "YOUR CODE HERE"
   ]
  },
  {
   "cell_type": "markdown",
   "metadata": {},
   "source": [
    "---"
   ]
  },
  {
   "cell_type": "markdown",
   "metadata": {},
   "source": [
    "**<font color='orange'>Câu hỏi 5:</font>** Tần suất các cầu thủ ghi bàn nhiều hơn một bàn trong một trận đấu (cú đúp, hat-trick) có thay đổi theo thời kỳ không?\n",
    "\n",
    "**Ý nghĩa**: Việc ghi nhiều bàn thắng trong một trận đấu phản ánh năng lực cá nhân của cầu thủ và sự hỗ trợ từ đồng đội, cùng với mức độ phòng thủ của đối thủ. Do đó trả lời câu hỏi này sẽ giúp ta hiểu rõ hơn về sự thay đổi trong chiến thuật bóng đá qua thời gian.\n",
    "\n",
    "**Các bước thực hiện**: \n",
    "1. Loại bỏ các trận đấu không có thông tin của các cầu thủ ghi bàn.\n",
    "2. Loại bỏ các bàn thắng do cầu thủ phản lưới nhà.\n",
    "3. Tạo DataFrame fre_player_sco_gt_1g (frequency player scores greater than 1 goal), gồm:\n",
    "    - Cột `date`, `home_team`, `away_team`\n",
    "    - Cột `double` thể hiện cho số cầu thủ ghi được 2 bàn trong trận đấu đó.\n",
    "    - Cột `hat-trick+` thể hiện cho số cầu thủ ghi được 3 bàn trở lên trong trận đấu đó.\n",
    "4. Tính tần suất tương ứng cho từng giai đoạn, lưu vào DataFrame period_fre_player_sco_gt_1g với 2 cột `period` và `frequency` đại diện cho số lần có cầu thủ ghi được trên 2 bàn trong mỗi trận đấu được tổ chức trong giai đoạn tương ứng.\n",
    "5. Trực quan hóa."
   ]
  },
  {
   "cell_type": "markdown",
   "metadata": {},
   "source": [
    "#### Pre-processing"
   ]
  },
  {
   "cell_type": "markdown",
   "metadata": {},
   "source": [
    "1. Loại bỏ các trận đấu không có thông tin của các cầu thủ ghi bàn:"
   ]
  },
  {
   "cell_type": "code",
   "execution_count": 74,
   "metadata": {},
   "outputs": [],
   "source": [
    "df5 = df.copy()"
   ]
  },
  {
   "cell_type": "code",
   "execution_count": 75,
   "metadata": {},
   "outputs": [],
   "source": [
    "# Loại bỏ các dòng có giá trị NaN tại cột `scorer`\n",
    "df5 = df5.dropna(subset=['scorer'])"
   ]
  },
  {
   "cell_type": "markdown",
   "metadata": {},
   "source": [
    "2. Loại bỏ các bàn thắng do cầu thủ phản lưới nhà:"
   ]
  },
  {
   "cell_type": "code",
   "execution_count": 76,
   "metadata": {},
   "outputs": [],
   "source": [
    "# Loại bỏ các dòng có giá trị True tại cột `own_goal`\n",
    "df5 = df5[df5['own_goal'] != True]"
   ]
  },
  {
   "cell_type": "markdown",
   "metadata": {},
   "source": [
    "#### Analyzing to get the answer"
   ]
  },
  {
   "cell_type": "markdown",
   "metadata": {},
   "source": [
    "3. Tạo DataFrame fre_player_sco_gt_1g (frequency player scores greater than 1 goal), gồm:\n",
    "    - Cột `date`, `home_team`, `away_team`\n",
    "    - Cột `double` thể hiện cho số cầu thủ ghi được 2 bàn trong trận đấu đó.\n",
    "    - Cột `hat-trick+` thể hiện cho số cầu thủ ghi được 3 bàn trở lên trong trận đấu đó."
   ]
  },
  {
   "cell_type": "code",
   "execution_count": 77,
   "metadata": {},
   "outputs": [],
   "source": [
    "# Nhóm theo trận đấu và cầu thủ để đếm số bàn mỗi cầu thủ ghi trong mỗi trận\n",
    "player_scores = df5.groupby(['date', 'home_team', 'away_team', 'scorer']).size().reset_index(name='goals_scored')"
   ]
  },
  {
   "cell_type": "code",
   "execution_count": 78,
   "metadata": {},
   "outputs": [],
   "source": [
    "# Lọc các cầu thủ ghi từ 2 bàn trở lên trong mỗi trận\n",
    "player_scores_gt_1 = player_scores[player_scores['goals_scored'] > 1]"
   ]
  },
  {
   "cell_type": "code",
   "execution_count": 79,
   "metadata": {},
   "outputs": [],
   "source": [
    "# Tạo DataFrame tần suất các loại \"cú đúp\", \"hat-trick+\"\n",
    "fre_player_sco_gt_1g = player_scores_gt_1.groupby(['date', 'home_team', 'away_team']).apply(\n",
    "    lambda group: pd.Series({\n",
    "        'gt_1_goal': (group['goals_scored'] >= 3).sum()\n",
    "    })\n",
    ").reset_index()"
   ]
  },
  {
   "cell_type": "code",
   "execution_count": 80,
   "metadata": {},
   "outputs": [
    {
     "data": {
      "text/html": [
       "<div>\n",
       "<style scoped>\n",
       "    .dataframe tbody tr th:only-of-type {\n",
       "        vertical-align: middle;\n",
       "    }\n",
       "\n",
       "    .dataframe tbody tr th {\n",
       "        vertical-align: top;\n",
       "    }\n",
       "\n",
       "    .dataframe thead th {\n",
       "        text-align: right;\n",
       "    }\n",
       "</style>\n",
       "<table border=\"1\" class=\"dataframe\">\n",
       "  <thead>\n",
       "    <tr style=\"text-align: right;\">\n",
       "      <th></th>\n",
       "      <th>date</th>\n",
       "      <th>home_team</th>\n",
       "      <th>away_team</th>\n",
       "      <th>gt_1_goal</th>\n",
       "    </tr>\n",
       "  </thead>\n",
       "  <tbody>\n",
       "    <tr>\n",
       "      <th>3635</th>\n",
       "      <td>2017-03-25</td>\n",
       "      <td>Portugal</td>\n",
       "      <td>Hungary</td>\n",
       "      <td>0</td>\n",
       "    </tr>\n",
       "    <tr>\n",
       "      <th>2409</th>\n",
       "      <td>2004-06-06</td>\n",
       "      <td>Australia</td>\n",
       "      <td>Solomon Islands</td>\n",
       "      <td>0</td>\n",
       "    </tr>\n",
       "    <tr>\n",
       "      <th>2385</th>\n",
       "      <td>2004-03-28</td>\n",
       "      <td>Bahamas</td>\n",
       "      <td>Dominica</td>\n",
       "      <td>0</td>\n",
       "    </tr>\n",
       "    <tr>\n",
       "      <th>2135</th>\n",
       "      <td>2001-04-21</td>\n",
       "      <td>Senegal</td>\n",
       "      <td>Algeria</td>\n",
       "      <td>1</td>\n",
       "    </tr>\n",
       "    <tr>\n",
       "      <th>3057</th>\n",
       "      <td>2011-01-09</td>\n",
       "      <td>Saudi Arabia</td>\n",
       "      <td>Syria</td>\n",
       "      <td>0</td>\n",
       "    </tr>\n",
       "    <tr>\n",
       "      <th>4184</th>\n",
       "      <td>2022-12-09</td>\n",
       "      <td>Netherlands</td>\n",
       "      <td>Argentina</td>\n",
       "      <td>0</td>\n",
       "    </tr>\n",
       "    <tr>\n",
       "      <th>1962</th>\n",
       "      <td>1999-10-09</td>\n",
       "      <td>Estonia</td>\n",
       "      <td>Bosnia and Herzegovina</td>\n",
       "      <td>1</td>\n",
       "    </tr>\n",
       "    <tr>\n",
       "      <th>417</th>\n",
       "      <td>1960-10-14</td>\n",
       "      <td>South Korea</td>\n",
       "      <td>Vietnam Republic</td>\n",
       "      <td>0</td>\n",
       "    </tr>\n",
       "    <tr>\n",
       "      <th>2093</th>\n",
       "      <td>2001-03-04</td>\n",
       "      <td>Qatar</td>\n",
       "      <td>Malaysia</td>\n",
       "      <td>1</td>\n",
       "    </tr>\n",
       "    <tr>\n",
       "      <th>3632</th>\n",
       "      <td>2017-03-25</td>\n",
       "      <td>Bosnia and Herzegovina</td>\n",
       "      <td>Gibraltar</td>\n",
       "      <td>0</td>\n",
       "    </tr>\n",
       "  </tbody>\n",
       "</table>\n",
       "</div>"
      ],
      "text/plain": [
       "           date               home_team               away_team  gt_1_goal\n",
       "3635 2017-03-25                Portugal                 Hungary          0\n",
       "2409 2004-06-06               Australia         Solomon Islands          0\n",
       "2385 2004-03-28                 Bahamas                Dominica          0\n",
       "2135 2001-04-21                 Senegal                 Algeria          1\n",
       "3057 2011-01-09            Saudi Arabia                   Syria          0\n",
       "4184 2022-12-09             Netherlands               Argentina          0\n",
       "1962 1999-10-09                 Estonia  Bosnia and Herzegovina          1\n",
       "417  1960-10-14             South Korea        Vietnam Republic          0\n",
       "2093 2001-03-04                   Qatar                Malaysia          1\n",
       "3632 2017-03-25  Bosnia and Herzegovina               Gibraltar          0"
      ]
     },
     "execution_count": 80,
     "metadata": {},
     "output_type": "execute_result"
    }
   ],
   "source": [
    "fre_player_sco_gt_1g.sample(10)"
   ]
  },
  {
   "cell_type": "markdown",
   "metadata": {},
   "source": [
    "4. Tính tần suất tương ứng cho từng giai đoạn, lưu vào DataFrame period_fre_player_sco_gt_1g với 2 cột `period` và `frequency` đại diện cho số lần có cầu thủ ghi được trên 2 bàn trong mỗi trận đấu được tổ chức trong giai đoạn tương ứng."
   ]
  },
  {
   "cell_type": "code",
   "execution_count": 81,
   "metadata": {},
   "outputs": [
    {
     "data": {
      "text/html": [
       "<div>\n",
       "<style scoped>\n",
       "    .dataframe tbody tr th:only-of-type {\n",
       "        vertical-align: middle;\n",
       "    }\n",
       "\n",
       "    .dataframe tbody tr th {\n",
       "        vertical-align: top;\n",
       "    }\n",
       "\n",
       "    .dataframe thead th {\n",
       "        text-align: right;\n",
       "    }\n",
       "</style>\n",
       "<table border=\"1\" class=\"dataframe\">\n",
       "  <thead>\n",
       "    <tr style=\"text-align: right;\">\n",
       "      <th></th>\n",
       "      <th>period</th>\n",
       "      <th>fre_sco_gt_1g</th>\n",
       "    </tr>\n",
       "  </thead>\n",
       "  <tbody>\n",
       "    <tr>\n",
       "      <th>0</th>\n",
       "      <td>1872-1888</td>\n",
       "      <td>0</td>\n",
       "    </tr>\n",
       "    <tr>\n",
       "      <th>1</th>\n",
       "      <td>1889-1905</td>\n",
       "      <td>0</td>\n",
       "    </tr>\n",
       "    <tr>\n",
       "      <th>2</th>\n",
       "      <td>1906-1922</td>\n",
       "      <td>0</td>\n",
       "    </tr>\n",
       "    <tr>\n",
       "      <th>3</th>\n",
       "      <td>1923-1939</td>\n",
       "      <td>0</td>\n",
       "    </tr>\n",
       "    <tr>\n",
       "      <th>4</th>\n",
       "      <td>1940-1956</td>\n",
       "      <td>0</td>\n",
       "    </tr>\n",
       "    <tr>\n",
       "      <th>5</th>\n",
       "      <td>1957-1973</td>\n",
       "      <td>0</td>\n",
       "    </tr>\n",
       "    <tr>\n",
       "      <th>6</th>\n",
       "      <td>1974-1990</td>\n",
       "      <td>0</td>\n",
       "    </tr>\n",
       "    <tr>\n",
       "      <th>7</th>\n",
       "      <td>1991-2007</td>\n",
       "      <td>0</td>\n",
       "    </tr>\n",
       "    <tr>\n",
       "      <th>8</th>\n",
       "      <td>2008-2024</td>\n",
       "      <td>0</td>\n",
       "    </tr>\n",
       "  </tbody>\n",
       "</table>\n",
       "</div>"
      ],
      "text/plain": [
       "      period  fre_sco_gt_1g\n",
       "0  1872-1888              0\n",
       "1  1889-1905              0\n",
       "2  1906-1922              0\n",
       "3  1923-1939              0\n",
       "4  1940-1956              0\n",
       "5  1957-1973              0\n",
       "6  1974-1990              0\n",
       "7  1991-2007              0\n",
       "8  2008-2024              0"
      ]
     },
     "execution_count": 81,
     "metadata": {},
     "output_type": "execute_result"
    }
   ],
   "source": [
    "period_fre_player_sco_gt_1g = pd.DataFrame({'period': list_str_periods, 'fre_sco_gt_1g': 0})\n",
    "period_fre_player_sco_gt_1g"
   ]
  },
  {
   "cell_type": "code",
   "execution_count": 82,
   "metadata": {},
   "outputs": [],
   "source": [
    "# Tính tần suất cho từng giai đoạn\n",
    "for idx, start_year in enumerate(periods):\n",
    "    end_year = start_year + 16\n",
    "    # Lọc các trận đấu thuộc giai đoạn\n",
    "    period_data = fre_player_sco_gt_1g[(fre_player_sco_gt_1g['date'].dt.year >= start_year) & (fre_player_sco_gt_1g['date'].dt.year <= end_year)]\n",
    "    # Tính tổng số lần có cầu thủ ghi được hơn 1 bàn\n",
    "    period_fre_player_sco_gt_1g.loc[idx, 'fre_sco_gt_1g'] = period_data['gt_1_goal'].sum()\n"
   ]
  },
  {
   "cell_type": "code",
   "execution_count": 83,
   "metadata": {},
   "outputs": [
    {
     "data": {
      "text/html": [
       "<div>\n",
       "<style scoped>\n",
       "    .dataframe tbody tr th:only-of-type {\n",
       "        vertical-align: middle;\n",
       "    }\n",
       "\n",
       "    .dataframe tbody tr th {\n",
       "        vertical-align: top;\n",
       "    }\n",
       "\n",
       "    .dataframe thead th {\n",
       "        text-align: right;\n",
       "    }\n",
       "</style>\n",
       "<table border=\"1\" class=\"dataframe\">\n",
       "  <thead>\n",
       "    <tr style=\"text-align: right;\">\n",
       "      <th></th>\n",
       "      <th>period</th>\n",
       "      <th>fre_sco_gt_1g</th>\n",
       "    </tr>\n",
       "  </thead>\n",
       "  <tbody>\n",
       "    <tr>\n",
       "      <th>0</th>\n",
       "      <td>1872-1888</td>\n",
       "      <td>0</td>\n",
       "    </tr>\n",
       "    <tr>\n",
       "      <th>1</th>\n",
       "      <td>1889-1905</td>\n",
       "      <td>0</td>\n",
       "    </tr>\n",
       "    <tr>\n",
       "      <th>2</th>\n",
       "      <td>1906-1922</td>\n",
       "      <td>2</td>\n",
       "    </tr>\n",
       "    <tr>\n",
       "      <th>3</th>\n",
       "      <td>1923-1939</td>\n",
       "      <td>64</td>\n",
       "    </tr>\n",
       "    <tr>\n",
       "      <th>4</th>\n",
       "      <td>1940-1956</td>\n",
       "      <td>53</td>\n",
       "    </tr>\n",
       "    <tr>\n",
       "      <th>5</th>\n",
       "      <td>1957-1973</td>\n",
       "      <td>116</td>\n",
       "    </tr>\n",
       "    <tr>\n",
       "      <th>6</th>\n",
       "      <td>1974-1990</td>\n",
       "      <td>100</td>\n",
       "    </tr>\n",
       "    <tr>\n",
       "      <th>7</th>\n",
       "      <td>1991-2007</td>\n",
       "      <td>346</td>\n",
       "    </tr>\n",
       "    <tr>\n",
       "      <th>8</th>\n",
       "      <td>2008-2024</td>\n",
       "      <td>273</td>\n",
       "    </tr>\n",
       "  </tbody>\n",
       "</table>\n",
       "</div>"
      ],
      "text/plain": [
       "      period  fre_sco_gt_1g\n",
       "0  1872-1888              0\n",
       "1  1889-1905              0\n",
       "2  1906-1922              2\n",
       "3  1923-1939             64\n",
       "4  1940-1956             53\n",
       "5  1957-1973            116\n",
       "6  1974-1990            100\n",
       "7  1991-2007            346\n",
       "8  2008-2024            273"
      ]
     },
     "execution_count": 83,
     "metadata": {},
     "output_type": "execute_result"
    }
   ],
   "source": [
    "period_fre_player_sco_gt_1g"
   ]
  },
  {
   "cell_type": "markdown",
   "metadata": {},
   "source": [
    "5. Trực quan hóa."
   ]
  },
  {
   "cell_type": "code",
   "execution_count": 84,
   "metadata": {},
   "outputs": [
    {
     "data": {
      "image/png": "[encoded data removed]",
      "text/plain": [
       "<Figure size 1000x600 with 1 Axes>"
      ]
     },
     "metadata": {},
     "output_type": "display_data"
    }
   ],
   "source": [
    "# Vẽ biểu đồ đường\n",
    "plt.figure(figsize=(10, 6))\n",
    "plt.plot(period_fre_player_sco_gt_1g['period'], period_fre_player_sco_gt_1g['fre_sco_gt_1g'], marker='o', color='orange')\n",
    "plt.title('Frequency of player scoring more than 1 goal in a match across periods')\n",
    "plt.xlabel('Periods')\n",
    "plt.ylabel('Frequency')\n",
    "plt.xticks(rotation=45, ha='right')\n",
    "plt.grid(axis='y', linestyle='--', alpha=0.6)\n",
    "plt.show()"
   ]
  },
  {
   "cell_type": "markdown",
   "metadata": {},
   "source": [
    "#### Conclusion"
   ]
  },
  {
   "cell_type": "markdown",
   "metadata": {},
   "source": [
    "- Số lần cầu thủ ghi trên 1 bàn thắng trong 1 trận đấu tăng dần qua thời gian.\n",
    "    - Trong giai đoạn đầu (1872–1922), tần suất cầu thủ ghi trên 1 bàn rất hiếm, có thể do chiến thuật thi đấu chưa hiện đại, số lượng trận đấu ít và quy mô bóng đá còn sơ khai.\n",
    "    - Từ giai đoạn 1923–1939 trở đi, số lần xuất hiện cầu thủ ghi trên 1 bàn bắt đầu tăng rõ rệt, cho thấy sự phát triển của bóng đá về mặt kỹ thuật, chiến thuật, và số trận đấu nhiều hơn.\n",
    "- Giai đoạn đỉnh cao (1991–2007):\n",
    "    - Tần suất đạt đỉnh trong giai đoạn này với 346 lần, cao hơn bất kỳ giai đoạn nào trước đó. Điều này phản ánh sự bùng nổ của các tài năng xuất sắc và chiến thuật tấn công hiện đại trong bóng đá lúc bấy giờ.\n",
    "    - Các giải đấu quốc tế cũng diễn ra thường xuyên hơn, kéo theo nhiều cơ hội hơn cho các cầu thủ lập thành tích.  \n",
    "- Giảm nhẹ trong giai đoạn gần đây (2008–2024):\n",
    "    - Mặc dù số lần ghi bàn vẫn cao với 273 lần nhưng có sự sụt giảm so với giai đoạn trước đó. \n",
    "    - Điều này có thể là do chiến thuật phòng ngự được cải thiện hoặc sự cạnh tranh ngày càng khốc liệt khiến việc ghi nhiều bàn thắng trong một trận đấu trở nên khó khăn hơn.\n",
    "- **Nhận định:**\n",
    "    - Ảnh hưởng của chiến thuật: Sự thay đổi trong chiến thuật thi đấu qua các thời kỳ đã tác động trực tiếp đến cơ hội lập cú đúp hoặc hat-trick của cầu thủ.\n",
    "    - Vai trò của cá nhân tài năng: Những cú đúp và hat-trick chủ yếu đến từ các siêu sao bóng đá, những người đã định hình lịch sử bóng đá trong từng giai đoạn.      "
   ]
  },
  {
   "cell_type": "markdown",
   "metadata": {},
   "source": [
    "---"
   ]
  },
  {
   "cell_type": "markdown",
   "metadata": {},
   "source": [
    "**Câu hỏi 6:**  câu hỏi của mình nha\n",
    "\n",
    "**Ý nghĩa**: lợi ích khi trả lời câu hỏi này\n",
    "\n",
    "**Các bước thực hiện**: ý tưởng làm câu hỏi này và nói cách làm"
   ]
  },
  {
   "cell_type": "markdown",
   "metadata": {},
   "source": [
    "#### Pre-processing"
   ]
  },
  {
   "cell_type": "code",
   "execution_count": 85,
   "metadata": {},
   "outputs": [],
   "source": [
    "# YOUR CODE HERE (OPTION) "
   ]
  },
  {
   "cell_type": "markdown",
   "metadata": {},
   "source": [
    "#### Analyzing to get the answer"
   ]
  },
  {
   "cell_type": "code",
   "execution_count": 86,
   "metadata": {},
   "outputs": [],
   "source": [
    "# YOUR CODE HERE"
   ]
  },
  {
   "cell_type": "markdown",
   "metadata": {},
   "source": [
    "#### Conclusion"
   ]
  },
  {
   "cell_type": "markdown",
   "metadata": {},
   "source": [
    "YOUR CODE HERE"
   ]
  },
  {
   "cell_type": "markdown",
   "metadata": {},
   "source": [
    "---"
   ]
  },
  {
   "cell_type": "markdown",
   "metadata": {},
   "source": [
    "**Câu hỏi 7:**  câu hỏi của mình nha\n",
    "\n",
    "**Ý nghĩa**: lợi ích khi trả lời câu hỏi này\n",
    "\n",
    "**Các bước thực hiện**: ý tưởng làm câu hỏi này và nói cách làm"
   ]
  },
  {
   "cell_type": "markdown",
   "metadata": {},
   "source": [
    "#### Pre-processing"
   ]
  },
  {
   "cell_type": "code",
   "execution_count": 87,
   "metadata": {},
   "outputs": [],
   "source": [
    "# YOUR CODE HERE (OPTION) "
   ]
  },
  {
   "cell_type": "markdown",
   "metadata": {},
   "source": [
    "#### Analyzing to get the answer"
   ]
  },
  {
   "cell_type": "code",
   "execution_count": 88,
   "metadata": {},
   "outputs": [],
   "source": [
    "# YOUR CODE HERE"
   ]
  },
  {
   "cell_type": "markdown",
   "metadata": {},
   "source": [
    "#### Your conclusion"
   ]
  },
  {
   "cell_type": "markdown",
   "metadata": {},
   "source": [
    "YOUR CODE HERE"
   ]
  },
  {
   "cell_type": "markdown",
   "metadata": {},
   "source": [
    "---"
   ]
  }
 ],
 "metadata": {
  "kernelspec": {
   "display_name": "min_ds-env2",
   "language": "python",
   "name": "python3"
  },
  "language_info": {
   "codemirror_mode": {
    "name": "ipython",
    "version": 3
   },
   "file_extension": ".py",
   "mimetype": "text/x-python",
   "name": "python",
   "nbconvert_exporter": "python",
   "pygments_lexer": "ipython3",
   "version": "3.10.15"
  }
 },
 "nbformat": 4,
 "nbformat_minor": 4
}
